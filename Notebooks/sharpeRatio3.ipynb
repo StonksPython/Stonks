{
  "nbformat": 4,
  "nbformat_minor": 0,
  "metadata": {
    "colab": {
      "name": "sharpeRatio3.ipynb",
      "provenance": [],
      "collapsed_sections": [],
      "authorship_tag": "ABX9TyOgQRQEgrVJUNmaZgwxZDrt",
      "include_colab_link": true
    },
    "kernelspec": {
      "name": "python3",
      "display_name": "Python 3"
    }
  },
  "cells": [
    {
      "cell_type": "markdown",
      "metadata": {
        "id": "view-in-github",
        "colab_type": "text"
      },
      "source": [
        "<a href=\"https://colab.research.google.com/github/moonbeam87/Stonks/blob/master/sharpeRatio3.ipynb\" target=\"_parent\"><img src=\"https://colab.research.google.com/assets/colab-badge.svg\" alt=\"Open In Colab\"/></a>"
      ]
    },
    {
      "cell_type": "code",
      "metadata": {
        "id": "-gymiTrbFLci",
        "colab_type": "code",
        "colab": {}
      },
      "source": [
        "import pandas as pd\n",
        "from pandas_datareader import data\n",
        "import matplotlib.pyplot as plt\n",
        "import pandas as pd\n",
        "import datetime as dt\n",
        "from fbprophet import Prophet\n",
        "import numpy as np\n",
        "fb = pd.read_csv('https://www.alphavantage.co/query?function=TIME_SERIES_DAILY&symbol=' + 'FB' +'&apikey=WCXVE7BAD668SJHL&datatype=csv')\n",
        "ibm = pd.read_csv('https://www.alphavantage.co/query?function=TIME_SERIES_DAILY&symbol=' + 'IBM' +'&apikey=WCXVE7BAD668SJHL&datatype=csv')\n",
        "amzn = pd.read_csv('https://www.alphavantage.co/query?function=TIME_SERIES_DAILY&symbol=' + 'AMZN' +'&apikey=WCXVE7BAD668SJHL&datatype=csv')\n",
        "google = pd.read_csv('https://www.alphavantage.co/query?function=TIME_SERIES_DAILY&symbol=' + 'GOOGL' +'&apikey=WCXVE7BAD668SJHL&datatype=csv')\n",
        "apple = pd.read_csv('https://www.alphavantage.co/query?function=TIME_SERIES_DAILY&symbol=' + 'AAPL' +'&apikey=WCXVE7BAD668SJHL&datatype=csv')\n",
        "for df in (fb, ibm, amzn, google, apple):\n",
        "    df = df.rename(columns={\"timestamp\":\"Date\"})\n",
        "    df = df.set_index('Date')\n",
        "    df = df.sort_index()\n",
        "    df['Normalized Return'] = df['close']/df.iloc[0]['close']\n"
      ],
      "execution_count": 0,
      "outputs": []
    },
    {
      "cell_type": "code",
      "metadata": {
        "id": "oI0xYOXhFOVP",
        "colab_type": "code",
        "colab": {
          "base_uri": "https://localhost:8080/",
          "height": 191
        },
        "outputId": "ec6259d3-f415-4bf7-bc39-a9a3cdfdd81f"
      },
      "source": [
        "fb.head()"
      ],
      "execution_count": 5,
      "outputs": [
        {
          "output_type": "execute_result",
          "data": {
            "text/html": [
              "<div>\n",
              "<style scoped>\n",
              "    .dataframe tbody tr th:only-of-type {\n",
              "        vertical-align: middle;\n",
              "    }\n",
              "\n",
              "    .dataframe tbody tr th {\n",
              "        vertical-align: top;\n",
              "    }\n",
              "\n",
              "    .dataframe thead th {\n",
              "        text-align: right;\n",
              "    }\n",
              "</style>\n",
              "<table border=\"1\" class=\"dataframe\">\n",
              "  <thead>\n",
              "    <tr style=\"text-align: right;\">\n",
              "      <th></th>\n",
              "      <th>timestamp</th>\n",
              "      <th>open</th>\n",
              "      <th>high</th>\n",
              "      <th>low</th>\n",
              "      <th>close</th>\n",
              "      <th>volume</th>\n",
              "    </tr>\n",
              "  </thead>\n",
              "  <tbody>\n",
              "    <tr>\n",
              "      <th>0</th>\n",
              "      <td>2020-04-17</td>\n",
              "      <td>179.2000</td>\n",
              "      <td>180.280</td>\n",
              "      <td>176.66</td>\n",
              "      <td>179.24</td>\n",
              "      <td>20574003</td>\n",
              "    </tr>\n",
              "    <tr>\n",
              "      <th>1</th>\n",
              "      <td>2020-04-16</td>\n",
              "      <td>177.9500</td>\n",
              "      <td>178.050</td>\n",
              "      <td>172.51</td>\n",
              "      <td>176.25</td>\n",
              "      <td>23593229</td>\n",
              "    </tr>\n",
              "    <tr>\n",
              "      <th>2</th>\n",
              "      <td>2020-04-15</td>\n",
              "      <td>175.1865</td>\n",
              "      <td>178.190</td>\n",
              "      <td>172.82</td>\n",
              "      <td>176.97</td>\n",
              "      <td>17423003</td>\n",
              "    </tr>\n",
              "    <tr>\n",
              "      <th>3</th>\n",
              "      <td>2020-04-14</td>\n",
              "      <td>178.9765</td>\n",
              "      <td>181.225</td>\n",
              "      <td>176.62</td>\n",
              "      <td>178.17</td>\n",
              "      <td>21011815</td>\n",
              "    </tr>\n",
              "    <tr>\n",
              "      <th>4</th>\n",
              "      <td>2020-04-13</td>\n",
              "      <td>173.6700</td>\n",
              "      <td>175.000</td>\n",
              "      <td>169.45</td>\n",
              "      <td>174.79</td>\n",
              "      <td>19355355</td>\n",
              "    </tr>\n",
              "  </tbody>\n",
              "</table>\n",
              "</div>"
            ],
            "text/plain": [
              "    timestamp      open     high     low   close    volume\n",
              "0  2020-04-17  179.2000  180.280  176.66  179.24  20574003\n",
              "1  2020-04-16  177.9500  178.050  172.51  176.25  23593229\n",
              "2  2020-04-15  175.1865  178.190  172.82  176.97  17423003\n",
              "3  2020-04-14  178.9765  181.225  176.62  178.17  21011815\n",
              "4  2020-04-13  173.6700  175.000  169.45  174.79  19355355"
            ]
          },
          "metadata": {
            "tags": []
          },
          "execution_count": 5
        }
      ]
    },
    {
      "cell_type": "code",
      "metadata": {
        "id": "HAi2II0dFzFk",
        "colab_type": "code",
        "colab": {}
      },
      "source": [
        "fb = fb.rename(columns={'timestamp':'Date'})\n",
        "fb = fb.set_index('Date')\n",
        "fb = fb.sort_index()"
      ],
      "execution_count": 0,
      "outputs": []
    },
    {
      "cell_type": "code",
      "metadata": {
        "id": "mLZ0aG3cGNGn",
        "colab_type": "code",
        "colab": {
          "base_uri": "https://localhost:8080/",
          "height": 220
        },
        "outputId": "ba482739-e77c-4cfe-e1cd-0f52c3c91f85"
      },
      "source": [
        "fb.head()"
      ],
      "execution_count": 7,
      "outputs": [
        {
          "output_type": "execute_result",
          "data": {
            "text/html": [
              "<div>\n",
              "<style scoped>\n",
              "    .dataframe tbody tr th:only-of-type {\n",
              "        vertical-align: middle;\n",
              "    }\n",
              "\n",
              "    .dataframe tbody tr th {\n",
              "        vertical-align: top;\n",
              "    }\n",
              "\n",
              "    .dataframe thead th {\n",
              "        text-align: right;\n",
              "    }\n",
              "</style>\n",
              "<table border=\"1\" class=\"dataframe\">\n",
              "  <thead>\n",
              "    <tr style=\"text-align: right;\">\n",
              "      <th></th>\n",
              "      <th>open</th>\n",
              "      <th>high</th>\n",
              "      <th>low</th>\n",
              "      <th>close</th>\n",
              "      <th>volume</th>\n",
              "    </tr>\n",
              "    <tr>\n",
              "      <th>Date</th>\n",
              "      <th></th>\n",
              "      <th></th>\n",
              "      <th></th>\n",
              "      <th></th>\n",
              "      <th></th>\n",
              "    </tr>\n",
              "  </thead>\n",
              "  <tbody>\n",
              "    <tr>\n",
              "      <th>2019-11-22</th>\n",
              "      <td>198.380</td>\n",
              "      <td>199.30</td>\n",
              "      <td>197.6200</td>\n",
              "      <td>198.82</td>\n",
              "      <td>9959817</td>\n",
              "    </tr>\n",
              "    <tr>\n",
              "      <th>2019-11-25</th>\n",
              "      <td>199.515</td>\n",
              "      <td>200.97</td>\n",
              "      <td>199.2500</td>\n",
              "      <td>199.79</td>\n",
              "      <td>15286442</td>\n",
              "    </tr>\n",
              "    <tr>\n",
              "      <th>2019-11-26</th>\n",
              "      <td>200.000</td>\n",
              "      <td>200.15</td>\n",
              "      <td>198.0387</td>\n",
              "      <td>198.97</td>\n",
              "      <td>11748664</td>\n",
              "    </tr>\n",
              "    <tr>\n",
              "      <th>2019-11-27</th>\n",
              "      <td>199.900</td>\n",
              "      <td>203.14</td>\n",
              "      <td>199.4200</td>\n",
              "      <td>202.00</td>\n",
              "      <td>12760568</td>\n",
              "    </tr>\n",
              "    <tr>\n",
              "      <th>2019-11-29</th>\n",
              "      <td>201.600</td>\n",
              "      <td>203.80</td>\n",
              "      <td>201.2100</td>\n",
              "      <td>201.64</td>\n",
              "      <td>7985231</td>\n",
              "    </tr>\n",
              "  </tbody>\n",
              "</table>\n",
              "</div>"
            ],
            "text/plain": [
              "               open    high       low   close    volume\n",
              "Date                                                   \n",
              "2019-11-22  198.380  199.30  197.6200  198.82   9959817\n",
              "2019-11-25  199.515  200.97  199.2500  199.79  15286442\n",
              "2019-11-26  200.000  200.15  198.0387  198.97  11748664\n",
              "2019-11-27  199.900  203.14  199.4200  202.00  12760568\n",
              "2019-11-29  201.600  203.80  201.2100  201.64   7985231"
            ]
          },
          "metadata": {
            "tags": []
          },
          "execution_count": 7
        }
      ]
    },
    {
      "cell_type": "code",
      "metadata": {
        "id": "IXj_5pc5GN0m",
        "colab_type": "code",
        "colab": {}
      },
      "source": [
        "def getData(name):\n",
        "  df = pd.read_csv('https://www.alphavantage.co/query?function=TIME_SERIES_DAILY&symbol=' + name +'&apikey=WCXVE7BAD668SJHL&datatype=csv')\n",
        "  df = df.rename(columns={'timestamp':'Date'})\n",
        "  df = df.set_index('Date')\n",
        "  df = df.sort_index()"
      ],
      "execution_count": 0,
      "outputs": []
    },
    {
      "cell_type": "code",
      "metadata": {
        "id": "osj85VlbGv0z",
        "colab_type": "code",
        "colab": {}
      },
      "source": [
        "def getData(name):\n",
        "  df = pd.read_csv('https://www.alphavantage.co/query?function=TIME_SERIES_DAILY&symbol=' + name +'&apikey=WCXVE7BAD668SJHL&datatype=csv')\n",
        "  df = df.rename(columns={'timestamp':'Date'})\n",
        "  df = df.set_index('Date')\n",
        "  df = df.sort_index()\n",
        "  return df"
      ],
      "execution_count": 0,
      "outputs": []
    },
    {
      "cell_type": "code",
      "metadata": {
        "id": "kyA4nkGLGyTl",
        "colab_type": "code",
        "colab": {}
      },
      "source": [
        "fb = getData('FB')\n",
        "apple = getData('AAPL')\n",
        "google = getData('GOOGL')\n",
        "ibm = getData('IBM')\n",
        "amzn = getData('AMZN')"
      ],
      "execution_count": 0,
      "outputs": []
    },
    {
      "cell_type": "code",
      "metadata": {
        "id": "OM1j2P8YHB0A",
        "colab_type": "code",
        "colab": {
          "base_uri": "https://localhost:8080/",
          "height": 220
        },
        "outputId": "60e15d29-a193-4742-9228-33880f12606a"
      },
      "source": [
        "fb.head()"
      ],
      "execution_count": 11,
      "outputs": [
        {
          "output_type": "execute_result",
          "data": {
            "text/html": [
              "<div>\n",
              "<style scoped>\n",
              "    .dataframe tbody tr th:only-of-type {\n",
              "        vertical-align: middle;\n",
              "    }\n",
              "\n",
              "    .dataframe tbody tr th {\n",
              "        vertical-align: top;\n",
              "    }\n",
              "\n",
              "    .dataframe thead th {\n",
              "        text-align: right;\n",
              "    }\n",
              "</style>\n",
              "<table border=\"1\" class=\"dataframe\">\n",
              "  <thead>\n",
              "    <tr style=\"text-align: right;\">\n",
              "      <th></th>\n",
              "      <th>open</th>\n",
              "      <th>high</th>\n",
              "      <th>low</th>\n",
              "      <th>close</th>\n",
              "      <th>volume</th>\n",
              "    </tr>\n",
              "    <tr>\n",
              "      <th>Date</th>\n",
              "      <th></th>\n",
              "      <th></th>\n",
              "      <th></th>\n",
              "      <th></th>\n",
              "      <th></th>\n",
              "    </tr>\n",
              "  </thead>\n",
              "  <tbody>\n",
              "    <tr>\n",
              "      <th>2019-11-22</th>\n",
              "      <td>198.380</td>\n",
              "      <td>199.30</td>\n",
              "      <td>197.6200</td>\n",
              "      <td>198.82</td>\n",
              "      <td>9959817</td>\n",
              "    </tr>\n",
              "    <tr>\n",
              "      <th>2019-11-25</th>\n",
              "      <td>199.515</td>\n",
              "      <td>200.97</td>\n",
              "      <td>199.2500</td>\n",
              "      <td>199.79</td>\n",
              "      <td>15286442</td>\n",
              "    </tr>\n",
              "    <tr>\n",
              "      <th>2019-11-26</th>\n",
              "      <td>200.000</td>\n",
              "      <td>200.15</td>\n",
              "      <td>198.0387</td>\n",
              "      <td>198.97</td>\n",
              "      <td>11748664</td>\n",
              "    </tr>\n",
              "    <tr>\n",
              "      <th>2019-11-27</th>\n",
              "      <td>199.900</td>\n",
              "      <td>203.14</td>\n",
              "      <td>199.4200</td>\n",
              "      <td>202.00</td>\n",
              "      <td>12760568</td>\n",
              "    </tr>\n",
              "    <tr>\n",
              "      <th>2019-11-29</th>\n",
              "      <td>201.600</td>\n",
              "      <td>203.80</td>\n",
              "      <td>201.2100</td>\n",
              "      <td>201.64</td>\n",
              "      <td>7985231</td>\n",
              "    </tr>\n",
              "  </tbody>\n",
              "</table>\n",
              "</div>"
            ],
            "text/plain": [
              "               open    high       low   close    volume\n",
              "Date                                                   \n",
              "2019-11-22  198.380  199.30  197.6200  198.82   9959817\n",
              "2019-11-25  199.515  200.97  199.2500  199.79  15286442\n",
              "2019-11-26  200.000  200.15  198.0387  198.97  11748664\n",
              "2019-11-27  199.900  203.14  199.4200  202.00  12760568\n",
              "2019-11-29  201.600  203.80  201.2100  201.64   7985231"
            ]
          },
          "metadata": {
            "tags": []
          },
          "execution_count": 11
        }
      ]
    },
    {
      "cell_type": "code",
      "metadata": {
        "id": "-19hfLs0HDoS",
        "colab_type": "code",
        "colab": {
          "base_uri": "https://localhost:8080/",
          "height": 220
        },
        "outputId": "af25b127-4ac5-4adb-9d40-d603008c96c2"
      },
      "source": [
        "apple.head()"
      ],
      "execution_count": 12,
      "outputs": [
        {
          "output_type": "execute_result",
          "data": {
            "text/html": [
              "<div>\n",
              "<style scoped>\n",
              "    .dataframe tbody tr th:only-of-type {\n",
              "        vertical-align: middle;\n",
              "    }\n",
              "\n",
              "    .dataframe tbody tr th {\n",
              "        vertical-align: top;\n",
              "    }\n",
              "\n",
              "    .dataframe thead th {\n",
              "        text-align: right;\n",
              "    }\n",
              "</style>\n",
              "<table border=\"1\" class=\"dataframe\">\n",
              "  <thead>\n",
              "    <tr style=\"text-align: right;\">\n",
              "      <th></th>\n",
              "      <th>open</th>\n",
              "      <th>high</th>\n",
              "      <th>low</th>\n",
              "      <th>close</th>\n",
              "      <th>volume</th>\n",
              "    </tr>\n",
              "    <tr>\n",
              "      <th>Date</th>\n",
              "      <th></th>\n",
              "      <th></th>\n",
              "      <th></th>\n",
              "      <th></th>\n",
              "      <th></th>\n",
              "    </tr>\n",
              "  </thead>\n",
              "  <tbody>\n",
              "    <tr>\n",
              "      <th>2019-11-22</th>\n",
              "      <td>262.59</td>\n",
              "      <td>263.18</td>\n",
              "      <td>260.84</td>\n",
              "      <td>261.78</td>\n",
              "      <td>16331263</td>\n",
              "    </tr>\n",
              "    <tr>\n",
              "      <th>2019-11-25</th>\n",
              "      <td>262.71</td>\n",
              "      <td>266.44</td>\n",
              "      <td>262.52</td>\n",
              "      <td>266.37</td>\n",
              "      <td>21029517</td>\n",
              "    </tr>\n",
              "    <tr>\n",
              "      <th>2019-11-26</th>\n",
              "      <td>266.94</td>\n",
              "      <td>267.16</td>\n",
              "      <td>262.50</td>\n",
              "      <td>264.29</td>\n",
              "      <td>26334882</td>\n",
              "    </tr>\n",
              "    <tr>\n",
              "      <th>2019-11-27</th>\n",
              "      <td>265.58</td>\n",
              "      <td>267.98</td>\n",
              "      <td>265.31</td>\n",
              "      <td>267.84</td>\n",
              "      <td>16386122</td>\n",
              "    </tr>\n",
              "    <tr>\n",
              "      <th>2019-11-29</th>\n",
              "      <td>266.60</td>\n",
              "      <td>268.00</td>\n",
              "      <td>265.90</td>\n",
              "      <td>267.25</td>\n",
              "      <td>11654363</td>\n",
              "    </tr>\n",
              "  </tbody>\n",
              "</table>\n",
              "</div>"
            ],
            "text/plain": [
              "              open    high     low   close    volume\n",
              "Date                                                \n",
              "2019-11-22  262.59  263.18  260.84  261.78  16331263\n",
              "2019-11-25  262.71  266.44  262.52  266.37  21029517\n",
              "2019-11-26  266.94  267.16  262.50  264.29  26334882\n",
              "2019-11-27  265.58  267.98  265.31  267.84  16386122\n",
              "2019-11-29  266.60  268.00  265.90  267.25  11654363"
            ]
          },
          "metadata": {
            "tags": []
          },
          "execution_count": 12
        }
      ]
    },
    {
      "cell_type": "code",
      "metadata": {
        "id": "-JGRgIeTHF0w",
        "colab_type": "code",
        "colab": {
          "base_uri": "https://localhost:8080/",
          "height": 220
        },
        "outputId": "539b435a-ae2b-4e64-9ee6-2dfb4e360754"
      },
      "source": [
        "google.head()"
      ],
      "execution_count": 13,
      "outputs": [
        {
          "output_type": "execute_result",
          "data": {
            "text/html": [
              "<div>\n",
              "<style scoped>\n",
              "    .dataframe tbody tr th:only-of-type {\n",
              "        vertical-align: middle;\n",
              "    }\n",
              "\n",
              "    .dataframe tbody tr th {\n",
              "        vertical-align: top;\n",
              "    }\n",
              "\n",
              "    .dataframe thead th {\n",
              "        text-align: right;\n",
              "    }\n",
              "</style>\n",
              "<table border=\"1\" class=\"dataframe\">\n",
              "  <thead>\n",
              "    <tr style=\"text-align: right;\">\n",
              "      <th></th>\n",
              "      <th>open</th>\n",
              "      <th>high</th>\n",
              "      <th>low</th>\n",
              "      <th>close</th>\n",
              "      <th>volume</th>\n",
              "    </tr>\n",
              "    <tr>\n",
              "      <th>Date</th>\n",
              "      <th></th>\n",
              "      <th></th>\n",
              "      <th></th>\n",
              "      <th></th>\n",
              "      <th></th>\n",
              "    </tr>\n",
              "  </thead>\n",
              "  <tbody>\n",
              "    <tr>\n",
              "      <th>2019-11-22</th>\n",
              "      <td>1303.00</td>\n",
              "      <td>1306.90</td>\n",
              "      <td>1289.36</td>\n",
              "      <td>1293.67</td>\n",
              "      <td>1388912</td>\n",
              "    </tr>\n",
              "    <tr>\n",
              "      <th>2019-11-25</th>\n",
              "      <td>1296.26</td>\n",
              "      <td>1310.41</td>\n",
              "      <td>1295.61</td>\n",
              "      <td>1305.64</td>\n",
              "      <td>1179658</td>\n",
              "    </tr>\n",
              "    <tr>\n",
              "      <th>2019-11-26</th>\n",
              "      <td>1309.91</td>\n",
              "      <td>1314.01</td>\n",
              "      <td>1304.04</td>\n",
              "      <td>1313.00</td>\n",
              "      <td>1097089</td>\n",
              "    </tr>\n",
              "    <tr>\n",
              "      <th>2019-11-27</th>\n",
              "      <td>1315.42</td>\n",
              "      <td>1317.64</td>\n",
              "      <td>1309.47</td>\n",
              "      <td>1312.13</td>\n",
              "      <td>940536</td>\n",
              "    </tr>\n",
              "    <tr>\n",
              "      <th>2019-11-29</th>\n",
              "      <td>1306.60</td>\n",
              "      <td>1309.95</td>\n",
              "      <td>1303.23</td>\n",
              "      <td>1304.09</td>\n",
              "      <td>640069</td>\n",
              "    </tr>\n",
              "  </tbody>\n",
              "</table>\n",
              "</div>"
            ],
            "text/plain": [
              "               open     high      low    close   volume\n",
              "Date                                                   \n",
              "2019-11-22  1303.00  1306.90  1289.36  1293.67  1388912\n",
              "2019-11-25  1296.26  1310.41  1295.61  1305.64  1179658\n",
              "2019-11-26  1309.91  1314.01  1304.04  1313.00  1097089\n",
              "2019-11-27  1315.42  1317.64  1309.47  1312.13   940536\n",
              "2019-11-29  1306.60  1309.95  1303.23  1304.09   640069"
            ]
          },
          "metadata": {
            "tags": []
          },
          "execution_count": 13
        }
      ]
    },
    {
      "cell_type": "code",
      "metadata": {
        "id": "f8v6OSrHHIUZ",
        "colab_type": "code",
        "colab": {
          "base_uri": "https://localhost:8080/",
          "height": 220
        },
        "outputId": "22ca07e4-541b-4c85-ceb1-f69d41a55502"
      },
      "source": [
        "ibm.head()"
      ],
      "execution_count": 14,
      "outputs": [
        {
          "output_type": "execute_result",
          "data": {
            "text/html": [
              "<div>\n",
              "<style scoped>\n",
              "    .dataframe tbody tr th:only-of-type {\n",
              "        vertical-align: middle;\n",
              "    }\n",
              "\n",
              "    .dataframe tbody tr th {\n",
              "        vertical-align: top;\n",
              "    }\n",
              "\n",
              "    .dataframe thead th {\n",
              "        text-align: right;\n",
              "    }\n",
              "</style>\n",
              "<table border=\"1\" class=\"dataframe\">\n",
              "  <thead>\n",
              "    <tr style=\"text-align: right;\">\n",
              "      <th></th>\n",
              "      <th>open</th>\n",
              "      <th>high</th>\n",
              "      <th>low</th>\n",
              "      <th>close</th>\n",
              "      <th>volume</th>\n",
              "    </tr>\n",
              "    <tr>\n",
              "      <th>Date</th>\n",
              "      <th></th>\n",
              "      <th></th>\n",
              "      <th></th>\n",
              "      <th></th>\n",
              "      <th></th>\n",
              "    </tr>\n",
              "  </thead>\n",
              "  <tbody>\n",
              "    <tr>\n",
              "      <th>2019-11-22</th>\n",
              "      <td>134.19</td>\n",
              "      <td>134.65</td>\n",
              "      <td>133.59</td>\n",
              "      <td>134.34</td>\n",
              "      <td>3297397</td>\n",
              "    </tr>\n",
              "    <tr>\n",
              "      <th>2019-11-25</th>\n",
              "      <td>134.47</td>\n",
              "      <td>136.00</td>\n",
              "      <td>134.35</td>\n",
              "      <td>135.97</td>\n",
              "      <td>2590146</td>\n",
              "    </tr>\n",
              "    <tr>\n",
              "      <th>2019-11-26</th>\n",
              "      <td>136.15</td>\n",
              "      <td>136.15</td>\n",
              "      <td>134.77</td>\n",
              "      <td>135.09</td>\n",
              "      <td>3806859</td>\n",
              "    </tr>\n",
              "    <tr>\n",
              "      <th>2019-11-27</th>\n",
              "      <td>135.35</td>\n",
              "      <td>135.71</td>\n",
              "      <td>133.62</td>\n",
              "      <td>133.77</td>\n",
              "      <td>3280699</td>\n",
              "    </tr>\n",
              "    <tr>\n",
              "      <th>2019-11-29</th>\n",
              "      <td>133.60</td>\n",
              "      <td>134.52</td>\n",
              "      <td>133.03</td>\n",
              "      <td>134.45</td>\n",
              "      <td>1825255</td>\n",
              "    </tr>\n",
              "  </tbody>\n",
              "</table>\n",
              "</div>"
            ],
            "text/plain": [
              "              open    high     low   close   volume\n",
              "Date                                               \n",
              "2019-11-22  134.19  134.65  133.59  134.34  3297397\n",
              "2019-11-25  134.47  136.00  134.35  135.97  2590146\n",
              "2019-11-26  136.15  136.15  134.77  135.09  3806859\n",
              "2019-11-27  135.35  135.71  133.62  133.77  3280699\n",
              "2019-11-29  133.60  134.52  133.03  134.45  1825255"
            ]
          },
          "metadata": {
            "tags": []
          },
          "execution_count": 14
        }
      ]
    },
    {
      "cell_type": "code",
      "metadata": {
        "id": "-XwIAZo1HMPm",
        "colab_type": "code",
        "colab": {
          "base_uri": "https://localhost:8080/",
          "height": 220
        },
        "outputId": "c1c37c77-92dc-465b-f3c3-bdb19e097f23"
      },
      "source": [
        "amzn.head()"
      ],
      "execution_count": 16,
      "outputs": [
        {
          "output_type": "execute_result",
          "data": {
            "text/html": [
              "<div>\n",
              "<style scoped>\n",
              "    .dataframe tbody tr th:only-of-type {\n",
              "        vertical-align: middle;\n",
              "    }\n",
              "\n",
              "    .dataframe tbody tr th {\n",
              "        vertical-align: top;\n",
              "    }\n",
              "\n",
              "    .dataframe thead th {\n",
              "        text-align: right;\n",
              "    }\n",
              "</style>\n",
              "<table border=\"1\" class=\"dataframe\">\n",
              "  <thead>\n",
              "    <tr style=\"text-align: right;\">\n",
              "      <th></th>\n",
              "      <th>open</th>\n",
              "      <th>high</th>\n",
              "      <th>low</th>\n",
              "      <th>close</th>\n",
              "      <th>volume</th>\n",
              "    </tr>\n",
              "    <tr>\n",
              "      <th>Date</th>\n",
              "      <th></th>\n",
              "      <th></th>\n",
              "      <th></th>\n",
              "      <th></th>\n",
              "      <th></th>\n",
              "    </tr>\n",
              "  </thead>\n",
              "  <tbody>\n",
              "    <tr>\n",
              "      <th>2019-11-22</th>\n",
              "      <td>1739.02</td>\n",
              "      <td>1746.43</td>\n",
              "      <td>1731.00</td>\n",
              "      <td>1745.72</td>\n",
              "      <td>2479081</td>\n",
              "    </tr>\n",
              "    <tr>\n",
              "      <th>2019-11-25</th>\n",
              "      <td>1753.25</td>\n",
              "      <td>1777.42</td>\n",
              "      <td>1753.24</td>\n",
              "      <td>1773.84</td>\n",
              "      <td>3489467</td>\n",
              "    </tr>\n",
              "    <tr>\n",
              "      <th>2019-11-26</th>\n",
              "      <td>1779.92</td>\n",
              "      <td>1797.03</td>\n",
              "      <td>1778.35</td>\n",
              "      <td>1796.94</td>\n",
              "      <td>3190428</td>\n",
              "    </tr>\n",
              "    <tr>\n",
              "      <th>2019-11-27</th>\n",
              "      <td>1801.00</td>\n",
              "      <td>1824.50</td>\n",
              "      <td>1797.31</td>\n",
              "      <td>1818.51</td>\n",
              "      <td>3035846</td>\n",
              "    </tr>\n",
              "    <tr>\n",
              "      <th>2019-11-29</th>\n",
              "      <td>1817.78</td>\n",
              "      <td>1824.69</td>\n",
              "      <td>1800.79</td>\n",
              "      <td>1800.80</td>\n",
              "      <td>1923440</td>\n",
              "    </tr>\n",
              "  </tbody>\n",
              "</table>\n",
              "</div>"
            ],
            "text/plain": [
              "               open     high      low    close   volume\n",
              "Date                                                   \n",
              "2019-11-22  1739.02  1746.43  1731.00  1745.72  2479081\n",
              "2019-11-25  1753.25  1777.42  1753.24  1773.84  3489467\n",
              "2019-11-26  1779.92  1797.03  1778.35  1796.94  3190428\n",
              "2019-11-27  1801.00  1824.50  1797.31  1818.51  3035846\n",
              "2019-11-29  1817.78  1824.69  1800.79  1800.80  1923440"
            ]
          },
          "metadata": {
            "tags": []
          },
          "execution_count": 16
        }
      ]
    },
    {
      "cell_type": "code",
      "metadata": {
        "id": "waNZ9u-yHTN4",
        "colab_type": "code",
        "colab": {}
      },
      "source": [
        "def getData(name):\n",
        "  df = pd.read_csv('https://www.alphavantage.co/query?function=TIME_SERIES_DAILY&symbol=' + name +'&apikey=WCXVE7BAD668SJHL&datatype=csv')\n",
        "  df = df.rename(columns={'timestamp':'Date'})\n",
        "  df = df.set_index('Date')\n",
        "  df = df.sort_index()\n",
        "  df = df.reset_index()\n",
        "  return df"
      ],
      "execution_count": 0,
      "outputs": []
    },
    {
      "cell_type": "code",
      "metadata": {
        "id": "dhjkGqxOIZKU",
        "colab_type": "code",
        "colab": {}
      },
      "source": [
        ""
      ],
      "execution_count": 0,
      "outputs": []
    }
  ]
}