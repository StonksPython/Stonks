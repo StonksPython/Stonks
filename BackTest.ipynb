{
  "nbformat": 4,
  "nbformat_minor": 0,
  "metadata": {
    "colab": {
      "name": "BackTest.ipynb",
      "provenance": [],
      "collapsed_sections": [],
      "authorship_tag": "ABX9TyM0InGZMiNsD34cwcxPo5rf",
      "include_colab_link": true
    },
    "kernelspec": {
      "name": "python3",
      "display_name": "Python 3"
    }
  },
  "cells": [
    {
      "cell_type": "markdown",
      "metadata": {
        "id": "view-in-github",
        "colab_type": "text"
      },
      "source": [
        "<a href=\"https://colab.research.google.com/github/moonbeam87/Stonks/blob/master/BackTest.ipynb\" target=\"_parent\"><img src=\"https://colab.research.google.com/assets/colab-badge.svg\" alt=\"Open In Colab\"/></a>"
      ]
    },
    {
      "cell_type": "markdown",
      "metadata": {
        "id": "GZokMh5nD03Q",
        "colab_type": "text"
      },
      "source": [
        "#Basic Backtesting\n",
        "\n",
        "Well, it's not acutally a backtest, it's more or less just testing how accurate prophet predictions are, and whether they are a good measure of stock performance. Another testing point is how much the sharpe ratio and portfolio optimization will affect the returns on the stocks "
      ]
    },
    {
      "cell_type": "code",
      "metadata": {
        "id": "th_b21ujDy0N",
        "colab_type": "code",
        "colab": {}
      },
      "source": [
        "import pandas as pd\n",
        "from pandas_datareader import data\n",
        "import matplotlib.pyplot as plt\n",
        "import pandas as pd\n",
        "import datetime as dt\n",
        "from fbprophet import Prophet\n",
        "import numpy as np\n",
        "from tqdm import tqdm\n",
        "import time\n",
        "def get_dataframe(name):\n",
        "    df = pd.read_csv('https://www.alphavantage.co/query?function=TIME_SERIES_DAILY&symbol=' + name +'&apikey=WCXVE7BAD668SJHL&datatype=csv&outputsize=full')\n",
        "    df = df.rename(columns={\"timestamp\":\"Date\"})\n",
        "    df = df.set_index(df['Date'])\n",
        "    df = df.sort_index()\n",
        "    df = df.drop(columns=['open', 'low', 'high', 'volume', 'Date'])\n",
        "    return df\n",
        "def run_prophet(df):\n",
        "    df = df.rename(columns={\"timestamp\": \"Date\"})\n",
        "    df = df.reset_index(0)\n",
        "    df = df.drop(columns=['open', 'low', 'close', 'volume'])\n",
        "    df = df.rename(columns={\"Date\": \"ds\", \"high\": \"y\"})\n",
        "    m = Prophet()\n",
        "    m.fit(df)\n",
        "    future = m.make_future_dataframe(periods=5)\n",
        "    forecast = m.predict(future)\n",
        "    i = forecast[['yhat']].iloc[-1]\n",
        "    return i['yhat']\n",
        "def get_series(names):\n",
        "    series = []\n",
        "    for name in names:\n",
        "        df = get_dataframe(name)\n",
        "        series.append(df)\n",
        "    return series\n",
        "#main is here\n",
        "names = ['AAPL', 'GOOGL', 'FB', 'IBM', 'AMZN']\n",
        "series = get_series(names)"
      ],
      "execution_count": 0,
      "outputs": []
    },
    {
      "cell_type": "code",
      "metadata": {
        "id": "Xem6tl5KElyv",
        "colab_type": "code",
        "colab": {
          "base_uri": "https://localhost:8080/",
          "height": 419
        },
        "outputId": "de95ce67-7b7f-4510-8f09-f4287b7acaac"
      },
      "source": [
        "stocks = pd.concat(series, axis = 1)\n",
        "stocks"
      ],
      "execution_count": 19,
      "outputs": [
        {
          "output_type": "execute_result",
          "data": {
            "text/html": [
              "<div>\n",
              "<style scoped>\n",
              "    .dataframe tbody tr th:only-of-type {\n",
              "        vertical-align: middle;\n",
              "    }\n",
              "\n",
              "    .dataframe tbody tr th {\n",
              "        vertical-align: top;\n",
              "    }\n",
              "\n",
              "    .dataframe thead th {\n",
              "        text-align: right;\n",
              "    }\n",
              "</style>\n",
              "<table border=\"1\" class=\"dataframe\">\n",
              "  <thead>\n",
              "    <tr style=\"text-align: right;\">\n",
              "      <th></th>\n",
              "      <th>close</th>\n",
              "      <th>close</th>\n",
              "      <th>close</th>\n",
              "      <th>close</th>\n",
              "      <th>close</th>\n",
              "    </tr>\n",
              "  </thead>\n",
              "  <tbody>\n",
              "    <tr>\n",
              "      <th>2000-04-17</th>\n",
              "      <td>123.87</td>\n",
              "      <td>NaN</td>\n",
              "      <td>NaN</td>\n",
              "      <td>111.87</td>\n",
              "      <td>47.06</td>\n",
              "    </tr>\n",
              "    <tr>\n",
              "      <th>2000-04-18</th>\n",
              "      <td>126.87</td>\n",
              "      <td>NaN</td>\n",
              "      <td>NaN</td>\n",
              "      <td>111.50</td>\n",
              "      <td>54.94</td>\n",
              "    </tr>\n",
              "    <tr>\n",
              "      <th>2000-04-19</th>\n",
              "      <td>121.12</td>\n",
              "      <td>NaN</td>\n",
              "      <td>NaN</td>\n",
              "      <td>105.00</td>\n",
              "      <td>53.44</td>\n",
              "    </tr>\n",
              "    <tr>\n",
              "      <th>2000-04-20</th>\n",
              "      <td>118.87</td>\n",
              "      <td>NaN</td>\n",
              "      <td>NaN</td>\n",
              "      <td>104.00</td>\n",
              "      <td>52.38</td>\n",
              "    </tr>\n",
              "    <tr>\n",
              "      <th>2000-04-24</th>\n",
              "      <td>120.50</td>\n",
              "      <td>NaN</td>\n",
              "      <td>NaN</td>\n",
              "      <td>106.50</td>\n",
              "      <td>49.81</td>\n",
              "    </tr>\n",
              "    <tr>\n",
              "      <th>...</th>\n",
              "      <td>...</td>\n",
              "      <td>...</td>\n",
              "      <td>...</td>\n",
              "      <td>...</td>\n",
              "      <td>...</td>\n",
              "    </tr>\n",
              "    <tr>\n",
              "      <th>2020-04-13</th>\n",
              "      <td>273.25</td>\n",
              "      <td>1210.41</td>\n",
              "      <td>174.79</td>\n",
              "      <td>121.15</td>\n",
              "      <td>2168.87</td>\n",
              "    </tr>\n",
              "    <tr>\n",
              "      <th>2020-04-14</th>\n",
              "      <td>287.05</td>\n",
              "      <td>1265.23</td>\n",
              "      <td>178.17</td>\n",
              "      <td>123.91</td>\n",
              "      <td>2283.32</td>\n",
              "    </tr>\n",
              "    <tr>\n",
              "      <th>2020-04-15</th>\n",
              "      <td>284.43</td>\n",
              "      <td>1257.30</td>\n",
              "      <td>176.97</td>\n",
              "      <td>118.69</td>\n",
              "      <td>2307.68</td>\n",
              "    </tr>\n",
              "    <tr>\n",
              "      <th>2020-04-16</th>\n",
              "      <td>286.69</td>\n",
              "      <td>1257.43</td>\n",
              "      <td>176.25</td>\n",
              "      <td>115.73</td>\n",
              "      <td>2408.19</td>\n",
              "    </tr>\n",
              "    <tr>\n",
              "      <th>2020-04-17</th>\n",
              "      <td>282.80</td>\n",
              "      <td>1279.00</td>\n",
              "      <td>179.24</td>\n",
              "      <td>120.12</td>\n",
              "      <td>2375.00</td>\n",
              "    </tr>\n",
              "  </tbody>\n",
              "</table>\n",
              "<p>5032 rows × 5 columns</p>\n",
              "</div>"
            ],
            "text/plain": [
              "             close    close   close   close    close\n",
              "2000-04-17  123.87      NaN     NaN  111.87    47.06\n",
              "2000-04-18  126.87      NaN     NaN  111.50    54.94\n",
              "2000-04-19  121.12      NaN     NaN  105.00    53.44\n",
              "2000-04-20  118.87      NaN     NaN  104.00    52.38\n",
              "2000-04-24  120.50      NaN     NaN  106.50    49.81\n",
              "...            ...      ...     ...     ...      ...\n",
              "2020-04-13  273.25  1210.41  174.79  121.15  2168.87\n",
              "2020-04-14  287.05  1265.23  178.17  123.91  2283.32\n",
              "2020-04-15  284.43  1257.30  176.97  118.69  2307.68\n",
              "2020-04-16  286.69  1257.43  176.25  115.73  2408.19\n",
              "2020-04-17  282.80  1279.00  179.24  120.12  2375.00\n",
              "\n",
              "[5032 rows x 5 columns]"
            ]
          },
          "metadata": {
            "tags": []
          },
          "execution_count": 19
        }
      ]
    },
    {
      "cell_type": "code",
      "metadata": {
        "id": "pDV7xuQHErPD",
        "colab_type": "code",
        "colab": {}
      },
      "source": [
        "stocks.columns = ['aapl','googl','fb','ibm', 'amzn']"
      ],
      "execution_count": 0,
      "outputs": []
    },
    {
      "cell_type": "code",
      "metadata": {
        "id": "YXLZgDP2Etkb",
        "colab_type": "code",
        "colab": {}
      },
      "source": [
        "test = stocks['2015-01-01'::]"
      ],
      "execution_count": 0,
      "outputs": []
    },
    {
      "cell_type": "code",
      "metadata": {
        "id": "qToRMYTKItdb",
        "colab_type": "code",
        "colab": {
          "base_uri": "https://localhost:8080/",
          "height": 419
        },
        "outputId": "64f8ddb2-0c2e-4978-c000-6516a1ee0cf6"
      },
      "source": [
        "test"
      ],
      "execution_count": 21,
      "outputs": [
        {
          "output_type": "execute_result",
          "data": {
            "text/html": [
              "<div>\n",
              "<style scoped>\n",
              "    .dataframe tbody tr th:only-of-type {\n",
              "        vertical-align: middle;\n",
              "    }\n",
              "\n",
              "    .dataframe tbody tr th {\n",
              "        vertical-align: top;\n",
              "    }\n",
              "\n",
              "    .dataframe thead th {\n",
              "        text-align: right;\n",
              "    }\n",
              "</style>\n",
              "<table border=\"1\" class=\"dataframe\">\n",
              "  <thead>\n",
              "    <tr style=\"text-align: right;\">\n",
              "      <th></th>\n",
              "      <th>close</th>\n",
              "      <th>close</th>\n",
              "      <th>close</th>\n",
              "      <th>close</th>\n",
              "      <th>close</th>\n",
              "    </tr>\n",
              "  </thead>\n",
              "  <tbody>\n",
              "    <tr>\n",
              "      <th>2015-01-02</th>\n",
              "      <td>109.33</td>\n",
              "      <td>529.55</td>\n",
              "      <td>78.450</td>\n",
              "      <td>162.06</td>\n",
              "      <td>308.52</td>\n",
              "    </tr>\n",
              "    <tr>\n",
              "      <th>2015-01-05</th>\n",
              "      <td>106.25</td>\n",
              "      <td>519.46</td>\n",
              "      <td>77.190</td>\n",
              "      <td>159.51</td>\n",
              "      <td>302.19</td>\n",
              "    </tr>\n",
              "    <tr>\n",
              "      <th>2015-01-06</th>\n",
              "      <td>106.26</td>\n",
              "      <td>506.64</td>\n",
              "      <td>76.150</td>\n",
              "      <td>156.07</td>\n",
              "      <td>295.29</td>\n",
              "    </tr>\n",
              "    <tr>\n",
              "      <th>2015-01-07</th>\n",
              "      <td>107.75</td>\n",
              "      <td>505.15</td>\n",
              "      <td>76.150</td>\n",
              "      <td>155.05</td>\n",
              "      <td>298.42</td>\n",
              "    </tr>\n",
              "    <tr>\n",
              "      <th>2015-01-08</th>\n",
              "      <td>111.89</td>\n",
              "      <td>506.91</td>\n",
              "      <td>78.175</td>\n",
              "      <td>158.42</td>\n",
              "      <td>300.46</td>\n",
              "    </tr>\n",
              "    <tr>\n",
              "      <th>...</th>\n",
              "      <td>...</td>\n",
              "      <td>...</td>\n",
              "      <td>...</td>\n",
              "      <td>...</td>\n",
              "      <td>...</td>\n",
              "    </tr>\n",
              "    <tr>\n",
              "      <th>2020-04-13</th>\n",
              "      <td>273.25</td>\n",
              "      <td>1210.41</td>\n",
              "      <td>174.790</td>\n",
              "      <td>121.15</td>\n",
              "      <td>2168.87</td>\n",
              "    </tr>\n",
              "    <tr>\n",
              "      <th>2020-04-14</th>\n",
              "      <td>287.05</td>\n",
              "      <td>1265.23</td>\n",
              "      <td>178.170</td>\n",
              "      <td>123.91</td>\n",
              "      <td>2283.32</td>\n",
              "    </tr>\n",
              "    <tr>\n",
              "      <th>2020-04-15</th>\n",
              "      <td>284.43</td>\n",
              "      <td>1257.30</td>\n",
              "      <td>176.970</td>\n",
              "      <td>118.69</td>\n",
              "      <td>2307.68</td>\n",
              "    </tr>\n",
              "    <tr>\n",
              "      <th>2020-04-16</th>\n",
              "      <td>286.69</td>\n",
              "      <td>1257.43</td>\n",
              "      <td>176.250</td>\n",
              "      <td>115.73</td>\n",
              "      <td>2408.19</td>\n",
              "    </tr>\n",
              "    <tr>\n",
              "      <th>2020-04-17</th>\n",
              "      <td>282.80</td>\n",
              "      <td>1279.00</td>\n",
              "      <td>179.240</td>\n",
              "      <td>120.12</td>\n",
              "      <td>2375.00</td>\n",
              "    </tr>\n",
              "  </tbody>\n",
              "</table>\n",
              "<p>1332 rows × 5 columns</p>\n",
              "</div>"
            ],
            "text/plain": [
              "             close    close    close   close    close\n",
              "2015-01-02  109.33   529.55   78.450  162.06   308.52\n",
              "2015-01-05  106.25   519.46   77.190  159.51   302.19\n",
              "2015-01-06  106.26   506.64   76.150  156.07   295.29\n",
              "2015-01-07  107.75   505.15   76.150  155.05   298.42\n",
              "2015-01-08  111.89   506.91   78.175  158.42   300.46\n",
              "...            ...      ...      ...     ...      ...\n",
              "2020-04-13  273.25  1210.41  174.790  121.15  2168.87\n",
              "2020-04-14  287.05  1265.23  178.170  123.91  2283.32\n",
              "2020-04-15  284.43  1257.30  176.970  118.69  2307.68\n",
              "2020-04-16  286.69  1257.43  176.250  115.73  2408.19\n",
              "2020-04-17  282.80  1279.00  179.240  120.12  2375.00\n",
              "\n",
              "[1332 rows x 5 columns]"
            ]
          },
          "metadata": {
            "tags": []
          },
          "execution_count": 21
        }
      ]
    },
    {
      "cell_type": "code",
      "metadata": {
        "id": "oMKhMs49IuQC",
        "colab_type": "code",
        "colab": {
          "base_uri": "https://localhost:8080/",
          "height": 419
        },
        "outputId": "922b85f9-fdfa-4e20-87a3-d826635ea2b8"
      },
      "source": [
        "stocks"
      ],
      "execution_count": 24,
      "outputs": [
        {
          "output_type": "execute_result",
          "data": {
            "text/html": [
              "<div>\n",
              "<style scoped>\n",
              "    .dataframe tbody tr th:only-of-type {\n",
              "        vertical-align: middle;\n",
              "    }\n",
              "\n",
              "    .dataframe tbody tr th {\n",
              "        vertical-align: top;\n",
              "    }\n",
              "\n",
              "    .dataframe thead th {\n",
              "        text-align: right;\n",
              "    }\n",
              "</style>\n",
              "<table border=\"1\" class=\"dataframe\">\n",
              "  <thead>\n",
              "    <tr style=\"text-align: right;\">\n",
              "      <th></th>\n",
              "      <th>aapl</th>\n",
              "      <th>googl</th>\n",
              "      <th>fb</th>\n",
              "      <th>ibm</th>\n",
              "      <th>amzn</th>\n",
              "    </tr>\n",
              "  </thead>\n",
              "  <tbody>\n",
              "    <tr>\n",
              "      <th>2000-04-17</th>\n",
              "      <td>123.87</td>\n",
              "      <td>NaN</td>\n",
              "      <td>NaN</td>\n",
              "      <td>111.87</td>\n",
              "      <td>47.06</td>\n",
              "    </tr>\n",
              "    <tr>\n",
              "      <th>2000-04-18</th>\n",
              "      <td>126.87</td>\n",
              "      <td>NaN</td>\n",
              "      <td>NaN</td>\n",
              "      <td>111.50</td>\n",
              "      <td>54.94</td>\n",
              "    </tr>\n",
              "    <tr>\n",
              "      <th>2000-04-19</th>\n",
              "      <td>121.12</td>\n",
              "      <td>NaN</td>\n",
              "      <td>NaN</td>\n",
              "      <td>105.00</td>\n",
              "      <td>53.44</td>\n",
              "    </tr>\n",
              "    <tr>\n",
              "      <th>2000-04-20</th>\n",
              "      <td>118.87</td>\n",
              "      <td>NaN</td>\n",
              "      <td>NaN</td>\n",
              "      <td>104.00</td>\n",
              "      <td>52.38</td>\n",
              "    </tr>\n",
              "    <tr>\n",
              "      <th>2000-04-24</th>\n",
              "      <td>120.50</td>\n",
              "      <td>NaN</td>\n",
              "      <td>NaN</td>\n",
              "      <td>106.50</td>\n",
              "      <td>49.81</td>\n",
              "    </tr>\n",
              "    <tr>\n",
              "      <th>...</th>\n",
              "      <td>...</td>\n",
              "      <td>...</td>\n",
              "      <td>...</td>\n",
              "      <td>...</td>\n",
              "      <td>...</td>\n",
              "    </tr>\n",
              "    <tr>\n",
              "      <th>2020-04-13</th>\n",
              "      <td>273.25</td>\n",
              "      <td>1210.41</td>\n",
              "      <td>174.79</td>\n",
              "      <td>121.15</td>\n",
              "      <td>2168.87</td>\n",
              "    </tr>\n",
              "    <tr>\n",
              "      <th>2020-04-14</th>\n",
              "      <td>287.05</td>\n",
              "      <td>1265.23</td>\n",
              "      <td>178.17</td>\n",
              "      <td>123.91</td>\n",
              "      <td>2283.32</td>\n",
              "    </tr>\n",
              "    <tr>\n",
              "      <th>2020-04-15</th>\n",
              "      <td>284.43</td>\n",
              "      <td>1257.30</td>\n",
              "      <td>176.97</td>\n",
              "      <td>118.69</td>\n",
              "      <td>2307.68</td>\n",
              "    </tr>\n",
              "    <tr>\n",
              "      <th>2020-04-16</th>\n",
              "      <td>286.69</td>\n",
              "      <td>1257.43</td>\n",
              "      <td>176.25</td>\n",
              "      <td>115.73</td>\n",
              "      <td>2408.19</td>\n",
              "    </tr>\n",
              "    <tr>\n",
              "      <th>2020-04-17</th>\n",
              "      <td>282.80</td>\n",
              "      <td>1279.00</td>\n",
              "      <td>179.24</td>\n",
              "      <td>120.12</td>\n",
              "      <td>2375.00</td>\n",
              "    </tr>\n",
              "  </tbody>\n",
              "</table>\n",
              "<p>5032 rows × 5 columns</p>\n",
              "</div>"
            ],
            "text/plain": [
              "              aapl    googl      fb     ibm     amzn\n",
              "2000-04-17  123.87      NaN     NaN  111.87    47.06\n",
              "2000-04-18  126.87      NaN     NaN  111.50    54.94\n",
              "2000-04-19  121.12      NaN     NaN  105.00    53.44\n",
              "2000-04-20  118.87      NaN     NaN  104.00    52.38\n",
              "2000-04-24  120.50      NaN     NaN  106.50    49.81\n",
              "...            ...      ...     ...     ...      ...\n",
              "2020-04-13  273.25  1210.41  174.79  121.15  2168.87\n",
              "2020-04-14  287.05  1265.23  178.17  123.91  2283.32\n",
              "2020-04-15  284.43  1257.30  176.97  118.69  2307.68\n",
              "2020-04-16  286.69  1257.43  176.25  115.73  2408.19\n",
              "2020-04-17  282.80  1279.00  179.24  120.12  2375.00\n",
              "\n",
              "[5032 rows x 5 columns]"
            ]
          },
          "metadata": {
            "tags": []
          },
          "execution_count": 24
        }
      ]
    },
    {
      "cell_type": "code",
      "metadata": {
        "id": "PUCwrf9UI2dC",
        "colab_type": "code",
        "colab": {}
      },
      "source": [
        "preTest = stocks['2013-01-01':'2015-01-01']"
      ],
      "execution_count": 0,
      "outputs": []
    },
    {
      "cell_type": "code",
      "metadata": {
        "id": "_IiL_SEHJIIj",
        "colab_type": "code",
        "colab": {
          "base_uri": "https://localhost:8080/",
          "height": 419
        },
        "outputId": "97a78478-3ed6-4011-ed61-1a345ddeb85e"
      },
      "source": [
        "preTest"
      ],
      "execution_count": 26,
      "outputs": [
        {
          "output_type": "execute_result",
          "data": {
            "text/html": [
              "<div>\n",
              "<style scoped>\n",
              "    .dataframe tbody tr th:only-of-type {\n",
              "        vertical-align: middle;\n",
              "    }\n",
              "\n",
              "    .dataframe tbody tr th {\n",
              "        vertical-align: top;\n",
              "    }\n",
              "\n",
              "    .dataframe thead th {\n",
              "        text-align: right;\n",
              "    }\n",
              "</style>\n",
              "<table border=\"1\" class=\"dataframe\">\n",
              "  <thead>\n",
              "    <tr style=\"text-align: right;\">\n",
              "      <th></th>\n",
              "      <th>aapl</th>\n",
              "      <th>googl</th>\n",
              "      <th>fb</th>\n",
              "      <th>ibm</th>\n",
              "      <th>amzn</th>\n",
              "    </tr>\n",
              "  </thead>\n",
              "  <tbody>\n",
              "    <tr>\n",
              "      <th>2013-01-02</th>\n",
              "      <td>549.0300</td>\n",
              "      <td>723.25</td>\n",
              "      <td>28.0000</td>\n",
              "      <td>196.35</td>\n",
              "      <td>257.3100</td>\n",
              "    </tr>\n",
              "    <tr>\n",
              "      <th>2013-01-03</th>\n",
              "      <td>542.0959</td>\n",
              "      <td>723.67</td>\n",
              "      <td>27.7700</td>\n",
              "      <td>195.27</td>\n",
              "      <td>258.4800</td>\n",
              "    </tr>\n",
              "    <tr>\n",
              "      <th>2013-01-04</th>\n",
              "      <td>527.0000</td>\n",
              "      <td>737.97</td>\n",
              "      <td>28.7600</td>\n",
              "      <td>193.99</td>\n",
              "      <td>259.1500</td>\n",
              "    </tr>\n",
              "    <tr>\n",
              "      <th>2013-01-07</th>\n",
              "      <td>523.9000</td>\n",
              "      <td>734.75</td>\n",
              "      <td>29.4213</td>\n",
              "      <td>193.14</td>\n",
              "      <td>268.4592</td>\n",
              "    </tr>\n",
              "    <tr>\n",
              "      <th>2013-01-08</th>\n",
              "      <td>525.3100</td>\n",
              "      <td>733.30</td>\n",
              "      <td>29.0607</td>\n",
              "      <td>192.87</td>\n",
              "      <td>266.3800</td>\n",
              "    </tr>\n",
              "    <tr>\n",
              "      <th>...</th>\n",
              "      <td>...</td>\n",
              "      <td>...</td>\n",
              "      <td>...</td>\n",
              "      <td>...</td>\n",
              "      <td>...</td>\n",
              "    </tr>\n",
              "    <tr>\n",
              "      <th>2014-12-24</th>\n",
              "      <td>112.0100</td>\n",
              "      <td>536.93</td>\n",
              "      <td>80.7700</td>\n",
              "      <td>161.82</td>\n",
              "      <td>303.0300</td>\n",
              "    </tr>\n",
              "    <tr>\n",
              "      <th>2014-12-26</th>\n",
              "      <td>113.9900</td>\n",
              "      <td>541.52</td>\n",
              "      <td>80.7750</td>\n",
              "      <td>162.34</td>\n",
              "      <td>309.0900</td>\n",
              "    </tr>\n",
              "    <tr>\n",
              "      <th>2014-12-29</th>\n",
              "      <td>113.9100</td>\n",
              "      <td>537.31</td>\n",
              "      <td>80.0200</td>\n",
              "      <td>160.51</td>\n",
              "      <td>312.0400</td>\n",
              "    </tr>\n",
              "    <tr>\n",
              "      <th>2014-12-30</th>\n",
              "      <td>112.5200</td>\n",
              "      <td>535.28</td>\n",
              "      <td>79.2200</td>\n",
              "      <td>160.05</td>\n",
              "      <td>310.3000</td>\n",
              "    </tr>\n",
              "    <tr>\n",
              "      <th>2014-12-31</th>\n",
              "      <td>110.3800</td>\n",
              "      <td>530.66</td>\n",
              "      <td>78.0200</td>\n",
              "      <td>160.44</td>\n",
              "      <td>310.3500</td>\n",
              "    </tr>\n",
              "  </tbody>\n",
              "</table>\n",
              "<p>504 rows × 5 columns</p>\n",
              "</div>"
            ],
            "text/plain": [
              "                aapl   googl       fb     ibm      amzn\n",
              "2013-01-02  549.0300  723.25  28.0000  196.35  257.3100\n",
              "2013-01-03  542.0959  723.67  27.7700  195.27  258.4800\n",
              "2013-01-04  527.0000  737.97  28.7600  193.99  259.1500\n",
              "2013-01-07  523.9000  734.75  29.4213  193.14  268.4592\n",
              "2013-01-08  525.3100  733.30  29.0607  192.87  266.3800\n",
              "...              ...     ...      ...     ...       ...\n",
              "2014-12-24  112.0100  536.93  80.7700  161.82  303.0300\n",
              "2014-12-26  113.9900  541.52  80.7750  162.34  309.0900\n",
              "2014-12-29  113.9100  537.31  80.0200  160.51  312.0400\n",
              "2014-12-30  112.5200  535.28  79.2200  160.05  310.3000\n",
              "2014-12-31  110.3800  530.66  78.0200  160.44  310.3500\n",
              "\n",
              "[504 rows x 5 columns]"
            ]
          },
          "metadata": {
            "tags": []
          },
          "execution_count": 26
        }
      ]
    },
    {
      "cell_type": "code",
      "metadata": {
        "id": "0PeomBhcJ2FC",
        "colab_type": "code",
        "colab": {}
      },
      "source": [
        "stocks = stocks['2013-01-01'::]"
      ],
      "execution_count": 0,
      "outputs": []
    },
    {
      "cell_type": "code",
      "metadata": {
        "id": "qmEcPHdqTBfi",
        "colab_type": "code",
        "colab": {
          "base_uri": "https://localhost:8080/",
          "height": 204
        },
        "outputId": "96e0e4ac-5834-43f4-830d-d91b49cafc78"
      },
      "source": [
        "print(stocks.columns)\n",
        "\n",
        "weights = np.array(np.random.random(5))\n",
        "print('Random Weights:')\n",
        "print(weights)\n",
        "\n",
        "print('Rebalance')\n",
        "weights = weights/np.sum(weights)\n",
        "print(weights)\n",
        "\n",
        "# expected return\n",
        "print('Expected Portfolio Return')\n",
        "exp_ret = np.sum((log_return.mean()*weights)*252)\n",
        "print(exp_ret)\n",
        "\n",
        "# expected volatility\n",
        "print('Expected Volatility')\n",
        "exp_vol = np.sqrt(np.dot(weights.T,np.dot(log_return.cov()*252, weights)))\n",
        "print(exp_vol)\n",
        "\n",
        "# Sharpe Ratio\n",
        "print('Sharpe Ratio')\n",
        "SR = exp_ret/exp_vol\n",
        "print(SR)"
      ],
      "execution_count": 30,
      "outputs": [
        {
          "output_type": "stream",
          "text": [
            "Index(['aapl', 'googl', 'fb', 'ibm', 'amzn'], dtype='object')\n",
            "Random Weights:\n",
            "[0.53240788 0.87503849 0.11759149 0.17499875 0.57724126]\n",
            "Rebalance\n",
            "[0.23379136 0.38424757 0.05163687 0.07684559 0.25347862]\n",
            "Expected Portfolio Return\n",
            "0.0941261214390457\n",
            "Expected Volatility\n",
            "0.2930112854240408\n",
            "Sharpe Ratio\n",
            "0.32123718819508273\n"
          ],
          "name": "stdout"
        }
      ]
    },
    {
      "cell_type": "code",
      "metadata": {
        "id": "4mPK4CaYTFqT",
        "colab_type": "code",
        "colab": {}
      },
      "source": [
        "log_return = np.log(stocks/stocks.shift(1))"
      ],
      "execution_count": 0,
      "outputs": []
    },
    {
      "cell_type": "code",
      "metadata": {
        "id": "yFyijQVXTKuO",
        "colab_type": "code",
        "colab": {}
      },
      "source": [
        "ports = 5000\n",
        "all_weights = np.zeros((ports, len(stocks.columns)))\n",
        "ret_arr = np.zeros(ports)\n",
        "vol_arr = np.zeros(ports)\n",
        "sharpe_arr = np.zeros(ports)\n",
        "\n",
        "for i in range(ports): \n",
        "    # weights \n",
        "    weights = np.array(np.random.random(5)) \n",
        "    weights = weights/np.sum(weights)  \n",
        "\t\n",
        "    # save the weights\n",
        "    all_weights[i,:] = weights\n",
        "\t\n",
        "    # expected return \n",
        "    ret_arr[i] = np.sum((log_return.mean()*weights)*252)\n",
        "\n",
        "    # expected volatility \n",
        "    vol_arr[i] = np.sqrt(np.dot(weights.T,np.dot(log_return.cov()*252, weights)))\n",
        "\n",
        "    # Sharpe Ratio \n",
        "    sharpe_arr[i] = ret_arr[i]/vol_arr[i]"
      ],
      "execution_count": 0,
      "outputs": []
    },
    {
      "cell_type": "code",
      "metadata": {
        "id": "_52EfFvxTR-y",
        "colab_type": "code",
        "colab": {
          "base_uri": "https://localhost:8080/",
          "height": 514
        },
        "outputId": "caff8942-df5e-4a34-9e70-d2a57663c1c6"
      },
      "source": [
        "plt.figure(figsize=(12,8))\n",
        "plt.scatter(vol_arr,ret_arr,c=sharpe_arr,cmap='plasma')\n",
        "plt.colorbar(label='Sharpe Ratio')\n",
        "plt.xlabel('Volatility')\n",
        "plt.ylabel('Return')"
      ],
      "execution_count": 32,
      "outputs": [
        {
          "output_type": "execute_result",
          "data": {
            "text/plain": [
              "Text(0, 0.5, 'Return')"
            ]
          },
          "metadata": {
            "tags": []
          },
          "execution_count": 32
        },
        {
          "output_type": "display_data",
          "data": {
            "image/png": "[encoded data removed]",
            "text/plain": [
              "<Figure size 864x576 with 2 Axes>"
            ]
          },
          "metadata": {
            "tags": [],
            "needs_background": "light"
          }
        }
      ]
    },
    {
      "cell_type": "code",
      "metadata": {
        "id": "jz1pp6fnTZze",
        "colab_type": "code",
        "colab": {
          "base_uri": "https://localhost:8080/",
          "height": 34
        },
        "outputId": "c275d32d-1902-44a7-b593-815b98f540fb"
      },
      "source": [
        "sharpe_arr.argmax()"
      ],
      "execution_count": 33,
      "outputs": [
        {
          "output_type": "execute_result",
          "data": {
            "text/plain": [
              "2264"
            ]
          },
          "metadata": {
            "tags": []
          },
          "execution_count": 33
        }
      ]
    },
    {
      "cell_type": "code",
      "metadata": {
        "id": "GTmp3i7XTcrt",
        "colab_type": "code",
        "colab": {}
      },
      "source": [
        "weightRatio = all_weights[2264]"
      ],
      "execution_count": 0,
      "outputs": []
    },
    {
      "cell_type": "code",
      "metadata": {
        "id": "IdiKyBPqTguI",
        "colab_type": "code",
        "colab": {
          "base_uri": "https://localhost:8080/",
          "height": 34
        },
        "outputId": "0150a449-1db8-4697-aef5-55f1c2b78cc5"
      },
      "source": [
        "weightRatio"
      ],
      "execution_count": 35,
      "outputs": [
        {
          "output_type": "execute_result",
          "data": {
            "text/plain": [
              "array([0.02714734, 0.01398533, 0.29356315, 0.06537759, 0.59992659])"
            ]
          },
          "metadata": {
            "tags": []
          },
          "execution_count": 35
        }
      ]
    },
    {
      "cell_type": "code",
      "metadata": {
        "id": "F4GGQI8WThlT",
        "colab_type": "code",
        "colab": {}
      },
      "source": [
        "portfolioValue = []\n",
        "for i in weightRatio:\n",
        "  index = np.where(weightRatio == i)\n",
        "  if(index[0] == 1):\n",
        "    appleTemp = []\n",
        "    for l in range(0,stocks['aapl'].last_valid_index()):\n",
        "      appleTemp[l] = appleTemp[l]*stocks['aapl'].iloc(l)\n",
        "    for index in range(0, appleTemp.last_valid_index()):\n",
        "      portfolioValue[index] += appleTemp[index]\n",
        "  if(index[0] == 2):\n",
        "    googleTemp=[]\n",
        "    for l in range(0,stocks['googl'].last_valid_index()):\n",
        "      googleTemp[l] = googleTemp[l]*stocks['googl'].iloc(l)\n",
        "    for index in range(0, googleTemp.last_valid_index()):\n",
        "      portfolioValue[index] += googleTemp[index]\n",
        "  if(index[0] == 3):\n",
        "    fbTemp=[]\n",
        "    for l in range(0,stocks['fb'].last_valid_index()):\n",
        "      fbTemp[l] = fbTemp[l]*stocks['fb'].iloc(l)\n",
        "    for index in range(0, fbTemp.last_valid_index()):\n",
        "      portfolioValue[index] += fbTemp[index]\n",
        "  if(index[0] == 4):\n",
        "    ibmTemp=[]\n",
        "    for l in range(0,stocks['ibm'].last_valid_index()):\n",
        "      ibmTemp[l] = ibmTemp[l]*stocks['ibm'].iloc(l)\n",
        "    for index in range(0, ibmTemp.last_valid_index()):\n",
        "      portfolioValue[index] += ibmTemp[index]\n",
        "  if(index[0] == 5):\n",
        "    amznTemp=[]\n",
        "    for l in range(0,stocks['amzn'].last_valid_index()):\n",
        "      amznTemp[l] = amznTemp[l]*stocks['amzn'].iloc(l)\n",
        "    for index in range(0, amznTemp.last_valid_index()):\n",
        "      portfolioValue[index] += amznTemp[index]\n"
      ],
      "execution_count": 0,
      "outputs": []
    },
    {
      "cell_type": "code",
      "metadata": {
        "id": "jLqB9MPdW4ZD",
        "colab_type": "code",
        "colab": {}
      },
      "source": [
        "fbTemp = weightRatio[0]*stocks['fb']"
      ],
      "execution_count": 0,
      "outputs": []
    },
    {
      "cell_type": "code",
      "metadata": {
        "id": "c4pljbq-YwCz",
        "colab_type": "code",
        "colab": {
          "base_uri": "https://localhost:8080/",
          "height": 221
        },
        "outputId": "cbfa046d-a622-4e07-8d94-9766ce400a89"
      },
      "source": [
        "fbTemp"
      ],
      "execution_count": 43,
      "outputs": [
        {
          "output_type": "execute_result",
          "data": {
            "text/plain": [
              "2013-01-02    0.760126\n",
              "2013-01-03    0.753882\n",
              "2013-01-04    0.780758\n",
              "2013-01-07    0.798710\n",
              "2013-01-08    0.788921\n",
              "                ...   \n",
              "2020-04-13    4.745084\n",
              "2020-04-14    4.836842\n",
              "2020-04-15    4.804265\n",
              "2020-04-16    4.784719\n",
              "2020-04-17    4.865889\n",
              "Name: fb, Length: 1836, dtype: float64"
            ]
          },
          "metadata": {
            "tags": []
          },
          "execution_count": 43
        }
      ]
    },
    {
      "cell_type": "code",
      "metadata": {
        "id": "ZAgNOXLaYwz-",
        "colab_type": "code",
        "colab": {
          "base_uri": "https://localhost:8080/",
          "height": 221
        },
        "outputId": "54817ca8-5019-4fa9-f5a2-6745d5296a9c"
      },
      "source": [
        "stocks['fb']"
      ],
      "execution_count": 44,
      "outputs": [
        {
          "output_type": "execute_result",
          "data": {
            "text/plain": [
              "2013-01-02     28.0000\n",
              "2013-01-03     27.7700\n",
              "2013-01-04     28.7600\n",
              "2013-01-07     29.4213\n",
              "2013-01-08     29.0607\n",
              "                ...   \n",
              "2020-04-13    174.7900\n",
              "2020-04-14    178.1700\n",
              "2020-04-15    176.9700\n",
              "2020-04-16    176.2500\n",
              "2020-04-17    179.2400\n",
              "Name: fb, Length: 1836, dtype: float64"
            ]
          },
          "metadata": {
            "tags": []
          },
          "execution_count": 44
        }
      ]
    },
    {
      "cell_type": "code",
      "metadata": {
        "id": "YMhJtbG5Yzvt",
        "colab_type": "code",
        "colab": {}
      },
      "source": [
        ""
      ],
      "execution_count": 0,
      "outputs": []
    }
  ]
}