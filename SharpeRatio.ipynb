{
  "nbformat": 4,
  "nbformat_minor": 0,
  "metadata": {
    "colab": {
      "name": "SharpeRatio.ipynb",
      "provenance": [],
      "authorship_tag": "ABX9TyM/U3cymaUBgBo1mjELdc17",
      "include_colab_link": true
    },
    "kernelspec": {
      "name": "python3",
      "display_name": "Python 3"
    }
  },
  "cells": [
    {
      "cell_type": "markdown",
      "metadata": {
        "id": "view-in-github",
        "colab_type": "text"
      },
      "source": [
        "<a href=\"https://colab.research.google.com/github/moonbeam87/Stonks/blob/master/SharpeRatio.ipynb\" target=\"_parent\"><img src=\"https://colab.research.google.com/assets/colab-badge.svg\" alt=\"Open In Colab\"/></a>"
      ]
    },
    {
      "cell_type": "code",
      "metadata": {
        "id": "ct-3BpYoXZd-",
        "colab_type": "code",
        "colab": {
          "base_uri": "https://localhost:8080/",
          "height": 70
        },
        "outputId": "5a34be9b-5f16-4e52-a4d4-3c0474582152"
      },
      "source": [
        "import pandas as pd\n",
        "from pandas_datareader import data\n",
        "import matplotlib.pyplot as plt\n",
        "import pandas as pd\n",
        "import datetime as dt\n",
        "from fbprophet import Prophet\n",
        "import numpy as np\n",
        "fb = pd.read_csv('https://www.alphavantage.co/query?function=TIME_SERIES_DAILY&symbol=' + 'FB' +'&apikey=WCXVE7BAD668SJHL&datatype=csv&outputsize=full')\n",
        "ibm = pd.read_csv('https://www.alphavantage.co/query?function=TIME_SERIES_DAILY&symbol=' + 'IBM' +'&apikey=WCXVE7BAD668SJHL&datatype=csv&outputsize=full')\n",
        "amzn = pd.read_csv('https://www.alphavantage.co/query?function=TIME_SERIES_DAILY&symbol=' + 'AMZN' +'&apikey=WCXVE7BAD668SJHL&datatype=csv&outputsize=full')\n",
        "google = pd.read_csv('https://www.alphavantage.co/query?function=TIME_SERIES_DAILY&symbol=' + 'GOOGL' +'&apikey=WCXVE7BAD668SJHL&datatype=csv&outputsize=full')\n",
        "apple = pd.read_csv('https://www.alphavantage.co/query?function=TIME_SERIES_DAILY&symbol=' + 'AAPL' +'&apikey=WCXVE7BAD668SJHL&datatype=csv&outputsize=full')\n",
        "for df in (fb, ibm, amzn, google, apple):\n",
        "    df['Normalized Return'] = df['close']/df.iloc[-1]['close']"
      ],
      "execution_count": 1,
      "outputs": [
        {
          "output_type": "stream",
          "text": [
            "/usr/local/lib/python3.6/dist-packages/pandas_datareader/compat/__init__.py:7: FutureWarning: pandas.util.testing is deprecated. Use the functions in the public API at pandas.testing instead.\n",
            "  from pandas.util.testing import assert_frame_equal\n"
          ],
          "name": "stderr"
        }
      ]
    },
    {
      "cell_type": "code",
      "metadata": {
        "id": "bs-Z2j0VXoRS",
        "colab_type": "code",
        "colab": {
          "base_uri": "https://localhost:8080/",
          "height": 191
        },
        "outputId": "6c85651c-26ce-4bad-8857-9b45c180a9aa"
      },
      "source": [
        "fb.head()"
      ],
      "execution_count": 3,
      "outputs": [
        {
          "output_type": "execute_result",
          "data": {
            "text/html": [
              "<div>\n",
              "<style scoped>\n",
              "    .dataframe tbody tr th:only-of-type {\n",
              "        vertical-align: middle;\n",
              "    }\n",
              "\n",
              "    .dataframe tbody tr th {\n",
              "        vertical-align: top;\n",
              "    }\n",
              "\n",
              "    .dataframe thead th {\n",
              "        text-align: right;\n",
              "    }\n",
              "</style>\n",
              "<table border=\"1\" class=\"dataframe\">\n",
              "  <thead>\n",
              "    <tr style=\"text-align: right;\">\n",
              "      <th></th>\n",
              "      <th>timestamp</th>\n",
              "      <th>open</th>\n",
              "      <th>high</th>\n",
              "      <th>low</th>\n",
              "      <th>close</th>\n",
              "      <th>volume</th>\n",
              "      <th>Normalized Return</th>\n",
              "    </tr>\n",
              "  </thead>\n",
              "  <tbody>\n",
              "    <tr>\n",
              "      <th>0</th>\n",
              "      <td>2020-04-17</td>\n",
              "      <td>179.2000</td>\n",
              "      <td>180.280</td>\n",
              "      <td>176.66</td>\n",
              "      <td>179.24</td>\n",
              "      <td>20574003</td>\n",
              "      <td>4.688244</td>\n",
              "    </tr>\n",
              "    <tr>\n",
              "      <th>1</th>\n",
              "      <td>2020-04-16</td>\n",
              "      <td>177.9500</td>\n",
              "      <td>178.050</td>\n",
              "      <td>172.51</td>\n",
              "      <td>176.25</td>\n",
              "      <td>23593229</td>\n",
              "      <td>4.610037</td>\n",
              "    </tr>\n",
              "    <tr>\n",
              "      <th>2</th>\n",
              "      <td>2020-04-15</td>\n",
              "      <td>175.1865</td>\n",
              "      <td>178.190</td>\n",
              "      <td>172.82</td>\n",
              "      <td>176.97</td>\n",
              "      <td>17423003</td>\n",
              "      <td>4.628869</td>\n",
              "    </tr>\n",
              "    <tr>\n",
              "      <th>3</th>\n",
              "      <td>2020-04-14</td>\n",
              "      <td>178.9765</td>\n",
              "      <td>181.225</td>\n",
              "      <td>176.62</td>\n",
              "      <td>178.17</td>\n",
              "      <td>21011815</td>\n",
              "      <td>4.660257</td>\n",
              "    </tr>\n",
              "    <tr>\n",
              "      <th>4</th>\n",
              "      <td>2020-04-13</td>\n",
              "      <td>173.6700</td>\n",
              "      <td>175.000</td>\n",
              "      <td>169.45</td>\n",
              "      <td>174.79</td>\n",
              "      <td>19355355</td>\n",
              "      <td>4.571849</td>\n",
              "    </tr>\n",
              "  </tbody>\n",
              "</table>\n",
              "</div>"
            ],
            "text/plain": [
              "    timestamp      open     high     low   close    volume  Normalized Return\n",
              "0  2020-04-17  179.2000  180.280  176.66  179.24  20574003           4.688244\n",
              "1  2020-04-16  177.9500  178.050  172.51  176.25  23593229           4.610037\n",
              "2  2020-04-15  175.1865  178.190  172.82  176.97  17423003           4.628869\n",
              "3  2020-04-14  178.9765  181.225  176.62  178.17  21011815           4.660257\n",
              "4  2020-04-13  173.6700  175.000  169.45  174.79  19355355           4.571849"
            ]
          },
          "metadata": {
            "tags": []
          },
          "execution_count": 3
        }
      ]
    },
    {
      "cell_type": "code",
      "metadata": {
        "id": "_PPgGFsmXqz3",
        "colab_type": "code",
        "colab": {
          "base_uri": "https://localhost:8080/",
          "height": 191
        },
        "outputId": "bda7ad97-bb45-4a67-d3a9-ecb689cc4435"
      },
      "source": [
        "amzn.head()"
      ],
      "execution_count": 4,
      "outputs": [
        {
          "output_type": "execute_result",
          "data": {
            "text/html": [
              "<div>\n",
              "<style scoped>\n",
              "    .dataframe tbody tr th:only-of-type {\n",
              "        vertical-align: middle;\n",
              "    }\n",
              "\n",
              "    .dataframe tbody tr th {\n",
              "        vertical-align: top;\n",
              "    }\n",
              "\n",
              "    .dataframe thead th {\n",
              "        text-align: right;\n",
              "    }\n",
              "</style>\n",
              "<table border=\"1\" class=\"dataframe\">\n",
              "  <thead>\n",
              "    <tr style=\"text-align: right;\">\n",
              "      <th></th>\n",
              "      <th>timestamp</th>\n",
              "      <th>open</th>\n",
              "      <th>high</th>\n",
              "      <th>low</th>\n",
              "      <th>close</th>\n",
              "      <th>volume</th>\n",
              "      <th>Normalized Return</th>\n",
              "    </tr>\n",
              "  </thead>\n",
              "  <tbody>\n",
              "    <tr>\n",
              "      <th>0</th>\n",
              "      <td>2020-04-17</td>\n",
              "      <td>2372.33</td>\n",
              "      <td>2400.00</td>\n",
              "      <td>2316.02</td>\n",
              "      <td>2375.00</td>\n",
              "      <td>7870632</td>\n",
              "      <td>50.467488</td>\n",
              "    </tr>\n",
              "    <tr>\n",
              "      <th>1</th>\n",
              "      <td>2020-04-16</td>\n",
              "      <td>2346.00</td>\n",
              "      <td>2461.00</td>\n",
              "      <td>2335.00</td>\n",
              "      <td>2408.19</td>\n",
              "      <td>12038201</td>\n",
              "      <td>51.172758</td>\n",
              "    </tr>\n",
              "    <tr>\n",
              "      <th>2</th>\n",
              "      <td>2020-04-15</td>\n",
              "      <td>2257.68</td>\n",
              "      <td>2333.37</td>\n",
              "      <td>2245.00</td>\n",
              "      <td>2307.68</td>\n",
              "      <td>6866567</td>\n",
              "      <td>49.036974</td>\n",
              "    </tr>\n",
              "    <tr>\n",
              "      <th>3</th>\n",
              "      <td>2020-04-14</td>\n",
              "      <td>2200.47</td>\n",
              "      <td>2292.00</td>\n",
              "      <td>2186.21</td>\n",
              "      <td>2283.32</td>\n",
              "      <td>8087193</td>\n",
              "      <td>48.519337</td>\n",
              "    </tr>\n",
              "    <tr>\n",
              "      <th>4</th>\n",
              "      <td>2020-04-13</td>\n",
              "      <td>2040.00</td>\n",
              "      <td>2180.00</td>\n",
              "      <td>2038.00</td>\n",
              "      <td>2168.87</td>\n",
              "      <td>6716709</td>\n",
              "      <td>46.087335</td>\n",
              "    </tr>\n",
              "  </tbody>\n",
              "</table>\n",
              "</div>"
            ],
            "text/plain": [
              "    timestamp     open     high      low    close    volume  Normalized Return\n",
              "0  2020-04-17  2372.33  2400.00  2316.02  2375.00   7870632          50.467488\n",
              "1  2020-04-16  2346.00  2461.00  2335.00  2408.19  12038201          51.172758\n",
              "2  2020-04-15  2257.68  2333.37  2245.00  2307.68   6866567          49.036974\n",
              "3  2020-04-14  2200.47  2292.00  2186.21  2283.32   8087193          48.519337\n",
              "4  2020-04-13  2040.00  2180.00  2038.00  2168.87   6716709          46.087335"
            ]
          },
          "metadata": {
            "tags": []
          },
          "execution_count": 4
        }
      ]
    },
    {
      "cell_type": "code",
      "metadata": {
        "id": "XP9AtYAmXwdB",
        "colab_type": "code",
        "colab": {}
      },
      "source": [
        "for df in (fb, ibm, amzn, google, apple):\n",
        "    df['Normalized Return'] = df['close']/df.iloc[0]['close']"
      ],
      "execution_count": 0,
      "outputs": []
    },
    {
      "cell_type": "code",
      "metadata": {
        "id": "S3awf7fBYE6d",
        "colab_type": "code",
        "colab": {
          "base_uri": "https://localhost:8080/",
          "height": 191
        },
        "outputId": "abdfae76-c336-4859-cc3b-789ae737463b"
      },
      "source": [
        "fb.head()"
      ],
      "execution_count": 6,
      "outputs": [
        {
          "output_type": "execute_result",
          "data": {
            "text/html": [
              "<div>\n",
              "<style scoped>\n",
              "    .dataframe tbody tr th:only-of-type {\n",
              "        vertical-align: middle;\n",
              "    }\n",
              "\n",
              "    .dataframe tbody tr th {\n",
              "        vertical-align: top;\n",
              "    }\n",
              "\n",
              "    .dataframe thead th {\n",
              "        text-align: right;\n",
              "    }\n",
              "</style>\n",
              "<table border=\"1\" class=\"dataframe\">\n",
              "  <thead>\n",
              "    <tr style=\"text-align: right;\">\n",
              "      <th></th>\n",
              "      <th>timestamp</th>\n",
              "      <th>open</th>\n",
              "      <th>high</th>\n",
              "      <th>low</th>\n",
              "      <th>close</th>\n",
              "      <th>volume</th>\n",
              "      <th>Normalized Return</th>\n",
              "    </tr>\n",
              "  </thead>\n",
              "  <tbody>\n",
              "    <tr>\n",
              "      <th>0</th>\n",
              "      <td>2020-04-17</td>\n",
              "      <td>179.2000</td>\n",
              "      <td>180.280</td>\n",
              "      <td>176.66</td>\n",
              "      <td>179.24</td>\n",
              "      <td>20574003</td>\n",
              "      <td>1.000000</td>\n",
              "    </tr>\n",
              "    <tr>\n",
              "      <th>1</th>\n",
              "      <td>2020-04-16</td>\n",
              "      <td>177.9500</td>\n",
              "      <td>178.050</td>\n",
              "      <td>172.51</td>\n",
              "      <td>176.25</td>\n",
              "      <td>23593229</td>\n",
              "      <td>0.983318</td>\n",
              "    </tr>\n",
              "    <tr>\n",
              "      <th>2</th>\n",
              "      <td>2020-04-15</td>\n",
              "      <td>175.1865</td>\n",
              "      <td>178.190</td>\n",
              "      <td>172.82</td>\n",
              "      <td>176.97</td>\n",
              "      <td>17423003</td>\n",
              "      <td>0.987335</td>\n",
              "    </tr>\n",
              "    <tr>\n",
              "      <th>3</th>\n",
              "      <td>2020-04-14</td>\n",
              "      <td>178.9765</td>\n",
              "      <td>181.225</td>\n",
              "      <td>176.62</td>\n",
              "      <td>178.17</td>\n",
              "      <td>21011815</td>\n",
              "      <td>0.994030</td>\n",
              "    </tr>\n",
              "    <tr>\n",
              "      <th>4</th>\n",
              "      <td>2020-04-13</td>\n",
              "      <td>173.6700</td>\n",
              "      <td>175.000</td>\n",
              "      <td>169.45</td>\n",
              "      <td>174.79</td>\n",
              "      <td>19355355</td>\n",
              "      <td>0.975173</td>\n",
              "    </tr>\n",
              "  </tbody>\n",
              "</table>\n",
              "</div>"
            ],
            "text/plain": [
              "    timestamp      open     high     low   close    volume  Normalized Return\n",
              "0  2020-04-17  179.2000  180.280  176.66  179.24  20574003           1.000000\n",
              "1  2020-04-16  177.9500  178.050  172.51  176.25  23593229           0.983318\n",
              "2  2020-04-15  175.1865  178.190  172.82  176.97  17423003           0.987335\n",
              "3  2020-04-14  178.9765  181.225  176.62  178.17  21011815           0.994030\n",
              "4  2020-04-13  173.6700  175.000  169.45  174.79  19355355           0.975173"
            ]
          },
          "metadata": {
            "tags": []
          },
          "execution_count": 6
        }
      ]
    },
    {
      "cell_type": "code",
      "metadata": {
        "id": "GJ9IUgRyYGI5",
        "colab_type": "code",
        "colab": {
          "base_uri": "https://localhost:8080/",
          "height": 126
        },
        "outputId": "0e00a100-4e8f-4508-9c34-c1e2f1f1150c"
      },
      "source": [
        "|for df in (fb, ibm, amzn, google, apple):\n",
        "    df['Normalized Return'] = df['close']/df.iloc[-1]['close']"
      ],
      "execution_count": 7,
      "outputs": [
        {
          "output_type": "error",
          "ename": "SyntaxError",
          "evalue": "ignored",
          "traceback": [
            "\u001b[0;36m  File \u001b[0;32m\"<ipython-input-7-abe5714ad535>\"\u001b[0;36m, line \u001b[0;32m1\u001b[0m\n\u001b[0;31m    |for df in (fb, ibm, amzn, google, apple):\u001b[0m\n\u001b[0m    ^\u001b[0m\n\u001b[0;31mSyntaxError\u001b[0m\u001b[0;31m:\u001b[0m invalid syntax\n"
          ]
        }
      ]
    },
    {
      "cell_type": "code",
      "metadata": {
        "id": "Bbrr4rO5YRTX",
        "colab_type": "code",
        "colab": {}
      },
      "source": [
        "for df in (fb, ibm, amzn, google, apple):\n",
        "    df['Normalized Return'] = df['close']/df.iloc[-1]['close']"
      ],
      "execution_count": 0,
      "outputs": []
    },
    {
      "cell_type": "code",
      "metadata": {
        "id": "w95m7W9VYUjF",
        "colab_type": "code",
        "colab": {}
      },
      "source": [
        "allocation = [.2,.2,.2,.2,.2]"
      ],
      "execution_count": 0,
      "outputs": []
    },
    {
      "cell_type": "code",
      "metadata": {
        "id": "wl3FS3G2ZXX2",
        "colab_type": "code",
        "colab": {}
      },
      "source": [
        "for df, allo in zip((fb,ibm,amzn,google,apple),allocation):\n",
        "  df['Allocation'] = df['Normalized Return']*allo"
      ],
      "execution_count": 0,
      "outputs": []
    },
    {
      "cell_type": "code",
      "metadata": {
        "id": "4pG84V8WZpSp",
        "colab_type": "code",
        "colab": {
          "base_uri": "https://localhost:8080/",
          "height": 191
        },
        "outputId": "054ffd2b-1b36-4384-8a72-cca6dd0fb27a"
      },
      "source": [
        "fb.head()"
      ],
      "execution_count": 11,
      "outputs": [
        {
          "output_type": "execute_result",
          "data": {
            "text/html": [
              "<div>\n",
              "<style scoped>\n",
              "    .dataframe tbody tr th:only-of-type {\n",
              "        vertical-align: middle;\n",
              "    }\n",
              "\n",
              "    .dataframe tbody tr th {\n",
              "        vertical-align: top;\n",
              "    }\n",
              "\n",
              "    .dataframe thead th {\n",
              "        text-align: right;\n",
              "    }\n",
              "</style>\n",
              "<table border=\"1\" class=\"dataframe\">\n",
              "  <thead>\n",
              "    <tr style=\"text-align: right;\">\n",
              "      <th></th>\n",
              "      <th>timestamp</th>\n",
              "      <th>open</th>\n",
              "      <th>high</th>\n",
              "      <th>low</th>\n",
              "      <th>close</th>\n",
              "      <th>volume</th>\n",
              "      <th>Normalized Return</th>\n",
              "      <th>Allocation</th>\n",
              "    </tr>\n",
              "  </thead>\n",
              "  <tbody>\n",
              "    <tr>\n",
              "      <th>0</th>\n",
              "      <td>2020-04-17</td>\n",
              "      <td>179.2000</td>\n",
              "      <td>180.280</td>\n",
              "      <td>176.66</td>\n",
              "      <td>179.24</td>\n",
              "      <td>20574003</td>\n",
              "      <td>4.688244</td>\n",
              "      <td>0.937649</td>\n",
              "    </tr>\n",
              "    <tr>\n",
              "      <th>1</th>\n",
              "      <td>2020-04-16</td>\n",
              "      <td>177.9500</td>\n",
              "      <td>178.050</td>\n",
              "      <td>172.51</td>\n",
              "      <td>176.25</td>\n",
              "      <td>23593229</td>\n",
              "      <td>4.610037</td>\n",
              "      <td>0.922007</td>\n",
              "    </tr>\n",
              "    <tr>\n",
              "      <th>2</th>\n",
              "      <td>2020-04-15</td>\n",
              "      <td>175.1865</td>\n",
              "      <td>178.190</td>\n",
              "      <td>172.82</td>\n",
              "      <td>176.97</td>\n",
              "      <td>17423003</td>\n",
              "      <td>4.628869</td>\n",
              "      <td>0.925774</td>\n",
              "    </tr>\n",
              "    <tr>\n",
              "      <th>3</th>\n",
              "      <td>2020-04-14</td>\n",
              "      <td>178.9765</td>\n",
              "      <td>181.225</td>\n",
              "      <td>176.62</td>\n",
              "      <td>178.17</td>\n",
              "      <td>21011815</td>\n",
              "      <td>4.660257</td>\n",
              "      <td>0.932051</td>\n",
              "    </tr>\n",
              "    <tr>\n",
              "      <th>4</th>\n",
              "      <td>2020-04-13</td>\n",
              "      <td>173.6700</td>\n",
              "      <td>175.000</td>\n",
              "      <td>169.45</td>\n",
              "      <td>174.79</td>\n",
              "      <td>19355355</td>\n",
              "      <td>4.571849</td>\n",
              "      <td>0.914370</td>\n",
              "    </tr>\n",
              "  </tbody>\n",
              "</table>\n",
              "</div>"
            ],
            "text/plain": [
              "    timestamp      open     high  ...    volume  Normalized Return  Allocation\n",
              "0  2020-04-17  179.2000  180.280  ...  20574003           4.688244    0.937649\n",
              "1  2020-04-16  177.9500  178.050  ...  23593229           4.610037    0.922007\n",
              "2  2020-04-15  175.1865  178.190  ...  17423003           4.628869    0.925774\n",
              "3  2020-04-14  178.9765  181.225  ...  21011815           4.660257    0.932051\n",
              "4  2020-04-13  173.6700  175.000  ...  19355355           4.571849    0.914370\n",
              "\n",
              "[5 rows x 8 columns]"
            ]
          },
          "metadata": {
            "tags": []
          },
          "execution_count": 11
        }
      ]
    },
    {
      "cell_type": "code",
      "metadata": {
        "id": "XDx-RMzfZqfE",
        "colab_type": "code",
        "colab": {
          "base_uri": "https://localhost:8080/",
          "height": 191
        },
        "outputId": "a003d7c6-1059-4960-c226-ad7fd933de72"
      },
      "source": [
        "ibm.head()"
      ],
      "execution_count": 12,
      "outputs": [
        {
          "output_type": "execute_result",
          "data": {
            "text/html": [
              "<div>\n",
              "<style scoped>\n",
              "    .dataframe tbody tr th:only-of-type {\n",
              "        vertical-align: middle;\n",
              "    }\n",
              "\n",
              "    .dataframe tbody tr th {\n",
              "        vertical-align: top;\n",
              "    }\n",
              "\n",
              "    .dataframe thead th {\n",
              "        text-align: right;\n",
              "    }\n",
              "</style>\n",
              "<table border=\"1\" class=\"dataframe\">\n",
              "  <thead>\n",
              "    <tr style=\"text-align: right;\">\n",
              "      <th></th>\n",
              "      <th>timestamp</th>\n",
              "      <th>open</th>\n",
              "      <th>high</th>\n",
              "      <th>low</th>\n",
              "      <th>close</th>\n",
              "      <th>volume</th>\n",
              "      <th>Normalized Return</th>\n",
              "      <th>Allocation</th>\n",
              "    </tr>\n",
              "  </thead>\n",
              "  <tbody>\n",
              "    <tr>\n",
              "      <th>0</th>\n",
              "      <td>2020-04-17</td>\n",
              "      <td>119.30</td>\n",
              "      <td>120.3900</td>\n",
              "      <td>117.92</td>\n",
              "      <td>120.12</td>\n",
              "      <td>4944745</td>\n",
              "      <td>1.073746</td>\n",
              "      <td>0.214749</td>\n",
              "    </tr>\n",
              "    <tr>\n",
              "      <th>1</th>\n",
              "      <td>2020-04-16</td>\n",
              "      <td>119.01</td>\n",
              "      <td>119.7500</td>\n",
              "      <td>114.42</td>\n",
              "      <td>115.73</td>\n",
              "      <td>6438128</td>\n",
              "      <td>1.034504</td>\n",
              "      <td>0.206901</td>\n",
              "    </tr>\n",
              "    <tr>\n",
              "      <th>2</th>\n",
              "      <td>2020-04-15</td>\n",
              "      <td>119.12</td>\n",
              "      <td>120.1852</td>\n",
              "      <td>116.76</td>\n",
              "      <td>118.69</td>\n",
              "      <td>5632156</td>\n",
              "      <td>1.060964</td>\n",
              "      <td>0.212193</td>\n",
              "    </tr>\n",
              "    <tr>\n",
              "      <th>3</th>\n",
              "      <td>2020-04-14</td>\n",
              "      <td>123.46</td>\n",
              "      <td>125.1800</td>\n",
              "      <td>122.62</td>\n",
              "      <td>123.91</td>\n",
              "      <td>5087292</td>\n",
              "      <td>1.107625</td>\n",
              "      <td>0.221525</td>\n",
              "    </tr>\n",
              "    <tr>\n",
              "      <th>4</th>\n",
              "      <td>2020-04-13</td>\n",
              "      <td>121.63</td>\n",
              "      <td>121.8000</td>\n",
              "      <td>118.04</td>\n",
              "      <td>121.15</td>\n",
              "      <td>5118777</td>\n",
              "      <td>1.082953</td>\n",
              "      <td>0.216591</td>\n",
              "    </tr>\n",
              "  </tbody>\n",
              "</table>\n",
              "</div>"
            ],
            "text/plain": [
              "    timestamp    open      high  ...   volume  Normalized Return  Allocation\n",
              "0  2020-04-17  119.30  120.3900  ...  4944745           1.073746    0.214749\n",
              "1  2020-04-16  119.01  119.7500  ...  6438128           1.034504    0.206901\n",
              "2  2020-04-15  119.12  120.1852  ...  5632156           1.060964    0.212193\n",
              "3  2020-04-14  123.46  125.1800  ...  5087292           1.107625    0.221525\n",
              "4  2020-04-13  121.63  121.8000  ...  5118777           1.082953    0.216591\n",
              "\n",
              "[5 rows x 8 columns]"
            ]
          },
          "metadata": {
            "tags": []
          },
          "execution_count": 12
        }
      ]
    },
    {
      "cell_type": "code",
      "metadata": {
        "id": "zWKpR3MKZsvJ",
        "colab_type": "code",
        "colab": {
          "base_uri": "https://localhost:8080/",
          "height": 191
        },
        "outputId": "d5a66798-fb7c-45d3-fea4-2f21aa3c4777"
      },
      "source": [
        "google.head()"
      ],
      "execution_count": 13,
      "outputs": [
        {
          "output_type": "execute_result",
          "data": {
            "text/html": [
              "<div>\n",
              "<style scoped>\n",
              "    .dataframe tbody tr th:only-of-type {\n",
              "        vertical-align: middle;\n",
              "    }\n",
              "\n",
              "    .dataframe tbody tr th {\n",
              "        vertical-align: top;\n",
              "    }\n",
              "\n",
              "    .dataframe thead th {\n",
              "        text-align: right;\n",
              "    }\n",
              "</style>\n",
              "<table border=\"1\" class=\"dataframe\">\n",
              "  <thead>\n",
              "    <tr style=\"text-align: right;\">\n",
              "      <th></th>\n",
              "      <th>timestamp</th>\n",
              "      <th>open</th>\n",
              "      <th>high</th>\n",
              "      <th>low</th>\n",
              "      <th>close</th>\n",
              "      <th>volume</th>\n",
              "      <th>Normalized Return</th>\n",
              "      <th>Allocation</th>\n",
              "    </tr>\n",
              "  </thead>\n",
              "  <tbody>\n",
              "    <tr>\n",
              "      <th>0</th>\n",
              "      <td>2020-04-17</td>\n",
              "      <td>1281.70</td>\n",
              "      <td>1290.00</td>\n",
              "      <td>1266.00</td>\n",
              "      <td>1279.00</td>\n",
              "      <td>2505097</td>\n",
              "      <td>12.747297</td>\n",
              "      <td>2.549459</td>\n",
              "    </tr>\n",
              "    <tr>\n",
              "      <th>1</th>\n",
              "      <td>2020-04-16</td>\n",
              "      <td>1267.14</td>\n",
              "      <td>1273.36</td>\n",
              "      <td>1238.20</td>\n",
              "      <td>1257.43</td>\n",
              "      <td>2894757</td>\n",
              "      <td>12.532317</td>\n",
              "      <td>2.506463</td>\n",
              "    </tr>\n",
              "    <tr>\n",
              "      <th>2</th>\n",
              "      <td>2020-04-15</td>\n",
              "      <td>1246.51</td>\n",
              "      <td>1275.11</td>\n",
              "      <td>1234.00</td>\n",
              "      <td>1257.30</td>\n",
              "      <td>2111842</td>\n",
              "      <td>12.531021</td>\n",
              "      <td>2.506204</td>\n",
              "    </tr>\n",
              "    <tr>\n",
              "      <th>3</th>\n",
              "      <td>2020-04-14</td>\n",
              "      <td>1239.97</td>\n",
              "      <td>1275.75</td>\n",
              "      <td>1228.54</td>\n",
              "      <td>1265.23</td>\n",
              "      <td>3167862</td>\n",
              "      <td>12.610056</td>\n",
              "      <td>2.522011</td>\n",
              "    </tr>\n",
              "    <tr>\n",
              "      <th>4</th>\n",
              "      <td>2020-04-13</td>\n",
              "      <td>1201.50</td>\n",
              "      <td>1214.52</td>\n",
              "      <td>1182.33</td>\n",
              "      <td>1210.41</td>\n",
              "      <td>1935128</td>\n",
              "      <td>12.063687</td>\n",
              "      <td>2.412737</td>\n",
              "    </tr>\n",
              "  </tbody>\n",
              "</table>\n",
              "</div>"
            ],
            "text/plain": [
              "    timestamp     open     high  ...   volume  Normalized Return  Allocation\n",
              "0  2020-04-17  1281.70  1290.00  ...  2505097          12.747297    2.549459\n",
              "1  2020-04-16  1267.14  1273.36  ...  2894757          12.532317    2.506463\n",
              "2  2020-04-15  1246.51  1275.11  ...  2111842          12.531021    2.506204\n",
              "3  2020-04-14  1239.97  1275.75  ...  3167862          12.610056    2.522011\n",
              "4  2020-04-13  1201.50  1214.52  ...  1935128          12.063687    2.412737\n",
              "\n",
              "[5 rows x 8 columns]"
            ]
          },
          "metadata": {
            "tags": []
          },
          "execution_count": 13
        }
      ]
    },
    {
      "cell_type": "code",
      "metadata": {
        "id": "TdVJYV4oZt_z",
        "colab_type": "code",
        "colab": {
          "base_uri": "https://localhost:8080/",
          "height": 191
        },
        "outputId": "a6ece57c-f659-4db5-e156-b24edd19b539"
      },
      "source": [
        "apple.head()"
      ],
      "execution_count": 14,
      "outputs": [
        {
          "output_type": "execute_result",
          "data": {
            "text/html": [
              "<div>\n",
              "<style scoped>\n",
              "    .dataframe tbody tr th:only-of-type {\n",
              "        vertical-align: middle;\n",
              "    }\n",
              "\n",
              "    .dataframe tbody tr th {\n",
              "        vertical-align: top;\n",
              "    }\n",
              "\n",
              "    .dataframe thead th {\n",
              "        text-align: right;\n",
              "    }\n",
              "</style>\n",
              "<table border=\"1\" class=\"dataframe\">\n",
              "  <thead>\n",
              "    <tr style=\"text-align: right;\">\n",
              "      <th></th>\n",
              "      <th>timestamp</th>\n",
              "      <th>open</th>\n",
              "      <th>high</th>\n",
              "      <th>low</th>\n",
              "      <th>close</th>\n",
              "      <th>volume</th>\n",
              "      <th>Normalized Return</th>\n",
              "      <th>Allocation</th>\n",
              "    </tr>\n",
              "  </thead>\n",
              "  <tbody>\n",
              "    <tr>\n",
              "      <th>0</th>\n",
              "      <td>2020-04-17</td>\n",
              "      <td>284.69</td>\n",
              "      <td>286.9450</td>\n",
              "      <td>276.8600</td>\n",
              "      <td>282.80</td>\n",
              "      <td>53451248</td>\n",
              "      <td>2.283039</td>\n",
              "      <td>0.456608</td>\n",
              "    </tr>\n",
              "    <tr>\n",
              "      <th>1</th>\n",
              "      <td>2020-04-16</td>\n",
              "      <td>287.38</td>\n",
              "      <td>288.1975</td>\n",
              "      <td>282.3502</td>\n",
              "      <td>286.69</td>\n",
              "      <td>39281290</td>\n",
              "      <td>2.314443</td>\n",
              "      <td>0.462889</td>\n",
              "    </tr>\n",
              "    <tr>\n",
              "      <th>2</th>\n",
              "      <td>2020-04-15</td>\n",
              "      <td>282.40</td>\n",
              "      <td>286.3300</td>\n",
              "      <td>280.6300</td>\n",
              "      <td>284.43</td>\n",
              "      <td>32788641</td>\n",
              "      <td>2.296198</td>\n",
              "      <td>0.459240</td>\n",
              "    </tr>\n",
              "    <tr>\n",
              "      <th>3</th>\n",
              "      <td>2020-04-14</td>\n",
              "      <td>280.00</td>\n",
              "      <td>288.2500</td>\n",
              "      <td>278.0500</td>\n",
              "      <td>287.05</td>\n",
              "      <td>48748672</td>\n",
              "      <td>2.317349</td>\n",
              "      <td>0.463470</td>\n",
              "    </tr>\n",
              "    <tr>\n",
              "      <th>4</th>\n",
              "      <td>2020-04-13</td>\n",
              "      <td>268.31</td>\n",
              "      <td>273.7000</td>\n",
              "      <td>265.8300</td>\n",
              "      <td>273.25</td>\n",
              "      <td>32755731</td>\n",
              "      <td>2.205942</td>\n",
              "      <td>0.441188</td>\n",
              "    </tr>\n",
              "  </tbody>\n",
              "</table>\n",
              "</div>"
            ],
            "text/plain": [
              "    timestamp    open      high  ...    volume  Normalized Return  Allocation\n",
              "0  2020-04-17  284.69  286.9450  ...  53451248           2.283039    0.456608\n",
              "1  2020-04-16  287.38  288.1975  ...  39281290           2.314443    0.462889\n",
              "2  2020-04-15  282.40  286.3300  ...  32788641           2.296198    0.459240\n",
              "3  2020-04-14  280.00  288.2500  ...  48748672           2.317349    0.463470\n",
              "4  2020-04-13  268.31  273.7000  ...  32755731           2.205942    0.441188\n",
              "\n",
              "[5 rows x 8 columns]"
            ]
          },
          "metadata": {
            "tags": []
          },
          "execution_count": 14
        }
      ]
    },
    {
      "cell_type": "code",
      "metadata": {
        "id": "7Z2orMpLZwBA",
        "colab_type": "code",
        "colab": {}
      },
      "source": [
        "stocks = (fb,ibm,amzn,google,apple)\n",
        "portfolioValue = 100000"
      ],
      "execution_count": 0,
      "outputs": []
    },
    {
      "cell_type": "code",
      "metadata": {
        "id": "IsMbWJLNZ6EM",
        "colab_type": "code",
        "colab": {}
      },
      "source": [
        "for df in stocks:\n",
        "  df['Position Value'] = df['Allocation']*portfolioValue"
      ],
      "execution_count": 0,
      "outputs": []
    },
    {
      "cell_type": "code",
      "metadata": {
        "id": "vCUd3CFHaHIr",
        "colab_type": "code",
        "colab": {
          "base_uri": "https://localhost:8080/",
          "height": 191
        },
        "outputId": "cfdb9c25-1669-45db-b1d4-d5374dc516c0"
      },
      "source": [
        "fb.head()"
      ],
      "execution_count": 17,
      "outputs": [
        {
          "output_type": "execute_result",
          "data": {
            "text/html": [
              "<div>\n",
              "<style scoped>\n",
              "    .dataframe tbody tr th:only-of-type {\n",
              "        vertical-align: middle;\n",
              "    }\n",
              "\n",
              "    .dataframe tbody tr th {\n",
              "        vertical-align: top;\n",
              "    }\n",
              "\n",
              "    .dataframe thead th {\n",
              "        text-align: right;\n",
              "    }\n",
              "</style>\n",
              "<table border=\"1\" class=\"dataframe\">\n",
              "  <thead>\n",
              "    <tr style=\"text-align: right;\">\n",
              "      <th></th>\n",
              "      <th>timestamp</th>\n",
              "      <th>open</th>\n",
              "      <th>high</th>\n",
              "      <th>low</th>\n",
              "      <th>close</th>\n",
              "      <th>volume</th>\n",
              "      <th>Normalized Return</th>\n",
              "      <th>Allocation</th>\n",
              "      <th>Position Value</th>\n",
              "    </tr>\n",
              "  </thead>\n",
              "  <tbody>\n",
              "    <tr>\n",
              "      <th>0</th>\n",
              "      <td>2020-04-17</td>\n",
              "      <td>179.2000</td>\n",
              "      <td>180.280</td>\n",
              "      <td>176.66</td>\n",
              "      <td>179.24</td>\n",
              "      <td>20574003</td>\n",
              "      <td>4.688244</td>\n",
              "      <td>0.937649</td>\n",
              "      <td>93764.876359</td>\n",
              "    </tr>\n",
              "    <tr>\n",
              "      <th>1</th>\n",
              "      <td>2020-04-16</td>\n",
              "      <td>177.9500</td>\n",
              "      <td>178.050</td>\n",
              "      <td>172.51</td>\n",
              "      <td>176.25</td>\n",
              "      <td>23593229</td>\n",
              "      <td>4.610037</td>\n",
              "      <td>0.922007</td>\n",
              "      <td>92200.733421</td>\n",
              "    </tr>\n",
              "    <tr>\n",
              "      <th>2</th>\n",
              "      <td>2020-04-15</td>\n",
              "      <td>175.1865</td>\n",
              "      <td>178.190</td>\n",
              "      <td>172.82</td>\n",
              "      <td>176.97</td>\n",
              "      <td>17423003</td>\n",
              "      <td>4.628869</td>\n",
              "      <td>0.925774</td>\n",
              "      <td>92577.383225</td>\n",
              "    </tr>\n",
              "    <tr>\n",
              "      <th>3</th>\n",
              "      <td>2020-04-14</td>\n",
              "      <td>178.9765</td>\n",
              "      <td>181.225</td>\n",
              "      <td>176.62</td>\n",
              "      <td>178.17</td>\n",
              "      <td>21011815</td>\n",
              "      <td>4.660257</td>\n",
              "      <td>0.932051</td>\n",
              "      <td>93205.132900</td>\n",
              "    </tr>\n",
              "    <tr>\n",
              "      <th>4</th>\n",
              "      <td>2020-04-13</td>\n",
              "      <td>173.6700</td>\n",
              "      <td>175.000</td>\n",
              "      <td>169.45</td>\n",
              "      <td>174.79</td>\n",
              "      <td>19355355</td>\n",
              "      <td>4.571849</td>\n",
              "      <td>0.914370</td>\n",
              "      <td>91436.971317</td>\n",
              "    </tr>\n",
              "  </tbody>\n",
              "</table>\n",
              "</div>"
            ],
            "text/plain": [
              "    timestamp      open     high  ...  Normalized Return  Allocation  Position Value\n",
              "0  2020-04-17  179.2000  180.280  ...           4.688244    0.937649    93764.876359\n",
              "1  2020-04-16  177.9500  178.050  ...           4.610037    0.922007    92200.733421\n",
              "2  2020-04-15  175.1865  178.190  ...           4.628869    0.925774    92577.383225\n",
              "3  2020-04-14  178.9765  181.225  ...           4.660257    0.932051    93205.132900\n",
              "4  2020-04-13  173.6700  175.000  ...           4.571849    0.914370    91436.971317\n",
              "\n",
              "[5 rows x 9 columns]"
            ]
          },
          "metadata": {
            "tags": []
          },
          "execution_count": 17
        }
      ]
    },
    {
      "cell_type": "code",
      "metadata": {
        "id": "-5uvSzFuaIPT",
        "colab_type": "code",
        "colab": {
          "base_uri": "https://localhost:8080/",
          "height": 191
        },
        "outputId": "4ac0c9ec-c205-4056-af9b-037379e9a9f6"
      },
      "source": [
        "google.head()"
      ],
      "execution_count": 18,
      "outputs": [
        {
          "output_type": "execute_result",
          "data": {
            "text/html": [
              "<div>\n",
              "<style scoped>\n",
              "    .dataframe tbody tr th:only-of-type {\n",
              "        vertical-align: middle;\n",
              "    }\n",
              "\n",
              "    .dataframe tbody tr th {\n",
              "        vertical-align: top;\n",
              "    }\n",
              "\n",
              "    .dataframe thead th {\n",
              "        text-align: right;\n",
              "    }\n",
              "</style>\n",
              "<table border=\"1\" class=\"dataframe\">\n",
              "  <thead>\n",
              "    <tr style=\"text-align: right;\">\n",
              "      <th></th>\n",
              "      <th>timestamp</th>\n",
              "      <th>open</th>\n",
              "      <th>high</th>\n",
              "      <th>low</th>\n",
              "      <th>close</th>\n",
              "      <th>volume</th>\n",
              "      <th>Normalized Return</th>\n",
              "      <th>Allocation</th>\n",
              "      <th>Position Value</th>\n",
              "    </tr>\n",
              "  </thead>\n",
              "  <tbody>\n",
              "    <tr>\n",
              "      <th>0</th>\n",
              "      <td>2020-04-17</td>\n",
              "      <td>1281.70</td>\n",
              "      <td>1290.00</td>\n",
              "      <td>1266.00</td>\n",
              "      <td>1279.00</td>\n",
              "      <td>2505097</td>\n",
              "      <td>12.747297</td>\n",
              "      <td>2.549459</td>\n",
              "      <td>254945.931131</td>\n",
              "    </tr>\n",
              "    <tr>\n",
              "      <th>1</th>\n",
              "      <td>2020-04-16</td>\n",
              "      <td>1267.14</td>\n",
              "      <td>1273.36</td>\n",
              "      <td>1238.20</td>\n",
              "      <td>1257.43</td>\n",
              "      <td>2894757</td>\n",
              "      <td>12.532317</td>\n",
              "      <td>2.506463</td>\n",
              "      <td>250646.334778</td>\n",
              "    </tr>\n",
              "    <tr>\n",
              "      <th>2</th>\n",
              "      <td>2020-04-15</td>\n",
              "      <td>1246.51</td>\n",
              "      <td>1275.11</td>\n",
              "      <td>1234.00</td>\n",
              "      <td>1257.30</td>\n",
              "      <td>2111842</td>\n",
              "      <td>12.531021</td>\n",
              "      <td>2.506204</td>\n",
              "      <td>250620.421588</td>\n",
              "    </tr>\n",
              "    <tr>\n",
              "      <th>3</th>\n",
              "      <td>2020-04-14</td>\n",
              "      <td>1239.97</td>\n",
              "      <td>1275.75</td>\n",
              "      <td>1228.54</td>\n",
              "      <td>1265.23</td>\n",
              "      <td>3167862</td>\n",
              "      <td>12.610056</td>\n",
              "      <td>2.522011</td>\n",
              "      <td>252201.126227</td>\n",
              "    </tr>\n",
              "    <tr>\n",
              "      <th>4</th>\n",
              "      <td>2020-04-13</td>\n",
              "      <td>1201.50</td>\n",
              "      <td>1214.52</td>\n",
              "      <td>1182.33</td>\n",
              "      <td>1210.41</td>\n",
              "      <td>1935128</td>\n",
              "      <td>12.063687</td>\n",
              "      <td>2.412737</td>\n",
              "      <td>241273.732994</td>\n",
              "    </tr>\n",
              "  </tbody>\n",
              "</table>\n",
              "</div>"
            ],
            "text/plain": [
              "    timestamp     open     high  ...  Normalized Return  Allocation  Position Value\n",
              "0  2020-04-17  1281.70  1290.00  ...          12.747297    2.549459   254945.931131\n",
              "1  2020-04-16  1267.14  1273.36  ...          12.532317    2.506463   250646.334778\n",
              "2  2020-04-15  1246.51  1275.11  ...          12.531021    2.506204   250620.421588\n",
              "3  2020-04-14  1239.97  1275.75  ...          12.610056    2.522011   252201.126227\n",
              "4  2020-04-13  1201.50  1214.52  ...          12.063687    2.412737   241273.732994\n",
              "\n",
              "[5 rows x 9 columns]"
            ]
          },
          "metadata": {
            "tags": []
          },
          "execution_count": 18
        }
      ]
    },
    {
      "cell_type": "code",
      "metadata": {
        "id": "sDbAYizmaNi8",
        "colab_type": "code",
        "colab": {}
      },
      "source": [
        "allPosVals = [fb['Position Value'],ibm['Position Value'],amzn['Position Value'],google['Position Value'],apple['Position Value']]\n",
        "portfolioVal = pd.concat(allPosVals, axis=1)"
      ],
      "execution_count": 0,
      "outputs": []
    },
    {
      "cell_type": "code",
      "metadata": {
        "id": "dXuVDU6HamLA",
        "colab_type": "code",
        "colab": {}
      },
      "source": [
        "portfolioVal.columns = ['FB', 'IBM','AMZN','GOOGL','AAPL']\n",
        "portfolioVal['Total'] = portfolioVal.sum(axis=1)"
      ],
      "execution_count": 0,
      "outputs": []
    },
    {
      "cell_type": "code",
      "metadata": {
        "id": "VflSB_bsa7ax",
        "colab_type": "code",
        "colab": {
          "base_uri": "https://localhost:8080/",
          "height": 191
        },
        "outputId": "5e3ee4ac-bddb-40ed-ccde-e65554f16ea7"
      },
      "source": [
        "portfolioVal.head()"
      ],
      "execution_count": 22,
      "outputs": [
        {
          "output_type": "execute_result",
          "data": {
            "text/html": [
              "<div>\n",
              "<style scoped>\n",
              "    .dataframe tbody tr th:only-of-type {\n",
              "        vertical-align: middle;\n",
              "    }\n",
              "\n",
              "    .dataframe tbody tr th {\n",
              "        vertical-align: top;\n",
              "    }\n",
              "\n",
              "    .dataframe thead th {\n",
              "        text-align: right;\n",
              "    }\n",
              "</style>\n",
              "<table border=\"1\" class=\"dataframe\">\n",
              "  <thead>\n",
              "    <tr style=\"text-align: right;\">\n",
              "      <th></th>\n",
              "      <th>FB</th>\n",
              "      <th>IBM</th>\n",
              "      <th>AMZN</th>\n",
              "      <th>GOOGL</th>\n",
              "      <th>AAPL</th>\n",
              "      <th>Total</th>\n",
              "    </tr>\n",
              "  </thead>\n",
              "  <tbody>\n",
              "    <tr>\n",
              "      <th>0</th>\n",
              "      <td>93764.876359</td>\n",
              "      <td>21474.926254</td>\n",
              "      <td>1.009350e+06</td>\n",
              "      <td>254945.931131</td>\n",
              "      <td>45660.773391</td>\n",
              "      <td>1.425196e+06</td>\n",
              "    </tr>\n",
              "    <tr>\n",
              "      <th>1</th>\n",
              "      <td>92200.733421</td>\n",
              "      <td>20690.086708</td>\n",
              "      <td>1.023455e+06</td>\n",
              "      <td>250646.334778</td>\n",
              "      <td>46288.851215</td>\n",
              "      <td>1.433281e+06</td>\n",
              "    </tr>\n",
              "    <tr>\n",
              "      <th>2</th>\n",
              "      <td>92577.383225</td>\n",
              "      <td>21219.272370</td>\n",
              "      <td>9.807395e+05</td>\n",
              "      <td>250620.421588</td>\n",
              "      <td>45923.952531</td>\n",
              "      <td>1.391081e+06</td>\n",
              "    </tr>\n",
              "    <tr>\n",
              "      <th>3</th>\n",
              "      <td>93205.132900</td>\n",
              "      <td>22152.498436</td>\n",
              "      <td>9.703867e+05</td>\n",
              "      <td>252201.126227</td>\n",
              "      <td>46346.976669</td>\n",
              "      <td>1.384292e+06</td>\n",
              "    </tr>\n",
              "    <tr>\n",
              "      <th>4</th>\n",
              "      <td>91436.971317</td>\n",
              "      <td>21659.068562</td>\n",
              "      <td>9.217467e+05</td>\n",
              "      <td>241273.732994</td>\n",
              "      <td>44118.834262</td>\n",
              "      <td>1.320235e+06</td>\n",
              "    </tr>\n",
              "  </tbody>\n",
              "</table>\n",
              "</div>"
            ],
            "text/plain": [
              "             FB           IBM  ...          AAPL         Total\n",
              "0  93764.876359  21474.926254  ...  45660.773391  1.425196e+06\n",
              "1  92200.733421  20690.086708  ...  46288.851215  1.433281e+06\n",
              "2  92577.383225  21219.272370  ...  45923.952531  1.391081e+06\n",
              "3  93205.132900  22152.498436  ...  46346.976669  1.384292e+06\n",
              "4  91436.971317  21659.068562  ...  44118.834262  1.320235e+06\n",
              "\n",
              "[5 rows x 6 columns]"
            ]
          },
          "metadata": {
            "tags": []
          },
          "execution_count": 22
        }
      ]
    },
    {
      "cell_type": "code",
      "metadata": {
        "id": "k-1vjAfYa_t2",
        "colab_type": "code",
        "colab": {}
      },
      "source": [
        "%matplotlib inline"
      ],
      "execution_count": 0,
      "outputs": []
    },
    {
      "cell_type": "code",
      "metadata": {
        "id": "wA7DNIyIbDNL",
        "colab_type": "code",
        "colab": {
          "base_uri": "https://localhost:8080/",
          "height": 292
        },
        "outputId": "f07476de-11ba-4809-ebaf-33e097feb895"
      },
      "source": [
        "portfolioVal['Total'].plot()"
      ],
      "execution_count": 24,
      "outputs": [
        {
          "output_type": "execute_result",
          "data": {
            "text/plain": [
              "<matplotlib.axes._subplots.AxesSubplot at 0x7f23169840f0>"
            ]
          },
          "metadata": {
            "tags": []
          },
          "execution_count": 24
        },
        {
          "output_type": "display_data",
          "data": {
            "image/png": "[encoded data removed]",
            "text/plain": [
              "<Figure size 432x288 with 1 Axes>"
            ]
          },
          "metadata": {
            "tags": [],
            "needs_background": "light"
          }
        }
      ]
    },
    {
      "cell_type": "markdown",
      "metadata": {
        "id": "UUnPOWlabV2-",
        "colab_type": "text"
      },
      "source": [
        "Our Graph has a reverse date axis. So, 5000 days ago (August, 2006), our portfolio was worth 100,000 USD. Now, it's worth over 1.4 million dollars. Let's determine our top earners..."
      ]
    },
    {
      "cell_type": "code",
      "metadata": {
        "id": "T6FBqzDxbIb2",
        "colab_type": "code",
        "colab": {
          "base_uri": "https://localhost:8080/",
          "height": 510
        },
        "outputId": "b271e9d4-073b-481a-b4a0-16cc1e9d6da0"
      },
      "source": [
        "portfolioVal.drop('Total',axis=1).plot(figsize=(10,8))\n"
      ],
      "execution_count": 25,
      "outputs": [
        {
          "output_type": "execute_result",
          "data": {
            "text/plain": [
              "<matplotlib.axes._subplots.AxesSubplot at 0x7f231508cf28>"
            ]
          },
          "metadata": {
            "tags": []
          },
          "execution_count": 25
        },
        {
          "output_type": "display_data",
          "data": {
            "image/png": "[encoded data removed]",
            "text/plain": [
              "<Figure size 720x576 with 1 Axes>"
            ]
          },
          "metadata": {
            "tags": [],
            "needs_background": "light"
          }
        }
      ]
    },
    {
      "cell_type": "markdown",
      "metadata": {
        "id": "9jngfXEAbuTw",
        "colab_type": "text"
      },
      "source": [
        "Amazon went from 20,000 to nearly 1 million dollars\n",
        "\n",
        "Google, and Apple were on pace until about 2016 when they had a major slip"
      ]
    },
    {
      "cell_type": "markdown",
      "metadata": {
        "id": "RlBDcSfkcObY",
        "colab_type": "text"
      },
      "source": [
        "Facebook enters in late, at about 2012, and IBM stagnates.\n",
        "\n",
        "Let's see how our data holds up in the short term. We can do this by recalling the AlphaVantage API to only return 1 year of data, or we can try to drop values from the dataframe. Another way to visualize our returns is by only graphing data from 0:365 (the past year)"
      ]
    },
    {
      "cell_type": "code",
      "metadata": {
        "id": "Dg63KR_ZbqYh",
        "colab_type": "code",
        "colab": {
          "base_uri": "https://localhost:8080/",
          "height": 292
        },
        "outputId": "f52276e2-3f36-40a3-a944-f818850b146a"
      },
      "source": [
        "portfolioVal['Total'][0:365].plot()"
      ],
      "execution_count": 26,
      "outputs": [
        {
          "output_type": "execute_result",
          "data": {
            "text/plain": [
              "<matplotlib.axes._subplots.AxesSubplot at 0x7f2314bae048>"
            ]
          },
          "metadata": {
            "tags": []
          },
          "execution_count": 26
        },
        {
          "output_type": "display_data",
          "data": {
            "image/png": "[encoded data removed]",
            "text/plain": [
              "<Figure size 432x288 with 1 Axes>"
            ]
          },
          "metadata": {
            "tags": [],
            "needs_background": "light"
          }
        }
      ]
    },
    {
      "cell_type": "markdown",
      "metadata": {
        "id": "BBwcm5qLdRPW",
        "colab_type": "text"
      },
      "source": [
        "Our Initial 100,000 dollar investment is worth about 1.1 million dollars. We end the year at 1.4 million dollars, giving us a return of about 27.3%.\n",
        "\n",
        "Now let's determine how the individual stocks did on this interval"
      ]
    },
    {
      "cell_type": "code",
      "metadata": {
        "id": "kmvxObFEdLpL",
        "colab_type": "code",
        "colab": {
          "base_uri": "https://localhost:8080/",
          "height": 510
        },
        "outputId": "93176213-552b-47e3-ad42-76aeeb9e6103"
      },
      "source": [
        "portfolioVal.drop('Total',axis=1)[0:365].plot(figsize=(10,8))\n"
      ],
      "execution_count": 27,
      "outputs": [
        {
          "output_type": "execute_result",
          "data": {
            "text/plain": [
              "<matplotlib.axes._subplots.AxesSubplot at 0x7f2314b4dbe0>"
            ]
          },
          "metadata": {
            "tags": []
          },
          "execution_count": 27
        },
        {
          "output_type": "display_data",
          "data": {
            "image/png": "[encoded data removed]",
            "text/plain": [
              "<Figure size 720x576 with 1 Axes>"
            ]
          },
          "metadata": {
            "tags": [],
            "needs_background": "light"
          }
        }
      ]
    },
    {
      "cell_type": "markdown",
      "metadata": {
        "id": "645pcBBbdtdI",
        "colab_type": "text"
      },
      "source": [
        "Here we see the majority of the stocks stagnated during our 1 year period, with Amazon making up the majority of our returns. "
      ]
    },
    {
      "cell_type": "code",
      "metadata": {
        "id": "glKK1oAkdoIm",
        "colab_type": "code",
        "colab": {}
      },
      "source": [
        "portfolioVal['Daily Return'] = portfolioVal['Total'].pct_change(1)\n"
      ],
      "execution_count": 0,
      "outputs": []
    },
    {
      "cell_type": "code",
      "metadata": {
        "id": "rQj6FJd7eQ4L",
        "colab_type": "code",
        "colab": {
          "base_uri": "https://localhost:8080/",
          "height": 191
        },
        "outputId": "ee53568a-c6f4-4fe5-b165-8a929efed848"
      },
      "source": [
        "portfolioVal.head()"
      ],
      "execution_count": 29,
      "outputs": [
        {
          "output_type": "execute_result",
          "data": {
            "text/html": [
              "<div>\n",
              "<style scoped>\n",
              "    .dataframe tbody tr th:only-of-type {\n",
              "        vertical-align: middle;\n",
              "    }\n",
              "\n",
              "    .dataframe tbody tr th {\n",
              "        vertical-align: top;\n",
              "    }\n",
              "\n",
              "    .dataframe thead th {\n",
              "        text-align: right;\n",
              "    }\n",
              "</style>\n",
              "<table border=\"1\" class=\"dataframe\">\n",
              "  <thead>\n",
              "    <tr style=\"text-align: right;\">\n",
              "      <th></th>\n",
              "      <th>FB</th>\n",
              "      <th>IBM</th>\n",
              "      <th>AMZN</th>\n",
              "      <th>GOOGL</th>\n",
              "      <th>AAPL</th>\n",
              "      <th>Total</th>\n",
              "      <th>Daily Return</th>\n",
              "    </tr>\n",
              "  </thead>\n",
              "  <tbody>\n",
              "    <tr>\n",
              "      <th>0</th>\n",
              "      <td>93764.876359</td>\n",
              "      <td>21474.926254</td>\n",
              "      <td>1.009350e+06</td>\n",
              "      <td>254945.931131</td>\n",
              "      <td>45660.773391</td>\n",
              "      <td>1.425196e+06</td>\n",
              "      <td>NaN</td>\n",
              "    </tr>\n",
              "    <tr>\n",
              "      <th>1</th>\n",
              "      <td>92200.733421</td>\n",
              "      <td>20690.086708</td>\n",
              "      <td>1.023455e+06</td>\n",
              "      <td>250646.334778</td>\n",
              "      <td>46288.851215</td>\n",
              "      <td>1.433281e+06</td>\n",
              "      <td>0.005673</td>\n",
              "    </tr>\n",
              "    <tr>\n",
              "      <th>2</th>\n",
              "      <td>92577.383225</td>\n",
              "      <td>21219.272370</td>\n",
              "      <td>9.807395e+05</td>\n",
              "      <td>250620.421588</td>\n",
              "      <td>45923.952531</td>\n",
              "      <td>1.391081e+06</td>\n",
              "      <td>-0.029443</td>\n",
              "    </tr>\n",
              "    <tr>\n",
              "      <th>3</th>\n",
              "      <td>93205.132900</td>\n",
              "      <td>22152.498436</td>\n",
              "      <td>9.703867e+05</td>\n",
              "      <td>252201.126227</td>\n",
              "      <td>46346.976669</td>\n",
              "      <td>1.384292e+06</td>\n",
              "      <td>-0.004880</td>\n",
              "    </tr>\n",
              "    <tr>\n",
              "      <th>4</th>\n",
              "      <td>91436.971317</td>\n",
              "      <td>21659.068562</td>\n",
              "      <td>9.217467e+05</td>\n",
              "      <td>241273.732994</td>\n",
              "      <td>44118.834262</td>\n",
              "      <td>1.320235e+06</td>\n",
              "      <td>-0.046274</td>\n",
              "    </tr>\n",
              "  </tbody>\n",
              "</table>\n",
              "</div>"
            ],
            "text/plain": [
              "             FB           IBM  ...         Total  Daily Return\n",
              "0  93764.876359  21474.926254  ...  1.425196e+06           NaN\n",
              "1  92200.733421  20690.086708  ...  1.433281e+06      0.005673\n",
              "2  92577.383225  21219.272370  ...  1.391081e+06     -0.029443\n",
              "3  93205.132900  22152.498436  ...  1.384292e+06     -0.004880\n",
              "4  91436.971317  21659.068562  ...  1.320235e+06     -0.046274\n",
              "\n",
              "[5 rows x 7 columns]"
            ]
          },
          "metadata": {
            "tags": []
          },
          "execution_count": 29
        }
      ]
    },
    {
      "cell_type": "markdown",
      "metadata": {
        "id": "KfBmUjWseaGs",
        "colab_type": "text"
      },
      "source": [
        "Our dataset has a problem. The date axis is reversed! Let's try and fix that before we calculate Daily Return"
      ]
    },
    {
      "cell_type": "code",
      "metadata": {
        "id": "87fnQBFIeUNm",
        "colab_type": "code",
        "colab": {
          "base_uri": "https://localhost:8080/",
          "height": 391
        },
        "outputId": "6977192f-4e37-449b-9868-0ba19289c4a0"
      },
      "source": [
        "portfolioVal.reindex(index=portfolioVal.index[::-1])\n"
      ],
      "execution_count": 30,
      "outputs": [
        {
          "output_type": "execute_result",
          "data": {
            "text/html": [
              "<div>\n",
              "<style scoped>\n",
              "    .dataframe tbody tr th:only-of-type {\n",
              "        vertical-align: middle;\n",
              "    }\n",
              "\n",
              "    .dataframe tbody tr th {\n",
              "        vertical-align: top;\n",
              "    }\n",
              "\n",
              "    .dataframe thead th {\n",
              "        text-align: right;\n",
              "    }\n",
              "</style>\n",
              "<table border=\"1\" class=\"dataframe\">\n",
              "  <thead>\n",
              "    <tr style=\"text-align: right;\">\n",
              "      <th></th>\n",
              "      <th>FB</th>\n",
              "      <th>IBM</th>\n",
              "      <th>AMZN</th>\n",
              "      <th>GOOGL</th>\n",
              "      <th>AAPL</th>\n",
              "      <th>Total</th>\n",
              "      <th>Daily Return</th>\n",
              "    </tr>\n",
              "  </thead>\n",
              "  <tbody>\n",
              "    <tr>\n",
              "      <th>5031</th>\n",
              "      <td>NaN</td>\n",
              "      <td>20000.000000</td>\n",
              "      <td>2.000000e+04</td>\n",
              "      <td>NaN</td>\n",
              "      <td>20000.000000</td>\n",
              "      <td>6.000000e+04</td>\n",
              "      <td>-0.059077</td>\n",
              "    </tr>\n",
              "    <tr>\n",
              "      <th>5030</th>\n",
              "      <td>NaN</td>\n",
              "      <td>19933.851792</td>\n",
              "      <td>2.334892e+04</td>\n",
              "      <td>NaN</td>\n",
              "      <td>20484.378784</td>\n",
              "      <td>6.376715e+04</td>\n",
              "      <td>0.044692</td>\n",
              "    </tr>\n",
              "    <tr>\n",
              "      <th>5029</th>\n",
              "      <td>NaN</td>\n",
              "      <td>18771.788683</td>\n",
              "      <td>2.271143e+04</td>\n",
              "      <td>NaN</td>\n",
              "      <td>19555.986114</td>\n",
              "      <td>6.103921e+04</td>\n",
              "      <td>0.016530</td>\n",
              "    </tr>\n",
              "    <tr>\n",
              "      <th>5028</th>\n",
              "      <td>NaN</td>\n",
              "      <td>18593.009743</td>\n",
              "      <td>2.226094e+04</td>\n",
              "      <td>NaN</td>\n",
              "      <td>19192.702026</td>\n",
              "      <td>6.004666e+04</td>\n",
              "      <td>0.006404</td>\n",
              "    </tr>\n",
              "    <tr>\n",
              "      <th>5027</th>\n",
              "      <td>NaN</td>\n",
              "      <td>19039.957093</td>\n",
              "      <td>2.116872e+04</td>\n",
              "      <td>NaN</td>\n",
              "      <td>19455.881166</td>\n",
              "      <td>5.966456e+04</td>\n",
              "      <td>-0.054683</td>\n",
              "    </tr>\n",
              "    <tr>\n",
              "      <th>...</th>\n",
              "      <td>...</td>\n",
              "      <td>...</td>\n",
              "      <td>...</td>\n",
              "      <td>...</td>\n",
              "      <td>...</td>\n",
              "      <td>...</td>\n",
              "      <td>...</td>\n",
              "    </tr>\n",
              "    <tr>\n",
              "      <th>4</th>\n",
              "      <td>91436.971317</td>\n",
              "      <td>21659.068562</td>\n",
              "      <td>9.217467e+05</td>\n",
              "      <td>241273.732994</td>\n",
              "      <td>44118.834262</td>\n",
              "      <td>1.320235e+06</td>\n",
              "      <td>-0.046274</td>\n",
              "    </tr>\n",
              "    <tr>\n",
              "      <th>3</th>\n",
              "      <td>93205.132900</td>\n",
              "      <td>22152.498436</td>\n",
              "      <td>9.703867e+05</td>\n",
              "      <td>252201.126227</td>\n",
              "      <td>46346.976669</td>\n",
              "      <td>1.384292e+06</td>\n",
              "      <td>-0.004880</td>\n",
              "    </tr>\n",
              "    <tr>\n",
              "      <th>2</th>\n",
              "      <td>92577.383225</td>\n",
              "      <td>21219.272370</td>\n",
              "      <td>9.807395e+05</td>\n",
              "      <td>250620.421588</td>\n",
              "      <td>45923.952531</td>\n",
              "      <td>1.391081e+06</td>\n",
              "      <td>-0.029443</td>\n",
              "    </tr>\n",
              "    <tr>\n",
              "      <th>1</th>\n",
              "      <td>92200.733421</td>\n",
              "      <td>20690.086708</td>\n",
              "      <td>1.023455e+06</td>\n",
              "      <td>250646.334778</td>\n",
              "      <td>46288.851215</td>\n",
              "      <td>1.433281e+06</td>\n",
              "      <td>0.005673</td>\n",
              "    </tr>\n",
              "    <tr>\n",
              "      <th>0</th>\n",
              "      <td>93764.876359</td>\n",
              "      <td>21474.926254</td>\n",
              "      <td>1.009350e+06</td>\n",
              "      <td>254945.931131</td>\n",
              "      <td>45660.773391</td>\n",
              "      <td>1.425196e+06</td>\n",
              "      <td>NaN</td>\n",
              "    </tr>\n",
              "  </tbody>\n",
              "</table>\n",
              "<p>5032 rows × 7 columns</p>\n",
              "</div>"
            ],
            "text/plain": [
              "                FB           IBM  ...         Total  Daily Return\n",
              "5031           NaN  20000.000000  ...  6.000000e+04     -0.059077\n",
              "5030           NaN  19933.851792  ...  6.376715e+04      0.044692\n",
              "5029           NaN  18771.788683  ...  6.103921e+04      0.016530\n",
              "5028           NaN  18593.009743  ...  6.004666e+04      0.006404\n",
              "5027           NaN  19039.957093  ...  5.966456e+04     -0.054683\n",
              "...            ...           ...  ...           ...           ...\n",
              "4     91436.971317  21659.068562  ...  1.320235e+06     -0.046274\n",
              "3     93205.132900  22152.498436  ...  1.384292e+06     -0.004880\n",
              "2     92577.383225  21219.272370  ...  1.391081e+06     -0.029443\n",
              "1     92200.733421  20690.086708  ...  1.433281e+06      0.005673\n",
              "0     93764.876359  21474.926254  ...  1.425196e+06           NaN\n",
              "\n",
              "[5032 rows x 7 columns]"
            ]
          },
          "metadata": {
            "tags": []
          },
          "execution_count": 30
        }
      ]
    },
    {
      "cell_type": "code",
      "metadata": {
        "id": "acaCVSR3esCA",
        "colab_type": "code",
        "colab": {
          "base_uri": "https://localhost:8080/",
          "height": 191
        },
        "outputId": "1d8165c6-1dcc-4ec1-e5db-bf845bd9c2e5"
      },
      "source": [
        "portfolioVal.head()"
      ],
      "execution_count": 31,
      "outputs": [
        {
          "output_type": "execute_result",
          "data": {
            "text/html": [
              "<div>\n",
              "<style scoped>\n",
              "    .dataframe tbody tr th:only-of-type {\n",
              "        vertical-align: middle;\n",
              "    }\n",
              "\n",
              "    .dataframe tbody tr th {\n",
              "        vertical-align: top;\n",
              "    }\n",
              "\n",
              "    .dataframe thead th {\n",
              "        text-align: right;\n",
              "    }\n",
              "</style>\n",
              "<table border=\"1\" class=\"dataframe\">\n",
              "  <thead>\n",
              "    <tr style=\"text-align: right;\">\n",
              "      <th></th>\n",
              "      <th>FB</th>\n",
              "      <th>IBM</th>\n",
              "      <th>AMZN</th>\n",
              "      <th>GOOGL</th>\n",
              "      <th>AAPL</th>\n",
              "      <th>Total</th>\n",
              "      <th>Daily Return</th>\n",
              "    </tr>\n",
              "  </thead>\n",
              "  <tbody>\n",
              "    <tr>\n",
              "      <th>0</th>\n",
              "      <td>93764.876359</td>\n",
              "      <td>21474.926254</td>\n",
              "      <td>1.009350e+06</td>\n",
              "      <td>254945.931131</td>\n",
              "      <td>45660.773391</td>\n",
              "      <td>1.425196e+06</td>\n",
              "      <td>NaN</td>\n",
              "    </tr>\n",
              "    <tr>\n",
              "      <th>1</th>\n",
              "      <td>92200.733421</td>\n",
              "      <td>20690.086708</td>\n",
              "      <td>1.023455e+06</td>\n",
              "      <td>250646.334778</td>\n",
              "      <td>46288.851215</td>\n",
              "      <td>1.433281e+06</td>\n",
              "      <td>0.005673</td>\n",
              "    </tr>\n",
              "    <tr>\n",
              "      <th>2</th>\n",
              "      <td>92577.383225</td>\n",
              "      <td>21219.272370</td>\n",
              "      <td>9.807395e+05</td>\n",
              "      <td>250620.421588</td>\n",
              "      <td>45923.952531</td>\n",
              "      <td>1.391081e+06</td>\n",
              "      <td>-0.029443</td>\n",
              "    </tr>\n",
              "    <tr>\n",
              "      <th>3</th>\n",
              "      <td>93205.132900</td>\n",
              "      <td>22152.498436</td>\n",
              "      <td>9.703867e+05</td>\n",
              "      <td>252201.126227</td>\n",
              "      <td>46346.976669</td>\n",
              "      <td>1.384292e+06</td>\n",
              "      <td>-0.004880</td>\n",
              "    </tr>\n",
              "    <tr>\n",
              "      <th>4</th>\n",
              "      <td>91436.971317</td>\n",
              "      <td>21659.068562</td>\n",
              "      <td>9.217467e+05</td>\n",
              "      <td>241273.732994</td>\n",
              "      <td>44118.834262</td>\n",
              "      <td>1.320235e+06</td>\n",
              "      <td>-0.046274</td>\n",
              "    </tr>\n",
              "  </tbody>\n",
              "</table>\n",
              "</div>"
            ],
            "text/plain": [
              "             FB           IBM  ...         Total  Daily Return\n",
              "0  93764.876359  21474.926254  ...  1.425196e+06           NaN\n",
              "1  92200.733421  20690.086708  ...  1.433281e+06      0.005673\n",
              "2  92577.383225  21219.272370  ...  1.391081e+06     -0.029443\n",
              "3  93205.132900  22152.498436  ...  1.384292e+06     -0.004880\n",
              "4  91436.971317  21659.068562  ...  1.320235e+06     -0.046274\n",
              "\n",
              "[5 rows x 7 columns]"
            ]
          },
          "metadata": {
            "tags": []
          },
          "execution_count": 31
        }
      ]
    },
    {
      "cell_type": "code",
      "metadata": {
        "id": "tFMFBgl0ewdZ",
        "colab_type": "code",
        "colab": {}
      },
      "source": [
        "portfolioVal['Daily Return'] = portfolioVal['Total'].pct_change(1)\n"
      ],
      "execution_count": 0,
      "outputs": []
    },
    {
      "cell_type": "code",
      "metadata": {
        "id": "Q5Paddi9e3H9",
        "colab_type": "code",
        "colab": {
          "base_uri": "https://localhost:8080/",
          "height": 191
        },
        "outputId": "7d052f87-c20a-45a7-f971-30382b349a90"
      },
      "source": [
        "portfolioVal.head()"
      ],
      "execution_count": 33,
      "outputs": [
        {
          "output_type": "execute_result",
          "data": {
            "text/html": [
              "<div>\n",
              "<style scoped>\n",
              "    .dataframe tbody tr th:only-of-type {\n",
              "        vertical-align: middle;\n",
              "    }\n",
              "\n",
              "    .dataframe tbody tr th {\n",
              "        vertical-align: top;\n",
              "    }\n",
              "\n",
              "    .dataframe thead th {\n",
              "        text-align: right;\n",
              "    }\n",
              "</style>\n",
              "<table border=\"1\" class=\"dataframe\">\n",
              "  <thead>\n",
              "    <tr style=\"text-align: right;\">\n",
              "      <th></th>\n",
              "      <th>FB</th>\n",
              "      <th>IBM</th>\n",
              "      <th>AMZN</th>\n",
              "      <th>GOOGL</th>\n",
              "      <th>AAPL</th>\n",
              "      <th>Total</th>\n",
              "      <th>Daily Return</th>\n",
              "    </tr>\n",
              "  </thead>\n",
              "  <tbody>\n",
              "    <tr>\n",
              "      <th>0</th>\n",
              "      <td>93764.876359</td>\n",
              "      <td>21474.926254</td>\n",
              "      <td>1.009350e+06</td>\n",
              "      <td>254945.931131</td>\n",
              "      <td>45660.773391</td>\n",
              "      <td>1.425196e+06</td>\n",
              "      <td>NaN</td>\n",
              "    </tr>\n",
              "    <tr>\n",
              "      <th>1</th>\n",
              "      <td>92200.733421</td>\n",
              "      <td>20690.086708</td>\n",
              "      <td>1.023455e+06</td>\n",
              "      <td>250646.334778</td>\n",
              "      <td>46288.851215</td>\n",
              "      <td>1.433281e+06</td>\n",
              "      <td>0.005673</td>\n",
              "    </tr>\n",
              "    <tr>\n",
              "      <th>2</th>\n",
              "      <td>92577.383225</td>\n",
              "      <td>21219.272370</td>\n",
              "      <td>9.807395e+05</td>\n",
              "      <td>250620.421588</td>\n",
              "      <td>45923.952531</td>\n",
              "      <td>1.391081e+06</td>\n",
              "      <td>-0.029443</td>\n",
              "    </tr>\n",
              "    <tr>\n",
              "      <th>3</th>\n",
              "      <td>93205.132900</td>\n",
              "      <td>22152.498436</td>\n",
              "      <td>9.703867e+05</td>\n",
              "      <td>252201.126227</td>\n",
              "      <td>46346.976669</td>\n",
              "      <td>1.384292e+06</td>\n",
              "      <td>-0.004880</td>\n",
              "    </tr>\n",
              "    <tr>\n",
              "      <th>4</th>\n",
              "      <td>91436.971317</td>\n",
              "      <td>21659.068562</td>\n",
              "      <td>9.217467e+05</td>\n",
              "      <td>241273.732994</td>\n",
              "      <td>44118.834262</td>\n",
              "      <td>1.320235e+06</td>\n",
              "      <td>-0.046274</td>\n",
              "    </tr>\n",
              "  </tbody>\n",
              "</table>\n",
              "</div>"
            ],
            "text/plain": [
              "             FB           IBM  ...         Total  Daily Return\n",
              "0  93764.876359  21474.926254  ...  1.425196e+06           NaN\n",
              "1  92200.733421  20690.086708  ...  1.433281e+06      0.005673\n",
              "2  92577.383225  21219.272370  ...  1.391081e+06     -0.029443\n",
              "3  93205.132900  22152.498436  ...  1.384292e+06     -0.004880\n",
              "4  91436.971317  21659.068562  ...  1.320235e+06     -0.046274\n",
              "\n",
              "[5 rows x 7 columns]"
            ]
          },
          "metadata": {
            "tags": []
          },
          "execution_count": 33
        }
      ]
    },
    {
      "cell_type": "code",
      "metadata": {
        "id": "tfUjDodye5GT",
        "colab_type": "code",
        "colab": {}
      },
      "source": [
        "portfolioVal = portfolioVal.iloc[::-1]\n"
      ],
      "execution_count": 0,
      "outputs": []
    },
    {
      "cell_type": "code",
      "metadata": {
        "id": "5K1uUitDe_PS",
        "colab_type": "code",
        "colab": {
          "base_uri": "https://localhost:8080/",
          "height": 191
        },
        "outputId": "f35b5c43-967e-4a1a-c047-0d9412a512b7"
      },
      "source": [
        "portfolioVal['Daily Return'] = portfolioVal['Total'].pct_change(1)\n",
        "portfolioVal.head()"
      ],
      "execution_count": 35,
      "outputs": [
        {
          "output_type": "execute_result",
          "data": {
            "text/html": [
              "<div>\n",
              "<style scoped>\n",
              "    .dataframe tbody tr th:only-of-type {\n",
              "        vertical-align: middle;\n",
              "    }\n",
              "\n",
              "    .dataframe tbody tr th {\n",
              "        vertical-align: top;\n",
              "    }\n",
              "\n",
              "    .dataframe thead th {\n",
              "        text-align: right;\n",
              "    }\n",
              "</style>\n",
              "<table border=\"1\" class=\"dataframe\">\n",
              "  <thead>\n",
              "    <tr style=\"text-align: right;\">\n",
              "      <th></th>\n",
              "      <th>FB</th>\n",
              "      <th>IBM</th>\n",
              "      <th>AMZN</th>\n",
              "      <th>GOOGL</th>\n",
              "      <th>AAPL</th>\n",
              "      <th>Total</th>\n",
              "      <th>Daily Return</th>\n",
              "    </tr>\n",
              "  </thead>\n",
              "  <tbody>\n",
              "    <tr>\n",
              "      <th>5031</th>\n",
              "      <td>NaN</td>\n",
              "      <td>20000.000000</td>\n",
              "      <td>20000.000000</td>\n",
              "      <td>NaN</td>\n",
              "      <td>20000.000000</td>\n",
              "      <td>60000.000000</td>\n",
              "      <td>NaN</td>\n",
              "    </tr>\n",
              "    <tr>\n",
              "      <th>5030</th>\n",
              "      <td>NaN</td>\n",
              "      <td>19933.851792</td>\n",
              "      <td>23348.916277</td>\n",
              "      <td>NaN</td>\n",
              "      <td>20484.378784</td>\n",
              "      <td>63767.146854</td>\n",
              "      <td>0.062786</td>\n",
              "    </tr>\n",
              "    <tr>\n",
              "      <th>5029</th>\n",
              "      <td>NaN</td>\n",
              "      <td>18771.788683</td>\n",
              "      <td>22711.432214</td>\n",
              "      <td>NaN</td>\n",
              "      <td>19555.986114</td>\n",
              "      <td>61039.207012</td>\n",
              "      <td>-0.042780</td>\n",
              "    </tr>\n",
              "    <tr>\n",
              "      <th>5028</th>\n",
              "      <td>NaN</td>\n",
              "      <td>18593.009743</td>\n",
              "      <td>22260.943476</td>\n",
              "      <td>NaN</td>\n",
              "      <td>19192.702026</td>\n",
              "      <td>60046.655246</td>\n",
              "      <td>-0.016261</td>\n",
              "    </tr>\n",
              "    <tr>\n",
              "      <th>5027</th>\n",
              "      <td>NaN</td>\n",
              "      <td>19039.957093</td>\n",
              "      <td>21168.720782</td>\n",
              "      <td>NaN</td>\n",
              "      <td>19455.881166</td>\n",
              "      <td>59664.559041</td>\n",
              "      <td>-0.006363</td>\n",
              "    </tr>\n",
              "  </tbody>\n",
              "</table>\n",
              "</div>"
            ],
            "text/plain": [
              "      FB           IBM          AMZN  ...          AAPL         Total  Daily Return\n",
              "5031 NaN  20000.000000  20000.000000  ...  20000.000000  60000.000000           NaN\n",
              "5030 NaN  19933.851792  23348.916277  ...  20484.378784  63767.146854      0.062786\n",
              "5029 NaN  18771.788683  22711.432214  ...  19555.986114  61039.207012     -0.042780\n",
              "5028 NaN  18593.009743  22260.943476  ...  19192.702026  60046.655246     -0.016261\n",
              "5027 NaN  19039.957093  21168.720782  ...  19455.881166  59664.559041     -0.006363\n",
              "\n",
              "[5 rows x 7 columns]"
            ]
          },
          "metadata": {
            "tags": []
          },
          "execution_count": 35
        }
      ]
    },
    {
      "cell_type": "markdown",
      "metadata": {
        "id": "zm5VTsvjfIdH",
        "colab_type": "text"
      },
      "source": [
        "Now we have reversed the order of our dataset. lets make a shortened dataset."
      ]
    },
    {
      "cell_type": "code",
      "metadata": {
        "id": "ieGezgS2fCDO",
        "colab_type": "code",
        "colab": {}
      },
      "source": [
        "shortTermPortfolioVal = portfolioVal[0:365]"
      ],
      "execution_count": 0,
      "outputs": []
    },
    {
      "cell_type": "code",
      "metadata": {
        "id": "xd2af1bZfcR_",
        "colab_type": "code",
        "colab": {
          "base_uri": "https://localhost:8080/",
          "height": 191
        },
        "outputId": "ec7115eb-b178-4999-90f6-8b632eeb7c26"
      },
      "source": [
        "shortTermPortfolioVal.head()"
      ],
      "execution_count": 37,
      "outputs": [
        {
          "output_type": "execute_result",
          "data": {
            "text/html": [
              "<div>\n",
              "<style scoped>\n",
              "    .dataframe tbody tr th:only-of-type {\n",
              "        vertical-align: middle;\n",
              "    }\n",
              "\n",
              "    .dataframe tbody tr th {\n",
              "        vertical-align: top;\n",
              "    }\n",
              "\n",
              "    .dataframe thead th {\n",
              "        text-align: right;\n",
              "    }\n",
              "</style>\n",
              "<table border=\"1\" class=\"dataframe\">\n",
              "  <thead>\n",
              "    <tr style=\"text-align: right;\">\n",
              "      <th></th>\n",
              "      <th>FB</th>\n",
              "      <th>IBM</th>\n",
              "      <th>AMZN</th>\n",
              "      <th>GOOGL</th>\n",
              "      <th>AAPL</th>\n",
              "      <th>Total</th>\n",
              "      <th>Daily Return</th>\n",
              "    </tr>\n",
              "  </thead>\n",
              "  <tbody>\n",
              "    <tr>\n",
              "      <th>5031</th>\n",
              "      <td>NaN</td>\n",
              "      <td>20000.000000</td>\n",
              "      <td>20000.000000</td>\n",
              "      <td>NaN</td>\n",
              "      <td>20000.000000</td>\n",
              "      <td>60000.000000</td>\n",
              "      <td>NaN</td>\n",
              "    </tr>\n",
              "    <tr>\n",
              "      <th>5030</th>\n",
              "      <td>NaN</td>\n",
              "      <td>19933.851792</td>\n",
              "      <td>23348.916277</td>\n",
              "      <td>NaN</td>\n",
              "      <td>20484.378784</td>\n",
              "      <td>63767.146854</td>\n",
              "      <td>0.062786</td>\n",
              "    </tr>\n",
              "    <tr>\n",
              "      <th>5029</th>\n",
              "      <td>NaN</td>\n",
              "      <td>18771.788683</td>\n",
              "      <td>22711.432214</td>\n",
              "      <td>NaN</td>\n",
              "      <td>19555.986114</td>\n",
              "      <td>61039.207012</td>\n",
              "      <td>-0.042780</td>\n",
              "    </tr>\n",
              "    <tr>\n",
              "      <th>5028</th>\n",
              "      <td>NaN</td>\n",
              "      <td>18593.009743</td>\n",
              "      <td>22260.943476</td>\n",
              "      <td>NaN</td>\n",
              "      <td>19192.702026</td>\n",
              "      <td>60046.655246</td>\n",
              "      <td>-0.016261</td>\n",
              "    </tr>\n",
              "    <tr>\n",
              "      <th>5027</th>\n",
              "      <td>NaN</td>\n",
              "      <td>19039.957093</td>\n",
              "      <td>21168.720782</td>\n",
              "      <td>NaN</td>\n",
              "      <td>19455.881166</td>\n",
              "      <td>59664.559041</td>\n",
              "      <td>-0.006363</td>\n",
              "    </tr>\n",
              "  </tbody>\n",
              "</table>\n",
              "</div>"
            ],
            "text/plain": [
              "      FB           IBM          AMZN  ...          AAPL         Total  Daily Return\n",
              "5031 NaN  20000.000000  20000.000000  ...  20000.000000  60000.000000           NaN\n",
              "5030 NaN  19933.851792  23348.916277  ...  20484.378784  63767.146854      0.062786\n",
              "5029 NaN  18771.788683  22711.432214  ...  19555.986114  61039.207012     -0.042780\n",
              "5028 NaN  18593.009743  22260.943476  ...  19192.702026  60046.655246     -0.016261\n",
              "5027 NaN  19039.957093  21168.720782  ...  19455.881166  59664.559041     -0.006363\n",
              "\n",
              "[5 rows x 7 columns]"
            ]
          },
          "metadata": {
            "tags": []
          },
          "execution_count": 37
        }
      ]
    },
    {
      "cell_type": "code",
      "metadata": {
        "id": "3q7CsqXEfdv5",
        "colab_type": "code",
        "colab": {}
      },
      "source": [
        "shortTermPortfolioVal = portfolioVal[365:0]"
      ],
      "execution_count": 0,
      "outputs": []
    },
    {
      "cell_type": "code",
      "metadata": {
        "id": "a14rlYoKfk81",
        "colab_type": "code",
        "colab": {
          "base_uri": "https://localhost:8080/",
          "height": 47
        },
        "outputId": "1950ab08-801a-455e-c78f-24c3f3bb51bc"
      },
      "source": [
        "shortTermPortfolioVal.head()"
      ],
      "execution_count": 39,
      "outputs": [
        {
          "output_type": "execute_result",
          "data": {
            "text/html": [
              "<div>\n",
              "<style scoped>\n",
              "    .dataframe tbody tr th:only-of-type {\n",
              "        vertical-align: middle;\n",
              "    }\n",
              "\n",
              "    .dataframe tbody tr th {\n",
              "        vertical-align: top;\n",
              "    }\n",
              "\n",
              "    .dataframe thead th {\n",
              "        text-align: right;\n",
              "    }\n",
              "</style>\n",
              "<table border=\"1\" class=\"dataframe\">\n",
              "  <thead>\n",
              "    <tr style=\"text-align: right;\">\n",
              "      <th></th>\n",
              "      <th>FB</th>\n",
              "      <th>IBM</th>\n",
              "      <th>AMZN</th>\n",
              "      <th>GOOGL</th>\n",
              "      <th>AAPL</th>\n",
              "      <th>Total</th>\n",
              "      <th>Daily Return</th>\n",
              "    </tr>\n",
              "  </thead>\n",
              "  <tbody>\n",
              "  </tbody>\n",
              "</table>\n",
              "</div>"
            ],
            "text/plain": [
              "Empty DataFrame\n",
              "Columns: [FB, IBM, AMZN, GOOGL, AAPL, Total, Daily Return]\n",
              "Index: []"
            ]
          },
          "metadata": {
            "tags": []
          },
          "execution_count": 39
        }
      ]
    },
    {
      "cell_type": "markdown",
      "metadata": {
        "id": "LkFJYVuViAWh",
        "colab_type": "text"
      },
      "source": [
        "yikes it's giving me a lto of problems... that's ok we will work with the big one for now"
      ]
    },
    {
      "cell_type": "code",
      "metadata": {
        "id": "X7T_PzKpfnR1",
        "colab_type": "code",
        "colab": {}
      },
      "source": [
        "shortTermPortfolioVal = portfolioVal[365:5031]"
      ],
      "execution_count": 0,
      "outputs": []
    },
    {
      "cell_type": "code",
      "metadata": {
        "id": "JJVtjXunkJ-c",
        "colab_type": "code",
        "colab": {
          "base_uri": "https://localhost:8080/",
          "height": 191
        },
        "outputId": "b6feb01a-441b-475b-a5bf-f1ec9d316790"
      },
      "source": [
        "shortTermPortfolioVal.head()"
      ],
      "execution_count": 41,
      "outputs": [
        {
          "output_type": "execute_result",
          "data": {
            "text/html": [
              "<div>\n",
              "<style scoped>\n",
              "    .dataframe tbody tr th:only-of-type {\n",
              "        vertical-align: middle;\n",
              "    }\n",
              "\n",
              "    .dataframe tbody tr th {\n",
              "        vertical-align: top;\n",
              "    }\n",
              "\n",
              "    .dataframe thead th {\n",
              "        text-align: right;\n",
              "    }\n",
              "</style>\n",
              "<table border=\"1\" class=\"dataframe\">\n",
              "  <thead>\n",
              "    <tr style=\"text-align: right;\">\n",
              "      <th></th>\n",
              "      <th>FB</th>\n",
              "      <th>IBM</th>\n",
              "      <th>AMZN</th>\n",
              "      <th>GOOGL</th>\n",
              "      <th>AAPL</th>\n",
              "      <th>Total</th>\n",
              "      <th>Daily Return</th>\n",
              "    </tr>\n",
              "  </thead>\n",
              "  <tbody>\n",
              "    <tr>\n",
              "      <th>4666</th>\n",
              "      <td>NaN</td>\n",
              "      <td>17332.618218</td>\n",
              "      <td>2872.928177</td>\n",
              "      <td>NaN</td>\n",
              "      <td>2418.664729</td>\n",
              "      <td>22624.211124</td>\n",
              "      <td>0.038856</td>\n",
              "    </tr>\n",
              "    <tr>\n",
              "      <th>4665</th>\n",
              "      <td>NaN</td>\n",
              "      <td>17396.978636</td>\n",
              "      <td>2991.925202</td>\n",
              "      <td>NaN</td>\n",
              "      <td>2563.978364</td>\n",
              "      <td>22952.882202</td>\n",
              "      <td>0.014527</td>\n",
              "    </tr>\n",
              "    <tr>\n",
              "      <th>4664</th>\n",
              "      <td>NaN</td>\n",
              "      <td>17523.911683</td>\n",
              "      <td>3059.923502</td>\n",
              "      <td>NaN</td>\n",
              "      <td>2605.957859</td>\n",
              "      <td>23189.793044</td>\n",
              "      <td>0.010322</td>\n",
              "    </tr>\n",
              "    <tr>\n",
              "      <th>4663</th>\n",
              "      <td>NaN</td>\n",
              "      <td>17609.725574</td>\n",
              "      <td>3025.924352</td>\n",
              "      <td>NaN</td>\n",
              "      <td>2615.645435</td>\n",
              "      <td>23251.295361</td>\n",
              "      <td>0.002652</td>\n",
              "    </tr>\n",
              "    <tr>\n",
              "      <th>4662</th>\n",
              "      <td>NaN</td>\n",
              "      <td>17366.586216</td>\n",
              "      <td>2936.676583</td>\n",
              "      <td>NaN</td>\n",
              "      <td>2583.353516</td>\n",
              "      <td>22886.616315</td>\n",
              "      <td>-0.015684</td>\n",
              "    </tr>\n",
              "  </tbody>\n",
              "</table>\n",
              "</div>"
            ],
            "text/plain": [
              "      FB           IBM         AMZN  ...         AAPL         Total  Daily Return\n",
              "4666 NaN  17332.618218  2872.928177  ...  2418.664729  22624.211124      0.038856\n",
              "4665 NaN  17396.978636  2991.925202  ...  2563.978364  22952.882202      0.014527\n",
              "4664 NaN  17523.911683  3059.923502  ...  2605.957859  23189.793044      0.010322\n",
              "4663 NaN  17609.725574  3025.924352  ...  2615.645435  23251.295361      0.002652\n",
              "4662 NaN  17366.586216  2936.676583  ...  2583.353516  22886.616315     -0.015684\n",
              "\n",
              "[5 rows x 7 columns]"
            ]
          },
          "metadata": {
            "tags": []
          },
          "execution_count": 41
        }
      ]
    },
    {
      "cell_type": "code",
      "metadata": {
        "id": "OneJVcmNkMF7",
        "colab_type": "code",
        "colab": {
          "base_uri": "https://localhost:8080/",
          "height": 191
        },
        "outputId": "6baf09e6-0061-4915-aa08-6071862bad05"
      },
      "source": [
        "shortTermPortfolioVal.tail()"
      ],
      "execution_count": 42,
      "outputs": [
        {
          "output_type": "execute_result",
          "data": {
            "text/html": [
              "<div>\n",
              "<style scoped>\n",
              "    .dataframe tbody tr th:only-of-type {\n",
              "        vertical-align: middle;\n",
              "    }\n",
              "\n",
              "    .dataframe tbody tr th {\n",
              "        vertical-align: top;\n",
              "    }\n",
              "\n",
              "    .dataframe thead th {\n",
              "        text-align: right;\n",
              "    }\n",
              "</style>\n",
              "<table border=\"1\" class=\"dataframe\">\n",
              "  <thead>\n",
              "    <tr style=\"text-align: right;\">\n",
              "      <th></th>\n",
              "      <th>FB</th>\n",
              "      <th>IBM</th>\n",
              "      <th>AMZN</th>\n",
              "      <th>GOOGL</th>\n",
              "      <th>AAPL</th>\n",
              "      <th>Total</th>\n",
              "      <th>Daily Return</th>\n",
              "    </tr>\n",
              "  </thead>\n",
              "  <tbody>\n",
              "    <tr>\n",
              "      <th>5</th>\n",
              "      <td>91646.221209</td>\n",
              "      <td>21721.641191</td>\n",
              "      <td>8.681513e+05</td>\n",
              "      <td>240508.297204</td>\n",
              "      <td>43269.556793</td>\n",
              "      <td>1.265297e+06</td>\n",
              "      <td>0.000786</td>\n",
              "    </tr>\n",
              "    <tr>\n",
              "      <th>4</th>\n",
              "      <td>91436.971317</td>\n",
              "      <td>21659.068562</td>\n",
              "      <td>9.217467e+05</td>\n",
              "      <td>241273.732994</td>\n",
              "      <td>44118.834262</td>\n",
              "      <td>1.320235e+06</td>\n",
              "      <td>0.043419</td>\n",
              "    </tr>\n",
              "    <tr>\n",
              "      <th>3</th>\n",
              "      <td>93205.132900</td>\n",
              "      <td>22152.498436</td>\n",
              "      <td>9.703867e+05</td>\n",
              "      <td>252201.126227</td>\n",
              "      <td>46346.976669</td>\n",
              "      <td>1.384292e+06</td>\n",
              "      <td>0.048520</td>\n",
              "    </tr>\n",
              "    <tr>\n",
              "      <th>2</th>\n",
              "      <td>92577.383225</td>\n",
              "      <td>21219.272370</td>\n",
              "      <td>9.807395e+05</td>\n",
              "      <td>250620.421588</td>\n",
              "      <td>45923.952531</td>\n",
              "      <td>1.391081e+06</td>\n",
              "      <td>0.004904</td>\n",
              "    </tr>\n",
              "    <tr>\n",
              "      <th>1</th>\n",
              "      <td>92200.733421</td>\n",
              "      <td>20690.086708</td>\n",
              "      <td>1.023455e+06</td>\n",
              "      <td>250646.334778</td>\n",
              "      <td>46288.851215</td>\n",
              "      <td>1.433281e+06</td>\n",
              "      <td>0.030337</td>\n",
              "    </tr>\n",
              "  </tbody>\n",
              "</table>\n",
              "</div>"
            ],
            "text/plain": [
              "             FB           IBM  ...         Total  Daily Return\n",
              "5  91646.221209  21721.641191  ...  1.265297e+06      0.000786\n",
              "4  91436.971317  21659.068562  ...  1.320235e+06      0.043419\n",
              "3  93205.132900  22152.498436  ...  1.384292e+06      0.048520\n",
              "2  92577.383225  21219.272370  ...  1.391081e+06      0.004904\n",
              "1  92200.733421  20690.086708  ...  1.433281e+06      0.030337\n",
              "\n",
              "[5 rows x 7 columns]"
            ]
          },
          "metadata": {
            "tags": []
          },
          "execution_count": 42
        }
      ]
    },
    {
      "cell_type": "code",
      "metadata": {
        "id": "wXOwSmX7kOyh",
        "colab_type": "code",
        "colab": {}
      },
      "source": [
        "shortTermPortfolioVal = portfolioVal[4666:5031]"
      ],
      "execution_count": 0,
      "outputs": []
    },
    {
      "cell_type": "code",
      "metadata": {
        "id": "aaDkSuuwkcXz",
        "colab_type": "code",
        "colab": {
          "base_uri": "https://localhost:8080/",
          "height": 191
        },
        "outputId": "32c7d852-0bce-41fa-f216-eb6022bee032"
      },
      "source": [
        "shortTermPortfolioVal.head()"
      ],
      "execution_count": 44,
      "outputs": [
        {
          "output_type": "execute_result",
          "data": {
            "text/html": [
              "<div>\n",
              "<style scoped>\n",
              "    .dataframe tbody tr th:only-of-type {\n",
              "        vertical-align: middle;\n",
              "    }\n",
              "\n",
              "    .dataframe tbody tr th {\n",
              "        vertical-align: top;\n",
              "    }\n",
              "\n",
              "    .dataframe thead th {\n",
              "        text-align: right;\n",
              "    }\n",
              "</style>\n",
              "<table border=\"1\" class=\"dataframe\">\n",
              "  <thead>\n",
              "    <tr style=\"text-align: right;\">\n",
              "      <th></th>\n",
              "      <th>FB</th>\n",
              "      <th>IBM</th>\n",
              "      <th>AMZN</th>\n",
              "      <th>GOOGL</th>\n",
              "      <th>AAPL</th>\n",
              "      <th>Total</th>\n",
              "      <th>Daily Return</th>\n",
              "    </tr>\n",
              "  </thead>\n",
              "  <tbody>\n",
              "    <tr>\n",
              "      <th>365</th>\n",
              "      <td>79384.177569</td>\n",
              "      <td>20886.743542</td>\n",
              "      <td>707832.554186</td>\n",
              "      <td>216470.822744</td>\n",
              "      <td>35879.551142</td>\n",
              "      <td>1.060454e+06</td>\n",
              "      <td>0.027668</td>\n",
              "    </tr>\n",
              "    <tr>\n",
              "      <th>364</th>\n",
              "      <td>78651.802949</td>\n",
              "      <td>20679.359971</td>\n",
              "      <td>707832.554186</td>\n",
              "      <td>213582.498630</td>\n",
              "      <td>33499.636716</td>\n",
              "      <td>1.054246e+06</td>\n",
              "      <td>-0.005854</td>\n",
              "    </tr>\n",
              "    <tr>\n",
              "      <th>363</th>\n",
              "      <td>77778.184653</td>\n",
              "      <td>21464.199517</td>\n",
              "      <td>691797.705057</td>\n",
              "      <td>210441.022574</td>\n",
              "      <td>32548.639703</td>\n",
              "      <td>1.034030e+06</td>\n",
              "      <td>-0.019176</td>\n",
              "    </tr>\n",
              "    <tr>\n",
              "      <th>362</th>\n",
              "      <td>78437.321811</td>\n",
              "      <td>22011.263073</td>\n",
              "      <td>698176.795580</td>\n",
              "      <td>213199.780735</td>\n",
              "      <td>32900.621619</td>\n",
              "      <td>1.044726e+06</td>\n",
              "      <td>0.010344</td>\n",
              "    </tr>\n",
              "    <tr>\n",
              "      <th>361</th>\n",
              "      <td>79269.090129</td>\n",
              "      <td>22318.762850</td>\n",
              "      <td>746064.598385</td>\n",
              "      <td>220907.958340</td>\n",
              "      <td>33898.441915</td>\n",
              "      <td>1.102459e+06</td>\n",
              "      <td>0.055261</td>\n",
              "    </tr>\n",
              "  </tbody>\n",
              "</table>\n",
              "</div>"
            ],
            "text/plain": [
              "               FB           IBM  ...         Total  Daily Return\n",
              "365  79384.177569  20886.743542  ...  1.060454e+06      0.027668\n",
              "364  78651.802949  20679.359971  ...  1.054246e+06     -0.005854\n",
              "363  77778.184653  21464.199517  ...  1.034030e+06     -0.019176\n",
              "362  78437.321811  22011.263073  ...  1.044726e+06      0.010344\n",
              "361  79269.090129  22318.762850  ...  1.102459e+06      0.055261\n",
              "\n",
              "[5 rows x 7 columns]"
            ]
          },
          "metadata": {
            "tags": []
          },
          "execution_count": 44
        }
      ]
    },
    {
      "cell_type": "code",
      "metadata": {
        "id": "B7aYjLIXkfIT",
        "colab_type": "code",
        "colab": {
          "base_uri": "https://localhost:8080/",
          "height": 167
        },
        "outputId": "5b6a69ce-6bdb-4c66-a78d-356a67661649"
      },
      "source": [
        "shortTermPortfolioVal['Daily Return'] = shortTermPortfolioVal['Total'].pct_change(1)\n"
      ],
      "execution_count": 45,
      "outputs": [
        {
          "output_type": "stream",
          "text": [
            "/usr/local/lib/python3.6/dist-packages/ipykernel_launcher.py:1: SettingWithCopyWarning:\n",
            "\n",
            "\n",
            "A value is trying to be set on a copy of a slice from a DataFrame.\n",
            "Try using .loc[row_indexer,col_indexer] = value instead\n",
            "\n",
            "See the caveats in the documentation: https://pandas.pydata.org/pandas-docs/stable/user_guide/indexing.html#returning-a-view-versus-a-copy\n",
            "\n"
          ],
          "name": "stderr"
        }
      ]
    },
    {
      "cell_type": "code",
      "metadata": {
        "id": "94xOZruqknDn",
        "colab_type": "code",
        "colab": {
          "base_uri": "https://localhost:8080/",
          "height": 191
        },
        "outputId": "123c10b0-7c0f-4de8-8020-d1ea9f9ff5f3"
      },
      "source": [
        "shortTermPortfolioVal.head()"
      ],
      "execution_count": 46,
      "outputs": [
        {
          "output_type": "execute_result",
          "data": {
            "text/html": [
              "<div>\n",
              "<style scoped>\n",
              "    .dataframe tbody tr th:only-of-type {\n",
              "        vertical-align: middle;\n",
              "    }\n",
              "\n",
              "    .dataframe tbody tr th {\n",
              "        vertical-align: top;\n",
              "    }\n",
              "\n",
              "    .dataframe thead th {\n",
              "        text-align: right;\n",
              "    }\n",
              "</style>\n",
              "<table border=\"1\" class=\"dataframe\">\n",
              "  <thead>\n",
              "    <tr style=\"text-align: right;\">\n",
              "      <th></th>\n",
              "      <th>FB</th>\n",
              "      <th>IBM</th>\n",
              "      <th>AMZN</th>\n",
              "      <th>GOOGL</th>\n",
              "      <th>AAPL</th>\n",
              "      <th>Total</th>\n",
              "      <th>Daily Return</th>\n",
              "    </tr>\n",
              "  </thead>\n",
              "  <tbody>\n",
              "    <tr>\n",
              "      <th>365</th>\n",
              "      <td>79384.177569</td>\n",
              "      <td>20886.743542</td>\n",
              "      <td>707832.554186</td>\n",
              "      <td>216470.822744</td>\n",
              "      <td>35879.551142</td>\n",
              "      <td>1.060454e+06</td>\n",
              "      <td>NaN</td>\n",
              "    </tr>\n",
              "    <tr>\n",
              "      <th>364</th>\n",
              "      <td>78651.802949</td>\n",
              "      <td>20679.359971</td>\n",
              "      <td>707832.554186</td>\n",
              "      <td>213582.498630</td>\n",
              "      <td>33499.636716</td>\n",
              "      <td>1.054246e+06</td>\n",
              "      <td>-0.005854</td>\n",
              "    </tr>\n",
              "    <tr>\n",
              "      <th>363</th>\n",
              "      <td>77778.184653</td>\n",
              "      <td>21464.199517</td>\n",
              "      <td>691797.705057</td>\n",
              "      <td>210441.022574</td>\n",
              "      <td>32548.639703</td>\n",
              "      <td>1.034030e+06</td>\n",
              "      <td>-0.019176</td>\n",
              "    </tr>\n",
              "    <tr>\n",
              "      <th>362</th>\n",
              "      <td>78437.321811</td>\n",
              "      <td>22011.263073</td>\n",
              "      <td>698176.795580</td>\n",
              "      <td>213199.780735</td>\n",
              "      <td>32900.621619</td>\n",
              "      <td>1.044726e+06</td>\n",
              "      <td>0.010344</td>\n",
              "    </tr>\n",
              "    <tr>\n",
              "      <th>361</th>\n",
              "      <td>79269.090129</td>\n",
              "      <td>22318.762850</td>\n",
              "      <td>746064.598385</td>\n",
              "      <td>220907.958340</td>\n",
              "      <td>33898.441915</td>\n",
              "      <td>1.102459e+06</td>\n",
              "      <td>0.055261</td>\n",
              "    </tr>\n",
              "  </tbody>\n",
              "</table>\n",
              "</div>"
            ],
            "text/plain": [
              "               FB           IBM  ...         Total  Daily Return\n",
              "365  79384.177569  20886.743542  ...  1.060454e+06           NaN\n",
              "364  78651.802949  20679.359971  ...  1.054246e+06     -0.005854\n",
              "363  77778.184653  21464.199517  ...  1.034030e+06     -0.019176\n",
              "362  78437.321811  22011.263073  ...  1.044726e+06      0.010344\n",
              "361  79269.090129  22318.762850  ...  1.102459e+06      0.055261\n",
              "\n",
              "[5 rows x 7 columns]"
            ]
          },
          "metadata": {
            "tags": []
          },
          "execution_count": 46
        }
      ]
    },
    {
      "cell_type": "code",
      "metadata": {
        "id": "z-irkLGxkrJG",
        "colab_type": "code",
        "colab": {
          "base_uri": "https://localhost:8080/",
          "height": 336
        },
        "outputId": "a86c2416-be90-4d7a-c682-40da41d0418f"
      },
      "source": [
        "shortTermPortfolioVal['Daily Return'].plot(kind='hist', bins=50, figsize=(4,5))\n"
      ],
      "execution_count": 47,
      "outputs": [
        {
          "output_type": "execute_result",
          "data": {
            "text/plain": [
              "<matplotlib.axes._subplots.AxesSubplot at 0x7f2314a63278>"
            ]
          },
          "metadata": {
            "tags": []
          },
          "execution_count": 47
        },
        {
          "output_type": "display_data",
          "data": {
            "image/png": "[encoded data removed]",
            "text/plain": [
              "<Figure size 288x360 with 1 Axes>"
            ]
          },
          "metadata": {
            "tags": [],
            "needs_background": "light"
          }
        }
      ]
    },
    {
      "cell_type": "code",
      "metadata": {
        "id": "u4yRaVJNkxVL",
        "colab_type": "code",
        "colab": {
          "base_uri": "https://localhost:8080/",
          "height": 458
        },
        "outputId": "cd1bd1d6-e674-4540-f989-97812985bf08"
      },
      "source": [
        "cum_return = 100 * (shortTermPortfolioVal['Total'][-1]/shortTermPortfolioVal['Total'][0] - 1)\n"
      ],
      "execution_count": 48,
      "outputs": [
        {
          "output_type": "error",
          "ename": "KeyError",
          "evalue": "ignored",
          "traceback": [
            "\u001b[0;31m---------------------------------------------------------------------------\u001b[0m",
            "\u001b[0;31mKeyError\u001b[0m                                  Traceback (most recent call last)",
            "\u001b[0;32m<ipython-input-48-de8024658ca3>\u001b[0m in \u001b[0;36m<module>\u001b[0;34m()\u001b[0m\n\u001b[0;32m----> 1\u001b[0;31m \u001b[0mcum_return\u001b[0m \u001b[0;34m=\u001b[0m \u001b[0;36m100\u001b[0m \u001b[0;34m*\u001b[0m \u001b[0;34m(\u001b[0m\u001b[0mshortTermPortfolioVal\u001b[0m\u001b[0;34m[\u001b[0m\u001b[0;34m'Total'\u001b[0m\u001b[0;34m]\u001b[0m\u001b[0;34m[\u001b[0m\u001b[0;34m-\u001b[0m\u001b[0;36m1\u001b[0m\u001b[0;34m]\u001b[0m\u001b[0;34m/\u001b[0m\u001b[0mshortTermPortfolioVal\u001b[0m\u001b[0;34m[\u001b[0m\u001b[0;34m'Total'\u001b[0m\u001b[0;34m]\u001b[0m\u001b[0;34m[\u001b[0m\u001b[0;36m0\u001b[0m\u001b[0;34m]\u001b[0m \u001b[0;34m-\u001b[0m \u001b[0;36m1\u001b[0m\u001b[0;34m)\u001b[0m\u001b[0;34m\u001b[0m\u001b[0;34m\u001b[0m\u001b[0m\n\u001b[0m",
            "\u001b[0;32m/usr/local/lib/python3.6/dist-packages/pandas/core/series.py\u001b[0m in \u001b[0;36m__getitem__\u001b[0;34m(self, key)\u001b[0m\n\u001b[1;32m    869\u001b[0m         \u001b[0mkey\u001b[0m \u001b[0;34m=\u001b[0m \u001b[0mcom\u001b[0m\u001b[0;34m.\u001b[0m\u001b[0mapply_if_callable\u001b[0m\u001b[0;34m(\u001b[0m\u001b[0mkey\u001b[0m\u001b[0;34m,\u001b[0m \u001b[0mself\u001b[0m\u001b[0;34m)\u001b[0m\u001b[0;34m\u001b[0m\u001b[0;34m\u001b[0m\u001b[0m\n\u001b[1;32m    870\u001b[0m         \u001b[0;32mtry\u001b[0m\u001b[0;34m:\u001b[0m\u001b[0;34m\u001b[0m\u001b[0;34m\u001b[0m\u001b[0m\n\u001b[0;32m--> 871\u001b[0;31m             \u001b[0mresult\u001b[0m \u001b[0;34m=\u001b[0m \u001b[0mself\u001b[0m\u001b[0;34m.\u001b[0m\u001b[0mindex\u001b[0m\u001b[0;34m.\u001b[0m\u001b[0mget_value\u001b[0m\u001b[0;34m(\u001b[0m\u001b[0mself\u001b[0m\u001b[0;34m,\u001b[0m \u001b[0mkey\u001b[0m\u001b[0;34m)\u001b[0m\u001b[0;34m\u001b[0m\u001b[0;34m\u001b[0m\u001b[0m\n\u001b[0m\u001b[1;32m    872\u001b[0m \u001b[0;34m\u001b[0m\u001b[0m\n\u001b[1;32m    873\u001b[0m             \u001b[0;32mif\u001b[0m \u001b[0;32mnot\u001b[0m \u001b[0mis_scalar\u001b[0m\u001b[0;34m(\u001b[0m\u001b[0mresult\u001b[0m\u001b[0;34m)\u001b[0m\u001b[0;34m:\u001b[0m\u001b[0;34m\u001b[0m\u001b[0;34m\u001b[0m\u001b[0m\n",
            "\u001b[0;32m/usr/local/lib/python3.6/dist-packages/pandas/core/indexes/base.py\u001b[0m in \u001b[0;36mget_value\u001b[0;34m(self, series, key)\u001b[0m\n\u001b[1;32m   4402\u001b[0m         \u001b[0mk\u001b[0m \u001b[0;34m=\u001b[0m \u001b[0mself\u001b[0m\u001b[0;34m.\u001b[0m\u001b[0m_convert_scalar_indexer\u001b[0m\u001b[0;34m(\u001b[0m\u001b[0mk\u001b[0m\u001b[0;34m,\u001b[0m \u001b[0mkind\u001b[0m\u001b[0;34m=\u001b[0m\u001b[0;34m\"getitem\"\u001b[0m\u001b[0;34m)\u001b[0m\u001b[0;34m\u001b[0m\u001b[0;34m\u001b[0m\u001b[0m\n\u001b[1;32m   4403\u001b[0m         \u001b[0;32mtry\u001b[0m\u001b[0;34m:\u001b[0m\u001b[0;34m\u001b[0m\u001b[0;34m\u001b[0m\u001b[0m\n\u001b[0;32m-> 4404\u001b[0;31m             \u001b[0;32mreturn\u001b[0m \u001b[0mself\u001b[0m\u001b[0;34m.\u001b[0m\u001b[0m_engine\u001b[0m\u001b[0;34m.\u001b[0m\u001b[0mget_value\u001b[0m\u001b[0;34m(\u001b[0m\u001b[0ms\u001b[0m\u001b[0;34m,\u001b[0m \u001b[0mk\u001b[0m\u001b[0;34m,\u001b[0m \u001b[0mtz\u001b[0m\u001b[0;34m=\u001b[0m\u001b[0mgetattr\u001b[0m\u001b[0;34m(\u001b[0m\u001b[0mseries\u001b[0m\u001b[0;34m.\u001b[0m\u001b[0mdtype\u001b[0m\u001b[0;34m,\u001b[0m \u001b[0;34m\"tz\"\u001b[0m\u001b[0;34m,\u001b[0m \u001b[0;32mNone\u001b[0m\u001b[0;34m)\u001b[0m\u001b[0;34m)\u001b[0m\u001b[0;34m\u001b[0m\u001b[0;34m\u001b[0m\u001b[0m\n\u001b[0m\u001b[1;32m   4405\u001b[0m         \u001b[0;32mexcept\u001b[0m \u001b[0mKeyError\u001b[0m \u001b[0;32mas\u001b[0m \u001b[0me1\u001b[0m\u001b[0;34m:\u001b[0m\u001b[0;34m\u001b[0m\u001b[0;34m\u001b[0m\u001b[0m\n\u001b[1;32m   4406\u001b[0m             \u001b[0;32mif\u001b[0m \u001b[0mlen\u001b[0m\u001b[0;34m(\u001b[0m\u001b[0mself\u001b[0m\u001b[0;34m)\u001b[0m \u001b[0;34m>\u001b[0m \u001b[0;36m0\u001b[0m \u001b[0;32mand\u001b[0m \u001b[0;34m(\u001b[0m\u001b[0mself\u001b[0m\u001b[0;34m.\u001b[0m\u001b[0mholds_integer\u001b[0m\u001b[0;34m(\u001b[0m\u001b[0;34m)\u001b[0m \u001b[0;32mor\u001b[0m \u001b[0mself\u001b[0m\u001b[0;34m.\u001b[0m\u001b[0mis_boolean\u001b[0m\u001b[0;34m(\u001b[0m\u001b[0;34m)\u001b[0m\u001b[0;34m)\u001b[0m\u001b[0;34m:\u001b[0m\u001b[0;34m\u001b[0m\u001b[0;34m\u001b[0m\u001b[0m\n",
            "\u001b[0;32mpandas/_libs/index.pyx\u001b[0m in \u001b[0;36mpandas._libs.index.IndexEngine.get_value\u001b[0;34m()\u001b[0m\n",
            "\u001b[0;32mpandas/_libs/index.pyx\u001b[0m in \u001b[0;36mpandas._libs.index.IndexEngine.get_value\u001b[0;34m()\u001b[0m\n",
            "\u001b[0;32mpandas/_libs/index.pyx\u001b[0m in \u001b[0;36mpandas._libs.index.IndexEngine.get_loc\u001b[0;34m()\u001b[0m\n",
            "\u001b[0;32mpandas/_libs/hashtable_class_helper.pxi\u001b[0m in \u001b[0;36mpandas._libs.hashtable.Int64HashTable.get_item\u001b[0;34m()\u001b[0m\n",
            "\u001b[0;32mpandas/_libs/hashtable_class_helper.pxi\u001b[0m in \u001b[0;36mpandas._libs.hashtable.Int64HashTable.get_item\u001b[0;34m()\u001b[0m\n",
            "\u001b[0;31mKeyError\u001b[0m: -1"
          ]
        }
      ]
    },
    {
      "cell_type": "code",
      "metadata": {
        "id": "KozzfKJGk3ib",
        "colab_type": "code",
        "colab": {
          "base_uri": "https://localhost:8080/",
          "height": 458
        },
        "outputId": "1bae550c-0b82-4a5d-9b93-aca98ee96894"
      },
      "source": [
        "cum_return = 100 * ((shortTermPortfolioVal['Total'][-1]/shortTermPortfolioVal['Total'][0]) - 1)\n"
      ],
      "execution_count": 49,
      "outputs": [
        {
          "output_type": "error",
          "ename": "KeyError",
          "evalue": "ignored",
          "traceback": [
            "\u001b[0;31m---------------------------------------------------------------------------\u001b[0m",
            "\u001b[0;31mKeyError\u001b[0m                                  Traceback (most recent call last)",
            "\u001b[0;32m<ipython-input-49-6dc6bc26705d>\u001b[0m in \u001b[0;36m<module>\u001b[0;34m()\u001b[0m\n\u001b[0;32m----> 1\u001b[0;31m \u001b[0mcum_return\u001b[0m \u001b[0;34m=\u001b[0m \u001b[0;36m100\u001b[0m \u001b[0;34m*\u001b[0m \u001b[0;34m(\u001b[0m\u001b[0;34m(\u001b[0m\u001b[0mshortTermPortfolioVal\u001b[0m\u001b[0;34m[\u001b[0m\u001b[0;34m'Total'\u001b[0m\u001b[0;34m]\u001b[0m\u001b[0;34m[\u001b[0m\u001b[0;34m-\u001b[0m\u001b[0;36m1\u001b[0m\u001b[0;34m]\u001b[0m\u001b[0;34m/\u001b[0m\u001b[0mshortTermPortfolioVal\u001b[0m\u001b[0;34m[\u001b[0m\u001b[0;34m'Total'\u001b[0m\u001b[0;34m]\u001b[0m\u001b[0;34m[\u001b[0m\u001b[0;36m0\u001b[0m\u001b[0;34m]\u001b[0m\u001b[0;34m)\u001b[0m \u001b[0;34m-\u001b[0m \u001b[0;36m1\u001b[0m\u001b[0;34m)\u001b[0m\u001b[0;34m\u001b[0m\u001b[0;34m\u001b[0m\u001b[0m\n\u001b[0m",
            "\u001b[0;32m/usr/local/lib/python3.6/dist-packages/pandas/core/series.py\u001b[0m in \u001b[0;36m__getitem__\u001b[0;34m(self, key)\u001b[0m\n\u001b[1;32m    869\u001b[0m         \u001b[0mkey\u001b[0m \u001b[0;34m=\u001b[0m \u001b[0mcom\u001b[0m\u001b[0;34m.\u001b[0m\u001b[0mapply_if_callable\u001b[0m\u001b[0;34m(\u001b[0m\u001b[0mkey\u001b[0m\u001b[0;34m,\u001b[0m \u001b[0mself\u001b[0m\u001b[0;34m)\u001b[0m\u001b[0;34m\u001b[0m\u001b[0;34m\u001b[0m\u001b[0m\n\u001b[1;32m    870\u001b[0m         \u001b[0;32mtry\u001b[0m\u001b[0;34m:\u001b[0m\u001b[0;34m\u001b[0m\u001b[0;34m\u001b[0m\u001b[0m\n\u001b[0;32m--> 871\u001b[0;31m             \u001b[0mresult\u001b[0m \u001b[0;34m=\u001b[0m \u001b[0mself\u001b[0m\u001b[0;34m.\u001b[0m\u001b[0mindex\u001b[0m\u001b[0;34m.\u001b[0m\u001b[0mget_value\u001b[0m\u001b[0;34m(\u001b[0m\u001b[0mself\u001b[0m\u001b[0;34m,\u001b[0m \u001b[0mkey\u001b[0m\u001b[0;34m)\u001b[0m\u001b[0;34m\u001b[0m\u001b[0;34m\u001b[0m\u001b[0m\n\u001b[0m\u001b[1;32m    872\u001b[0m \u001b[0;34m\u001b[0m\u001b[0m\n\u001b[1;32m    873\u001b[0m             \u001b[0;32mif\u001b[0m \u001b[0;32mnot\u001b[0m \u001b[0mis_scalar\u001b[0m\u001b[0;34m(\u001b[0m\u001b[0mresult\u001b[0m\u001b[0;34m)\u001b[0m\u001b[0;34m:\u001b[0m\u001b[0;34m\u001b[0m\u001b[0;34m\u001b[0m\u001b[0m\n",
            "\u001b[0;32m/usr/local/lib/python3.6/dist-packages/pandas/core/indexes/base.py\u001b[0m in \u001b[0;36mget_value\u001b[0;34m(self, series, key)\u001b[0m\n\u001b[1;32m   4402\u001b[0m         \u001b[0mk\u001b[0m \u001b[0;34m=\u001b[0m \u001b[0mself\u001b[0m\u001b[0;34m.\u001b[0m\u001b[0m_convert_scalar_indexer\u001b[0m\u001b[0;34m(\u001b[0m\u001b[0mk\u001b[0m\u001b[0;34m,\u001b[0m \u001b[0mkind\u001b[0m\u001b[0;34m=\u001b[0m\u001b[0;34m\"getitem\"\u001b[0m\u001b[0;34m)\u001b[0m\u001b[0;34m\u001b[0m\u001b[0;34m\u001b[0m\u001b[0m\n\u001b[1;32m   4403\u001b[0m         \u001b[0;32mtry\u001b[0m\u001b[0;34m:\u001b[0m\u001b[0;34m\u001b[0m\u001b[0;34m\u001b[0m\u001b[0m\n\u001b[0;32m-> 4404\u001b[0;31m             \u001b[0;32mreturn\u001b[0m \u001b[0mself\u001b[0m\u001b[0;34m.\u001b[0m\u001b[0m_engine\u001b[0m\u001b[0;34m.\u001b[0m\u001b[0mget_value\u001b[0m\u001b[0;34m(\u001b[0m\u001b[0ms\u001b[0m\u001b[0;34m,\u001b[0m \u001b[0mk\u001b[0m\u001b[0;34m,\u001b[0m \u001b[0mtz\u001b[0m\u001b[0;34m=\u001b[0m\u001b[0mgetattr\u001b[0m\u001b[0;34m(\u001b[0m\u001b[0mseries\u001b[0m\u001b[0;34m.\u001b[0m\u001b[0mdtype\u001b[0m\u001b[0;34m,\u001b[0m \u001b[0;34m\"tz\"\u001b[0m\u001b[0;34m,\u001b[0m \u001b[0;32mNone\u001b[0m\u001b[0;34m)\u001b[0m\u001b[0;34m)\u001b[0m\u001b[0;34m\u001b[0m\u001b[0;34m\u001b[0m\u001b[0m\n\u001b[0m\u001b[1;32m   4405\u001b[0m         \u001b[0;32mexcept\u001b[0m \u001b[0mKeyError\u001b[0m \u001b[0;32mas\u001b[0m \u001b[0me1\u001b[0m\u001b[0;34m:\u001b[0m\u001b[0;34m\u001b[0m\u001b[0;34m\u001b[0m\u001b[0m\n\u001b[1;32m   4406\u001b[0m             \u001b[0;32mif\u001b[0m \u001b[0mlen\u001b[0m\u001b[0;34m(\u001b[0m\u001b[0mself\u001b[0m\u001b[0;34m)\u001b[0m \u001b[0;34m>\u001b[0m \u001b[0;36m0\u001b[0m \u001b[0;32mand\u001b[0m \u001b[0;34m(\u001b[0m\u001b[0mself\u001b[0m\u001b[0;34m.\u001b[0m\u001b[0mholds_integer\u001b[0m\u001b[0;34m(\u001b[0m\u001b[0;34m)\u001b[0m \u001b[0;32mor\u001b[0m \u001b[0mself\u001b[0m\u001b[0;34m.\u001b[0m\u001b[0mis_boolean\u001b[0m\u001b[0;34m(\u001b[0m\u001b[0;34m)\u001b[0m\u001b[0;34m)\u001b[0m\u001b[0;34m:\u001b[0m\u001b[0;34m\u001b[0m\u001b[0;34m\u001b[0m\u001b[0m\n",
            "\u001b[0;32mpandas/_libs/index.pyx\u001b[0m in \u001b[0;36mpandas._libs.index.IndexEngine.get_value\u001b[0;34m()\u001b[0m\n",
            "\u001b[0;32mpandas/_libs/index.pyx\u001b[0m in \u001b[0;36mpandas._libs.index.IndexEngine.get_value\u001b[0;34m()\u001b[0m\n",
            "\u001b[0;32mpandas/_libs/index.pyx\u001b[0m in \u001b[0;36mpandas._libs.index.IndexEngine.get_loc\u001b[0;34m()\u001b[0m\n",
            "\u001b[0;32mpandas/_libs/hashtable_class_helper.pxi\u001b[0m in \u001b[0;36mpandas._libs.hashtable.Int64HashTable.get_item\u001b[0;34m()\u001b[0m\n",
            "\u001b[0;32mpandas/_libs/hashtable_class_helper.pxi\u001b[0m in \u001b[0;36mpandas._libs.hashtable.Int64HashTable.get_item\u001b[0;34m()\u001b[0m\n",
            "\u001b[0;31mKeyError\u001b[0m: -1"
          ]
        }
      ]
    },
    {
      "cell_type": "code",
      "metadata": {
        "id": "EMoPn98ilAZh",
        "colab_type": "code",
        "colab": {
          "base_uri": "https://localhost:8080/",
          "height": 458
        },
        "outputId": "0f551855-8b33-4229-8a35-67306bb565b4"
      },
      "source": [
        "cum_return = 100 * ((shortTermPortfolioVal['Total'][-1]/shortTermPortfolioVal['Total'][0]))\n"
      ],
      "execution_count": 50,
      "outputs": [
        {
          "output_type": "error",
          "ename": "KeyError",
          "evalue": "ignored",
          "traceback": [
            "\u001b[0;31m---------------------------------------------------------------------------\u001b[0m",
            "\u001b[0;31mKeyError\u001b[0m                                  Traceback (most recent call last)",
            "\u001b[0;32m<ipython-input-50-4b81618f2b8e>\u001b[0m in \u001b[0;36m<module>\u001b[0;34m()\u001b[0m\n\u001b[0;32m----> 1\u001b[0;31m \u001b[0mcum_return\u001b[0m \u001b[0;34m=\u001b[0m \u001b[0;36m100\u001b[0m \u001b[0;34m*\u001b[0m \u001b[0;34m(\u001b[0m\u001b[0;34m(\u001b[0m\u001b[0mshortTermPortfolioVal\u001b[0m\u001b[0;34m[\u001b[0m\u001b[0;34m'Total'\u001b[0m\u001b[0;34m]\u001b[0m\u001b[0;34m[\u001b[0m\u001b[0;34m-\u001b[0m\u001b[0;36m1\u001b[0m\u001b[0;34m]\u001b[0m\u001b[0;34m/\u001b[0m\u001b[0mshortTermPortfolioVal\u001b[0m\u001b[0;34m[\u001b[0m\u001b[0;34m'Total'\u001b[0m\u001b[0;34m]\u001b[0m\u001b[0;34m[\u001b[0m\u001b[0;36m0\u001b[0m\u001b[0;34m]\u001b[0m\u001b[0;34m)\u001b[0m\u001b[0;34m)\u001b[0m\u001b[0;34m\u001b[0m\u001b[0;34m\u001b[0m\u001b[0m\n\u001b[0m",
            "\u001b[0;32m/usr/local/lib/python3.6/dist-packages/pandas/core/series.py\u001b[0m in \u001b[0;36m__getitem__\u001b[0;34m(self, key)\u001b[0m\n\u001b[1;32m    869\u001b[0m         \u001b[0mkey\u001b[0m \u001b[0;34m=\u001b[0m \u001b[0mcom\u001b[0m\u001b[0;34m.\u001b[0m\u001b[0mapply_if_callable\u001b[0m\u001b[0;34m(\u001b[0m\u001b[0mkey\u001b[0m\u001b[0;34m,\u001b[0m \u001b[0mself\u001b[0m\u001b[0;34m)\u001b[0m\u001b[0;34m\u001b[0m\u001b[0;34m\u001b[0m\u001b[0m\n\u001b[1;32m    870\u001b[0m         \u001b[0;32mtry\u001b[0m\u001b[0;34m:\u001b[0m\u001b[0;34m\u001b[0m\u001b[0;34m\u001b[0m\u001b[0m\n\u001b[0;32m--> 871\u001b[0;31m             \u001b[0mresult\u001b[0m \u001b[0;34m=\u001b[0m \u001b[0mself\u001b[0m\u001b[0;34m.\u001b[0m\u001b[0mindex\u001b[0m\u001b[0;34m.\u001b[0m\u001b[0mget_value\u001b[0m\u001b[0;34m(\u001b[0m\u001b[0mself\u001b[0m\u001b[0;34m,\u001b[0m \u001b[0mkey\u001b[0m\u001b[0;34m)\u001b[0m\u001b[0;34m\u001b[0m\u001b[0;34m\u001b[0m\u001b[0m\n\u001b[0m\u001b[1;32m    872\u001b[0m \u001b[0;34m\u001b[0m\u001b[0m\n\u001b[1;32m    873\u001b[0m             \u001b[0;32mif\u001b[0m \u001b[0;32mnot\u001b[0m \u001b[0mis_scalar\u001b[0m\u001b[0;34m(\u001b[0m\u001b[0mresult\u001b[0m\u001b[0;34m)\u001b[0m\u001b[0;34m:\u001b[0m\u001b[0;34m\u001b[0m\u001b[0;34m\u001b[0m\u001b[0m\n",
            "\u001b[0;32m/usr/local/lib/python3.6/dist-packages/pandas/core/indexes/base.py\u001b[0m in \u001b[0;36mget_value\u001b[0;34m(self, series, key)\u001b[0m\n\u001b[1;32m   4402\u001b[0m         \u001b[0mk\u001b[0m \u001b[0;34m=\u001b[0m \u001b[0mself\u001b[0m\u001b[0;34m.\u001b[0m\u001b[0m_convert_scalar_indexer\u001b[0m\u001b[0;34m(\u001b[0m\u001b[0mk\u001b[0m\u001b[0;34m,\u001b[0m \u001b[0mkind\u001b[0m\u001b[0;34m=\u001b[0m\u001b[0;34m\"getitem\"\u001b[0m\u001b[0;34m)\u001b[0m\u001b[0;34m\u001b[0m\u001b[0;34m\u001b[0m\u001b[0m\n\u001b[1;32m   4403\u001b[0m         \u001b[0;32mtry\u001b[0m\u001b[0;34m:\u001b[0m\u001b[0;34m\u001b[0m\u001b[0;34m\u001b[0m\u001b[0m\n\u001b[0;32m-> 4404\u001b[0;31m             \u001b[0;32mreturn\u001b[0m \u001b[0mself\u001b[0m\u001b[0;34m.\u001b[0m\u001b[0m_engine\u001b[0m\u001b[0;34m.\u001b[0m\u001b[0mget_value\u001b[0m\u001b[0;34m(\u001b[0m\u001b[0ms\u001b[0m\u001b[0;34m,\u001b[0m \u001b[0mk\u001b[0m\u001b[0;34m,\u001b[0m \u001b[0mtz\u001b[0m\u001b[0;34m=\u001b[0m\u001b[0mgetattr\u001b[0m\u001b[0;34m(\u001b[0m\u001b[0mseries\u001b[0m\u001b[0;34m.\u001b[0m\u001b[0mdtype\u001b[0m\u001b[0;34m,\u001b[0m \u001b[0;34m\"tz\"\u001b[0m\u001b[0;34m,\u001b[0m \u001b[0;32mNone\u001b[0m\u001b[0;34m)\u001b[0m\u001b[0;34m)\u001b[0m\u001b[0;34m\u001b[0m\u001b[0;34m\u001b[0m\u001b[0m\n\u001b[0m\u001b[1;32m   4405\u001b[0m         \u001b[0;32mexcept\u001b[0m \u001b[0mKeyError\u001b[0m \u001b[0;32mas\u001b[0m \u001b[0me1\u001b[0m\u001b[0;34m:\u001b[0m\u001b[0;34m\u001b[0m\u001b[0;34m\u001b[0m\u001b[0m\n\u001b[1;32m   4406\u001b[0m             \u001b[0;32mif\u001b[0m \u001b[0mlen\u001b[0m\u001b[0;34m(\u001b[0m\u001b[0mself\u001b[0m\u001b[0;34m)\u001b[0m \u001b[0;34m>\u001b[0m \u001b[0;36m0\u001b[0m \u001b[0;32mand\u001b[0m \u001b[0;34m(\u001b[0m\u001b[0mself\u001b[0m\u001b[0;34m.\u001b[0m\u001b[0mholds_integer\u001b[0m\u001b[0;34m(\u001b[0m\u001b[0;34m)\u001b[0m \u001b[0;32mor\u001b[0m \u001b[0mself\u001b[0m\u001b[0;34m.\u001b[0m\u001b[0mis_boolean\u001b[0m\u001b[0;34m(\u001b[0m\u001b[0;34m)\u001b[0m\u001b[0;34m)\u001b[0m\u001b[0;34m:\u001b[0m\u001b[0;34m\u001b[0m\u001b[0;34m\u001b[0m\u001b[0m\n",
            "\u001b[0;32mpandas/_libs/index.pyx\u001b[0m in \u001b[0;36mpandas._libs.index.IndexEngine.get_value\u001b[0;34m()\u001b[0m\n",
            "\u001b[0;32mpandas/_libs/index.pyx\u001b[0m in \u001b[0;36mpandas._libs.index.IndexEngine.get_value\u001b[0;34m()\u001b[0m\n",
            "\u001b[0;32mpandas/_libs/index.pyx\u001b[0m in \u001b[0;36mpandas._libs.index.IndexEngine.get_loc\u001b[0;34m()\u001b[0m\n",
            "\u001b[0;32mpandas/_libs/hashtable_class_helper.pxi\u001b[0m in \u001b[0;36mpandas._libs.hashtable.Int64HashTable.get_item\u001b[0;34m()\u001b[0m\n",
            "\u001b[0;32mpandas/_libs/hashtable_class_helper.pxi\u001b[0m in \u001b[0;36mpandas._libs.hashtable.Int64HashTable.get_item\u001b[0;34m()\u001b[0m\n",
            "\u001b[0;31mKeyError\u001b[0m: -1"
          ]
        }
      ]
    },
    {
      "cell_type": "code",
      "metadata": {
        "id": "AYYG7EV1lEOM",
        "colab_type": "code",
        "colab": {
          "base_uri": "https://localhost:8080/",
          "height": 458
        },
        "outputId": "42c419cd-3406-422b-d971-09a3c90bf711"
      },
      "source": [
        "cum_return = 100 * ((shortTermPortfolioVal['Total'][365]/shortTermPortfolioVal['Total'][0]) - 1)\n"
      ],
      "execution_count": 51,
      "outputs": [
        {
          "output_type": "error",
          "ename": "KeyError",
          "evalue": "ignored",
          "traceback": [
            "\u001b[0;31m---------------------------------------------------------------------------\u001b[0m",
            "\u001b[0;31mKeyError\u001b[0m                                  Traceback (most recent call last)",
            "\u001b[0;32m<ipython-input-51-38227cf266d0>\u001b[0m in \u001b[0;36m<module>\u001b[0;34m()\u001b[0m\n\u001b[0;32m----> 1\u001b[0;31m \u001b[0mcum_return\u001b[0m \u001b[0;34m=\u001b[0m \u001b[0;36m100\u001b[0m \u001b[0;34m*\u001b[0m \u001b[0;34m(\u001b[0m\u001b[0;34m(\u001b[0m\u001b[0mshortTermPortfolioVal\u001b[0m\u001b[0;34m[\u001b[0m\u001b[0;34m'Total'\u001b[0m\u001b[0;34m]\u001b[0m\u001b[0;34m[\u001b[0m\u001b[0;36m365\u001b[0m\u001b[0;34m]\u001b[0m\u001b[0;34m/\u001b[0m\u001b[0mshortTermPortfolioVal\u001b[0m\u001b[0;34m[\u001b[0m\u001b[0;34m'Total'\u001b[0m\u001b[0;34m]\u001b[0m\u001b[0;34m[\u001b[0m\u001b[0;36m0\u001b[0m\u001b[0;34m]\u001b[0m\u001b[0;34m)\u001b[0m \u001b[0;34m-\u001b[0m \u001b[0;36m1\u001b[0m\u001b[0;34m)\u001b[0m\u001b[0;34m\u001b[0m\u001b[0;34m\u001b[0m\u001b[0m\n\u001b[0m",
            "\u001b[0;32m/usr/local/lib/python3.6/dist-packages/pandas/core/series.py\u001b[0m in \u001b[0;36m__getitem__\u001b[0;34m(self, key)\u001b[0m\n\u001b[1;32m    869\u001b[0m         \u001b[0mkey\u001b[0m \u001b[0;34m=\u001b[0m \u001b[0mcom\u001b[0m\u001b[0;34m.\u001b[0m\u001b[0mapply_if_callable\u001b[0m\u001b[0;34m(\u001b[0m\u001b[0mkey\u001b[0m\u001b[0;34m,\u001b[0m \u001b[0mself\u001b[0m\u001b[0;34m)\u001b[0m\u001b[0;34m\u001b[0m\u001b[0;34m\u001b[0m\u001b[0m\n\u001b[1;32m    870\u001b[0m         \u001b[0;32mtry\u001b[0m\u001b[0;34m:\u001b[0m\u001b[0;34m\u001b[0m\u001b[0;34m\u001b[0m\u001b[0m\n\u001b[0;32m--> 871\u001b[0;31m             \u001b[0mresult\u001b[0m \u001b[0;34m=\u001b[0m \u001b[0mself\u001b[0m\u001b[0;34m.\u001b[0m\u001b[0mindex\u001b[0m\u001b[0;34m.\u001b[0m\u001b[0mget_value\u001b[0m\u001b[0;34m(\u001b[0m\u001b[0mself\u001b[0m\u001b[0;34m,\u001b[0m \u001b[0mkey\u001b[0m\u001b[0;34m)\u001b[0m\u001b[0;34m\u001b[0m\u001b[0;34m\u001b[0m\u001b[0m\n\u001b[0m\u001b[1;32m    872\u001b[0m \u001b[0;34m\u001b[0m\u001b[0m\n\u001b[1;32m    873\u001b[0m             \u001b[0;32mif\u001b[0m \u001b[0;32mnot\u001b[0m \u001b[0mis_scalar\u001b[0m\u001b[0;34m(\u001b[0m\u001b[0mresult\u001b[0m\u001b[0;34m)\u001b[0m\u001b[0;34m:\u001b[0m\u001b[0;34m\u001b[0m\u001b[0;34m\u001b[0m\u001b[0m\n",
            "\u001b[0;32m/usr/local/lib/python3.6/dist-packages/pandas/core/indexes/base.py\u001b[0m in \u001b[0;36mget_value\u001b[0;34m(self, series, key)\u001b[0m\n\u001b[1;32m   4402\u001b[0m         \u001b[0mk\u001b[0m \u001b[0;34m=\u001b[0m \u001b[0mself\u001b[0m\u001b[0;34m.\u001b[0m\u001b[0m_convert_scalar_indexer\u001b[0m\u001b[0;34m(\u001b[0m\u001b[0mk\u001b[0m\u001b[0;34m,\u001b[0m \u001b[0mkind\u001b[0m\u001b[0;34m=\u001b[0m\u001b[0;34m\"getitem\"\u001b[0m\u001b[0;34m)\u001b[0m\u001b[0;34m\u001b[0m\u001b[0;34m\u001b[0m\u001b[0m\n\u001b[1;32m   4403\u001b[0m         \u001b[0;32mtry\u001b[0m\u001b[0;34m:\u001b[0m\u001b[0;34m\u001b[0m\u001b[0;34m\u001b[0m\u001b[0m\n\u001b[0;32m-> 4404\u001b[0;31m             \u001b[0;32mreturn\u001b[0m \u001b[0mself\u001b[0m\u001b[0;34m.\u001b[0m\u001b[0m_engine\u001b[0m\u001b[0;34m.\u001b[0m\u001b[0mget_value\u001b[0m\u001b[0;34m(\u001b[0m\u001b[0ms\u001b[0m\u001b[0;34m,\u001b[0m \u001b[0mk\u001b[0m\u001b[0;34m,\u001b[0m \u001b[0mtz\u001b[0m\u001b[0;34m=\u001b[0m\u001b[0mgetattr\u001b[0m\u001b[0;34m(\u001b[0m\u001b[0mseries\u001b[0m\u001b[0;34m.\u001b[0m\u001b[0mdtype\u001b[0m\u001b[0;34m,\u001b[0m \u001b[0;34m\"tz\"\u001b[0m\u001b[0;34m,\u001b[0m \u001b[0;32mNone\u001b[0m\u001b[0;34m)\u001b[0m\u001b[0;34m)\u001b[0m\u001b[0;34m\u001b[0m\u001b[0;34m\u001b[0m\u001b[0m\n\u001b[0m\u001b[1;32m   4405\u001b[0m         \u001b[0;32mexcept\u001b[0m \u001b[0mKeyError\u001b[0m \u001b[0;32mas\u001b[0m \u001b[0me1\u001b[0m\u001b[0;34m:\u001b[0m\u001b[0;34m\u001b[0m\u001b[0;34m\u001b[0m\u001b[0m\n\u001b[1;32m   4406\u001b[0m             \u001b[0;32mif\u001b[0m \u001b[0mlen\u001b[0m\u001b[0;34m(\u001b[0m\u001b[0mself\u001b[0m\u001b[0;34m)\u001b[0m \u001b[0;34m>\u001b[0m \u001b[0;36m0\u001b[0m \u001b[0;32mand\u001b[0m \u001b[0;34m(\u001b[0m\u001b[0mself\u001b[0m\u001b[0;34m.\u001b[0m\u001b[0mholds_integer\u001b[0m\u001b[0;34m(\u001b[0m\u001b[0;34m)\u001b[0m \u001b[0;32mor\u001b[0m \u001b[0mself\u001b[0m\u001b[0;34m.\u001b[0m\u001b[0mis_boolean\u001b[0m\u001b[0;34m(\u001b[0m\u001b[0;34m)\u001b[0m\u001b[0;34m)\u001b[0m\u001b[0;34m:\u001b[0m\u001b[0;34m\u001b[0m\u001b[0;34m\u001b[0m\u001b[0m\n",
            "\u001b[0;32mpandas/_libs/index.pyx\u001b[0m in \u001b[0;36mpandas._libs.index.IndexEngine.get_value\u001b[0;34m()\u001b[0m\n",
            "\u001b[0;32mpandas/_libs/index.pyx\u001b[0m in \u001b[0;36mpandas._libs.index.IndexEngine.get_value\u001b[0;34m()\u001b[0m\n",
            "\u001b[0;32mpandas/_libs/index.pyx\u001b[0m in \u001b[0;36mpandas._libs.index.IndexEngine.get_loc\u001b[0;34m()\u001b[0m\n",
            "\u001b[0;32mpandas/_libs/hashtable_class_helper.pxi\u001b[0m in \u001b[0;36mpandas._libs.hashtable.Int64HashTable.get_item\u001b[0;34m()\u001b[0m\n",
            "\u001b[0;32mpandas/_libs/hashtable_class_helper.pxi\u001b[0m in \u001b[0;36mpandas._libs.hashtable.Int64HashTable.get_item\u001b[0;34m()\u001b[0m\n",
            "\u001b[0;31mKeyError\u001b[0m: 0"
          ]
        }
      ]
    },
    {
      "cell_type": "code",
      "metadata": {
        "id": "2WueLqndlNSj",
        "colab_type": "code",
        "colab": {
          "base_uri": "https://localhost:8080/",
          "height": 191
        },
        "outputId": "b9c3979c-d746-454c-b1bd-85a049488c76"
      },
      "source": [
        "shortTermPortfolioVal.tail()"
      ],
      "execution_count": 52,
      "outputs": [
        {
          "output_type": "execute_result",
          "data": {
            "text/html": [
              "<div>\n",
              "<style scoped>\n",
              "    .dataframe tbody tr th:only-of-type {\n",
              "        vertical-align: middle;\n",
              "    }\n",
              "\n",
              "    .dataframe tbody tr th {\n",
              "        vertical-align: top;\n",
              "    }\n",
              "\n",
              "    .dataframe thead th {\n",
              "        text-align: right;\n",
              "    }\n",
              "</style>\n",
              "<table border=\"1\" class=\"dataframe\">\n",
              "  <thead>\n",
              "    <tr style=\"text-align: right;\">\n",
              "      <th></th>\n",
              "      <th>FB</th>\n",
              "      <th>IBM</th>\n",
              "      <th>AMZN</th>\n",
              "      <th>GOOGL</th>\n",
              "      <th>AAPL</th>\n",
              "      <th>Total</th>\n",
              "      <th>Daily Return</th>\n",
              "    </tr>\n",
              "  </thead>\n",
              "  <tbody>\n",
              "    <tr>\n",
              "      <th>5</th>\n",
              "      <td>91646.221209</td>\n",
              "      <td>21721.641191</td>\n",
              "      <td>8.681513e+05</td>\n",
              "      <td>240508.297204</td>\n",
              "      <td>43269.556793</td>\n",
              "      <td>1.265297e+06</td>\n",
              "      <td>0.000786</td>\n",
              "    </tr>\n",
              "    <tr>\n",
              "      <th>4</th>\n",
              "      <td>91436.971317</td>\n",
              "      <td>21659.068562</td>\n",
              "      <td>9.217467e+05</td>\n",
              "      <td>241273.732994</td>\n",
              "      <td>44118.834262</td>\n",
              "      <td>1.320235e+06</td>\n",
              "      <td>0.043419</td>\n",
              "    </tr>\n",
              "    <tr>\n",
              "      <th>3</th>\n",
              "      <td>93205.132900</td>\n",
              "      <td>22152.498436</td>\n",
              "      <td>9.703867e+05</td>\n",
              "      <td>252201.126227</td>\n",
              "      <td>46346.976669</td>\n",
              "      <td>1.384292e+06</td>\n",
              "      <td>0.048520</td>\n",
              "    </tr>\n",
              "    <tr>\n",
              "      <th>2</th>\n",
              "      <td>92577.383225</td>\n",
              "      <td>21219.272370</td>\n",
              "      <td>9.807395e+05</td>\n",
              "      <td>250620.421588</td>\n",
              "      <td>45923.952531</td>\n",
              "      <td>1.391081e+06</td>\n",
              "      <td>0.004904</td>\n",
              "    </tr>\n",
              "    <tr>\n",
              "      <th>1</th>\n",
              "      <td>92200.733421</td>\n",
              "      <td>20690.086708</td>\n",
              "      <td>1.023455e+06</td>\n",
              "      <td>250646.334778</td>\n",
              "      <td>46288.851215</td>\n",
              "      <td>1.433281e+06</td>\n",
              "      <td>0.030337</td>\n",
              "    </tr>\n",
              "  </tbody>\n",
              "</table>\n",
              "</div>"
            ],
            "text/plain": [
              "             FB           IBM  ...         Total  Daily Return\n",
              "5  91646.221209  21721.641191  ...  1.265297e+06      0.000786\n",
              "4  91436.971317  21659.068562  ...  1.320235e+06      0.043419\n",
              "3  93205.132900  22152.498436  ...  1.384292e+06      0.048520\n",
              "2  92577.383225  21219.272370  ...  1.391081e+06      0.004904\n",
              "1  92200.733421  20690.086708  ...  1.433281e+06      0.030337\n",
              "\n",
              "[5 rows x 7 columns]"
            ]
          },
          "metadata": {
            "tags": []
          },
          "execution_count": 52
        }
      ]
    },
    {
      "cell_type": "code",
      "metadata": {
        "id": "5sVqw7cwlUe_",
        "colab_type": "code",
        "colab": {}
      },
      "source": [
        "cum_return = 100 * ((shortTermPortfolioVal['Total'][365]/shortTermPortfolioVal['Total'][1]) - 1)\n"
      ],
      "execution_count": 0,
      "outputs": []
    },
    {
      "cell_type": "code",
      "metadata": {
        "id": "Y7Ukf9OflXOd",
        "colab_type": "code",
        "colab": {
          "base_uri": "https://localhost:8080/",
          "height": 33
        },
        "outputId": "0dcb281f-ff41-46d6-e735-fcb561eb0145"
      },
      "source": [
        "cum_return"
      ],
      "execution_count": 54,
      "outputs": [
        {
          "output_type": "execute_result",
          "data": {
            "text/plain": [
              "-26.01215507676923"
            ]
          },
          "metadata": {
            "tags": []
          },
          "execution_count": 54
        }
      ]
    },
    {
      "cell_type": "code",
      "metadata": {
        "id": "qzgPsEO-lZNL",
        "colab_type": "code",
        "colab": {
          "base_uri": "https://localhost:8080/",
          "height": 458
        },
        "outputId": "e90682bc-4548-4516-c6cd-45a709d8081e"
      },
      "source": [
        "cum_return = 100 * ((shortTermPortfolioVal['Total'][0]/shortTermPortfolioVal['Total'][365]) - 1)\n"
      ],
      "execution_count": 55,
      "outputs": [
        {
          "output_type": "error",
          "ename": "KeyError",
          "evalue": "ignored",
          "traceback": [
            "\u001b[0;31m---------------------------------------------------------------------------\u001b[0m",
            "\u001b[0;31mKeyError\u001b[0m                                  Traceback (most recent call last)",
            "\u001b[0;32m<ipython-input-55-b26fa405d7ef>\u001b[0m in \u001b[0;36m<module>\u001b[0;34m()\u001b[0m\n\u001b[0;32m----> 1\u001b[0;31m \u001b[0mcum_return\u001b[0m \u001b[0;34m=\u001b[0m \u001b[0;36m100\u001b[0m \u001b[0;34m*\u001b[0m \u001b[0;34m(\u001b[0m\u001b[0;34m(\u001b[0m\u001b[0mshortTermPortfolioVal\u001b[0m\u001b[0;34m[\u001b[0m\u001b[0;34m'Total'\u001b[0m\u001b[0;34m]\u001b[0m\u001b[0;34m[\u001b[0m\u001b[0;36m0\u001b[0m\u001b[0;34m]\u001b[0m\u001b[0;34m/\u001b[0m\u001b[0mshortTermPortfolioVal\u001b[0m\u001b[0;34m[\u001b[0m\u001b[0;34m'Total'\u001b[0m\u001b[0;34m]\u001b[0m\u001b[0;34m[\u001b[0m\u001b[0;36m365\u001b[0m\u001b[0;34m]\u001b[0m\u001b[0;34m)\u001b[0m \u001b[0;34m-\u001b[0m \u001b[0;36m1\u001b[0m\u001b[0;34m)\u001b[0m\u001b[0;34m\u001b[0m\u001b[0;34m\u001b[0m\u001b[0m\n\u001b[0m",
            "\u001b[0;32m/usr/local/lib/python3.6/dist-packages/pandas/core/series.py\u001b[0m in \u001b[0;36m__getitem__\u001b[0;34m(self, key)\u001b[0m\n\u001b[1;32m    869\u001b[0m         \u001b[0mkey\u001b[0m \u001b[0;34m=\u001b[0m \u001b[0mcom\u001b[0m\u001b[0;34m.\u001b[0m\u001b[0mapply_if_callable\u001b[0m\u001b[0;34m(\u001b[0m\u001b[0mkey\u001b[0m\u001b[0;34m,\u001b[0m \u001b[0mself\u001b[0m\u001b[0;34m)\u001b[0m\u001b[0;34m\u001b[0m\u001b[0;34m\u001b[0m\u001b[0m\n\u001b[1;32m    870\u001b[0m         \u001b[0;32mtry\u001b[0m\u001b[0;34m:\u001b[0m\u001b[0;34m\u001b[0m\u001b[0;34m\u001b[0m\u001b[0m\n\u001b[0;32m--> 871\u001b[0;31m             \u001b[0mresult\u001b[0m \u001b[0;34m=\u001b[0m \u001b[0mself\u001b[0m\u001b[0;34m.\u001b[0m\u001b[0mindex\u001b[0m\u001b[0;34m.\u001b[0m\u001b[0mget_value\u001b[0m\u001b[0;34m(\u001b[0m\u001b[0mself\u001b[0m\u001b[0;34m,\u001b[0m \u001b[0mkey\u001b[0m\u001b[0;34m)\u001b[0m\u001b[0;34m\u001b[0m\u001b[0;34m\u001b[0m\u001b[0m\n\u001b[0m\u001b[1;32m    872\u001b[0m \u001b[0;34m\u001b[0m\u001b[0m\n\u001b[1;32m    873\u001b[0m             \u001b[0;32mif\u001b[0m \u001b[0;32mnot\u001b[0m \u001b[0mis_scalar\u001b[0m\u001b[0;34m(\u001b[0m\u001b[0mresult\u001b[0m\u001b[0;34m)\u001b[0m\u001b[0;34m:\u001b[0m\u001b[0;34m\u001b[0m\u001b[0;34m\u001b[0m\u001b[0m\n",
            "\u001b[0;32m/usr/local/lib/python3.6/dist-packages/pandas/core/indexes/base.py\u001b[0m in \u001b[0;36mget_value\u001b[0;34m(self, series, key)\u001b[0m\n\u001b[1;32m   4402\u001b[0m         \u001b[0mk\u001b[0m \u001b[0;34m=\u001b[0m \u001b[0mself\u001b[0m\u001b[0;34m.\u001b[0m\u001b[0m_convert_scalar_indexer\u001b[0m\u001b[0;34m(\u001b[0m\u001b[0mk\u001b[0m\u001b[0;34m,\u001b[0m \u001b[0mkind\u001b[0m\u001b[0;34m=\u001b[0m\u001b[0;34m\"getitem\"\u001b[0m\u001b[0;34m)\u001b[0m\u001b[0;34m\u001b[0m\u001b[0;34m\u001b[0m\u001b[0m\n\u001b[1;32m   4403\u001b[0m         \u001b[0;32mtry\u001b[0m\u001b[0;34m:\u001b[0m\u001b[0;34m\u001b[0m\u001b[0;34m\u001b[0m\u001b[0m\n\u001b[0;32m-> 4404\u001b[0;31m             \u001b[0;32mreturn\u001b[0m \u001b[0mself\u001b[0m\u001b[0;34m.\u001b[0m\u001b[0m_engine\u001b[0m\u001b[0;34m.\u001b[0m\u001b[0mget_value\u001b[0m\u001b[0;34m(\u001b[0m\u001b[0ms\u001b[0m\u001b[0;34m,\u001b[0m \u001b[0mk\u001b[0m\u001b[0;34m,\u001b[0m \u001b[0mtz\u001b[0m\u001b[0;34m=\u001b[0m\u001b[0mgetattr\u001b[0m\u001b[0;34m(\u001b[0m\u001b[0mseries\u001b[0m\u001b[0;34m.\u001b[0m\u001b[0mdtype\u001b[0m\u001b[0;34m,\u001b[0m \u001b[0;34m\"tz\"\u001b[0m\u001b[0;34m,\u001b[0m \u001b[0;32mNone\u001b[0m\u001b[0;34m)\u001b[0m\u001b[0;34m)\u001b[0m\u001b[0;34m\u001b[0m\u001b[0;34m\u001b[0m\u001b[0m\n\u001b[0m\u001b[1;32m   4405\u001b[0m         \u001b[0;32mexcept\u001b[0m \u001b[0mKeyError\u001b[0m \u001b[0;32mas\u001b[0m \u001b[0me1\u001b[0m\u001b[0;34m:\u001b[0m\u001b[0;34m\u001b[0m\u001b[0;34m\u001b[0m\u001b[0m\n\u001b[1;32m   4406\u001b[0m             \u001b[0;32mif\u001b[0m \u001b[0mlen\u001b[0m\u001b[0;34m(\u001b[0m\u001b[0mself\u001b[0m\u001b[0;34m)\u001b[0m \u001b[0;34m>\u001b[0m \u001b[0;36m0\u001b[0m \u001b[0;32mand\u001b[0m \u001b[0;34m(\u001b[0m\u001b[0mself\u001b[0m\u001b[0;34m.\u001b[0m\u001b[0mholds_integer\u001b[0m\u001b[0;34m(\u001b[0m\u001b[0;34m)\u001b[0m \u001b[0;32mor\u001b[0m \u001b[0mself\u001b[0m\u001b[0;34m.\u001b[0m\u001b[0mis_boolean\u001b[0m\u001b[0;34m(\u001b[0m\u001b[0;34m)\u001b[0m\u001b[0;34m)\u001b[0m\u001b[0;34m:\u001b[0m\u001b[0;34m\u001b[0m\u001b[0;34m\u001b[0m\u001b[0m\n",
            "\u001b[0;32mpandas/_libs/index.pyx\u001b[0m in \u001b[0;36mpandas._libs.index.IndexEngine.get_value\u001b[0;34m()\u001b[0m\n",
            "\u001b[0;32mpandas/_libs/index.pyx\u001b[0m in \u001b[0;36mpandas._libs.index.IndexEngine.get_value\u001b[0;34m()\u001b[0m\n",
            "\u001b[0;32mpandas/_libs/index.pyx\u001b[0m in \u001b[0;36mpandas._libs.index.IndexEngine.get_loc\u001b[0;34m()\u001b[0m\n",
            "\u001b[0;32mpandas/_libs/hashtable_class_helper.pxi\u001b[0m in \u001b[0;36mpandas._libs.hashtable.Int64HashTable.get_item\u001b[0;34m()\u001b[0m\n",
            "\u001b[0;32mpandas/_libs/hashtable_class_helper.pxi\u001b[0m in \u001b[0;36mpandas._libs.hashtable.Int64HashTable.get_item\u001b[0;34m()\u001b[0m\n",
            "\u001b[0;31mKeyError\u001b[0m: 0"
          ]
        }
      ]
    },
    {
      "cell_type": "code",
      "metadata": {
        "id": "asvkOcsAleh-",
        "colab_type": "code",
        "colab": {}
      },
      "source": [
        "cum_return = 100 * ((shortTermPortfolioVal['Total'][1]/shortTermPortfolioVal['Total'][365]) - 1)\n"
      ],
      "execution_count": 0,
      "outputs": []
    },
    {
      "cell_type": "code",
      "metadata": {
        "id": "_n7feTmFliyT",
        "colab_type": "code",
        "colab": {
          "base_uri": "https://localhost:8080/",
          "height": 33
        },
        "outputId": "5120cf36-8e28-47c6-95b8-52009a417dad"
      },
      "source": [
        "cum_return"
      ],
      "execution_count": 57,
      "outputs": [
        {
          "output_type": "execute_result",
          "data": {
            "text/plain": [
              "35.1573357809776"
            ]
          },
          "metadata": {
            "tags": []
          },
          "execution_count": 57
        }
      ]
    },
    {
      "cell_type": "markdown",
      "metadata": {
        "id": "0FPlTIM-lwbL",
        "colab_type": "text"
      },
      "source": [
        "As we can see, our total return was about 35.2% in the past year. This is close to our rough estimate of about 27%"
      ]
    },
    {
      "cell_type": "code",
      "metadata": {
        "id": "R_6ZqOuHlkJe",
        "colab_type": "code",
        "colab": {}
      },
      "source": [
        "sharpe_ratio_all_time = portfolioVal['Daily Return'].mean() / portfolioVal['Daily Return'].std()\n"
      ],
      "execution_count": 0,
      "outputs": []
    },
    {
      "cell_type": "code",
      "metadata": {
        "id": "AmX1pAlymBgI",
        "colab_type": "code",
        "colab": {}
      },
      "source": [
        "sharpe_ratio = shortTermPortfolioVal['Daily Return'].mean() / shortTermPortfolioVal['Daily Return'].std()\n"
      ],
      "execution_count": 0,
      "outputs": []
    },
    {
      "cell_type": "code",
      "metadata": {
        "id": "gVNspuVimEgy",
        "colab_type": "code",
        "colab": {
          "base_uri": "https://localhost:8080/",
          "height": 33
        },
        "outputId": "a2874bb8-448c-4a90-ea15-c0317fd7d729"
      },
      "source": [
        "sharpe_ratio_all_time"
      ],
      "execution_count": 60,
      "outputs": [
        {
          "output_type": "execute_result",
          "data": {
            "text/plain": [
              "0.04029958841139702"
            ]
          },
          "metadata": {
            "tags": []
          },
          "execution_count": 60
        }
      ]
    },
    {
      "cell_type": "code",
      "metadata": {
        "id": "fY1Rbqj5mHAt",
        "colab_type": "code",
        "colab": {
          "base_uri": "https://localhost:8080/",
          "height": 33
        },
        "outputId": "23259c3b-d20e-4d90-cc9c-29616c1970ab"
      },
      "source": [
        "sharpe_ratio"
      ],
      "execution_count": 61,
      "outputs": [
        {
          "output_type": "execute_result",
          "data": {
            "text/plain": [
              "0.05208520175278391"
            ]
          },
          "metadata": {
            "tags": []
          },
          "execution_count": 61
        }
      ]
    },
    {
      "cell_type": "markdown",
      "metadata": {
        "id": "PVBDLGhUmOYF",
        "colab_type": "text"
      },
      "source": [
        "Something about our math here doesn't add up, as a Sharpe Ratio of above 1 is good. We'll try it again in a different notebook, and we'll make sure to reverse the dates in the first go, and collect two seperate dataframes, for all time and for short term (1 year)"
      ]
    },
    {
      "cell_type": "code",
      "metadata": {
        "id": "hX8igPOzmH4c",
        "colab_type": "code",
        "colab": {}
      },
      "source": [
        ""
      ],
      "execution_count": 0,
      "outputs": []
    }
  ]
}